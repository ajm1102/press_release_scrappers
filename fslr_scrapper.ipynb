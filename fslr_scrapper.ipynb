{
 "cells": [
  {
   "cell_type": "code",
   "execution_count": 1,
   "id": "6b9b45a8",
   "metadata": {},
   "outputs": [
    {
     "name": "stderr",
     "output_type": "stream",
     "text": [
      "C:\\Users\\Aidan\\miniconda3\\envs\\myenv\\lib\\site-packages\\tqdm\\auto.py:21: TqdmWarning: IProgress not found. Please update jupyter and ipywidgets. See https://ipywidgets.readthedocs.io/en/stable/user_install.html\n",
      "  from .autonotebook import tqdm as notebook_tqdm\n"
     ]
    }
   ],
   "source": [
    "import requests\n",
    "from bs4 import BeautifulSoup\n",
    "import yfinance as yf\n",
    "from datetime import datetime\n",
    "from datetime import timedelta\n",
    "import pandas as pd\n",
    "import json\n",
    "import numpy as np\n",
    "\n",
    "from functions import (get_sector, changes_from_press, get_content_header,\n",
    "                       get_df, normalise_to_index, save_data)\n"
   ]
  },
  {
   "cell_type": "code",
   "execution_count": 2,
   "id": "28b19280",
   "metadata": {},
   "outputs": [],
   "source": [
    "data = []\n",
    "\n",
    "\n",
    "offset = 100\n",
    "\n",
    "ticker = 'fslr'\n",
    "sector = get_sector(ticker)\n",
    "\n",
    "index_ticker = '^GSPC'\n",
    "\n",
    "stock_hist = get_df(ticker)\n",
    "index_hist = get_df(index_ticker)\n",
    "\n",
    "year = datetime.today().year\n",
    "\n",
    "years = np.arange(year, 2014, -1)\n",
    "\n",
    "# create break\n",
    "for year in years:\n",
    "    \n",
    "    headers = {\"User-Agent\": \"Mozilla/5.0 (Windows NT 10.0; Win64; x64) AppleWebKit/537.36 (KHTML, like Gecko) Chrome/94.0.4606.81 Safari/537.36\"}\n",
    "    \n",
    "    s = requests.Session()\n",
    "    html = requests.get(f'https://investor.firstsolar.com/news/{year}/default.aspx', headers=headers)\n",
    "    \n",
    "\n",
    "    soup = BeautifulSoup(html.content) \n",
    "\n",
    "    articles = soup.find_all('div',attrs={'class':'module_item'})\n",
    "    \n",
    "    if not articles:\n",
    "        break\n",
    "        \n",
    "    for article in articles:\n",
    "        date = article.find('span', attrs={'class':'module_date-text'}).text.lstrip()\n",
    "        title = article.find('a', attrs={'class':'module_headline-link'}).text\n",
    "        url = article.find('a', attrs={'class':'module_headline-link'}).get('href')\n",
    "        \n",
    "        date = date.lstrip().rstrip()    # remove starting and trailing whitespaces\n",
    "        title = title.lstrip().rstrip() \n",
    "        \n",
    "        date = date.replace(',', '')\n",
    "        \n",
    "        date = datetime.strptime(date, '%B %d %Y').date()\n",
    "        \n",
    "        pct_change = changes_from_press(stock_hist, date, 1)\n",
    "\n",
    "        content = get_content_header(url, 'meta', {'name':'twitter:description'})\n",
    "        \n",
    "        if pct_change != None:\n",
    "            index_price, norm_price = normalise_to_index(pct_change, date, index_hist)\n",
    "        else:\n",
    "            index_price, norm_price = (None, None)\n",
    "\n",
    "        data.append([str(date), title, url, content, pct_change, index_price, norm_price])\n",
    "    \n",
    "    offset = offset + 100\n",
    "    \n",
    "save_data(data, ticker, sector)"
   ]
  },
  {
   "cell_type": "code",
   "execution_count": null,
   "id": "0af267c2",
   "metadata": {},
   "outputs": [],
   "source": []
  }
 ],
 "metadata": {
  "kernelspec": {
   "display_name": "Python 3 (ipykernel)",
   "language": "python",
   "name": "python3"
  },
  "language_info": {
   "codemirror_mode": {
    "name": "ipython",
    "version": 3
   },
   "file_extension": ".py",
   "mimetype": "text/x-python",
   "name": "python",
   "nbconvert_exporter": "python",
   "pygments_lexer": "ipython3",
   "version": "3.9.16"
  }
 },
 "nbformat": 4,
 "nbformat_minor": 5
}
