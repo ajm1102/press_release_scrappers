{
 "cells": [
  {
   "cell_type": "code",
   "execution_count": 1,
   "id": "04ad8d34",
   "metadata": {},
   "outputs": [
    {
     "name": "stderr",
     "output_type": "stream",
     "text": [
      "C:\\Users\\Aidan\\miniconda3\\envs\\myenv\\lib\\site-packages\\tqdm\\auto.py:21: TqdmWarning: IProgress not found. Please update jupyter and ipywidgets. See https://ipywidgets.readthedocs.io/en/stable/user_install.html\n",
      "  from .autonotebook import tqdm as notebook_tqdm\n"
     ]
    }
   ],
   "source": [
    "import requests\n",
    "from bs4 import BeautifulSoup\n",
    "import yfinance as yf\n",
    "from datetime import datetime\n",
    "from datetime import timedelta\n",
    "import pandas as pd\n",
    "import json\n",
    "\n",
    "from functions import (get_sector, changes_from_press, get_df, get_content_header,\n",
    "                       normalise_to_index, save_data)\n",
    "\n",
    "past_last_date = False"
   ]
  },
  {
   "cell_type": "code",
   "execution_count": 2,
   "id": "2a0da762",
   "metadata": {},
   "outputs": [],
   "source": [
    "data = []\n",
    "offset = 0\n",
    "\n",
    "ticker = 'snps'\n",
    "sector = get_sector(ticker)\n",
    "\n",
    "stock_hist = get_df(ticker)\n",
    "index_ticker = '^GSPC'\n",
    "# select by value \n",
    "\n",
    "stock_hist = get_df(ticker)\n",
    "index_hist = get_df(index_ticker)\n",
    "\n",
    "\n",
    "# create break\n",
    "while True:\n",
    "    \n",
    "    headers = {\"User-Agent\": \"Mozilla/5.0 (Windows NT 10.0; Win64; x64) AppleWebKit/537.36 (KHTML, like Gecko) Chrome/94.0.4606.81 Safari/537.36\"}\n",
    "    \n",
    "    s = requests.Session()\n",
    "    html = requests.get(f'https://news.synopsys.com/index.php?s=20295&l=400&o={offset}', headers=headers)\n",
    "    \n",
    "\n",
    "    soup = BeautifulSoup(html.content) \n",
    "\n",
    "    articles = soup.find_all('div',attrs={'wd_item_wrapper'})\n",
    " \n",
    "    if not articles:\n",
    "        break\n",
    "\n",
    "    for article in articles:\n",
    "        date = article.find('div', attrs={'wd_date'}).text.lstrip().rstrip()\n",
    "        title = article.find('a').text.lstrip().rstrip() \n",
    "        url = article.find('a').get('href')\n",
    "    \n",
    "        \n",
    "        #date = date.replace(',', '')\n",
    "    \n",
    "        date = datetime.strptime(date, '%b %d, %Y').date()\n",
    "        content = get_content_header(url, 'meta', {'property':'og:description'})\n",
    "        if date < datetime(2014, 1, 1).date():\n",
    "            past_last_date = True\n",
    "            break\n",
    "        \n",
    "        pct_change = changes_from_press(stock_hist, date, 1)\n",
    "        \n",
    "        if pct_change != None:\n",
    "            index_price, norm_price = normalise_to_index(pct_change, date, index_hist)\n",
    "        else:\n",
    "            index_price, norm_price = (None, None)\n",
    "\n",
    "        data.append([str(date), title, url, content, pct_change, index_price, norm_price])\n",
    "    if date < datetime(2014, 1, 1).date(): break    \n",
    "    offset = offset + 400\n",
    "    \n",
    "save_data(data,ticker, sector)"
   ]
  },
  {
   "cell_type": "code",
   "execution_count": null,
   "id": "4d46fc31",
   "metadata": {},
   "outputs": [],
   "source": []
  }
 ],
 "metadata": {
  "kernelspec": {
   "display_name": "Python 3 (ipykernel)",
   "language": "python",
   "name": "python3"
  },
  "language_info": {
   "codemirror_mode": {
    "name": "ipython",
    "version": 3
   },
   "file_extension": ".py",
   "mimetype": "text/x-python",
   "name": "python",
   "nbconvert_exporter": "python",
   "pygments_lexer": "ipython3",
   "version": "3.9.16"
  }
 },
 "nbformat": 4,
 "nbformat_minor": 5
}
