{
 "cells": [
  {
   "cell_type": "code",
   "execution_count": 28,
   "id": "0e29fc9f",
   "metadata": {},
   "outputs": [],
   "source": [
    "def changes_from_press(stock_data, press_date, period):\n",
    "    next_day = timedelta(days=1)\n",
    "    time_after_release = timedelta(days=period)\n",
    "    \n",
    "\n",
    "    next_trading_day = press_date\n",
    "    \n",
    "    # try to obtain share price at open on press release date\n",
    "    day_1_price = stock_data[stock_data['Date'] == press_date]['Open'].values\n",
    "\n",
    "\n",
    "    # increase the date till the first available open price is found\n",
    "    num_days = 1\n",
    "    while not day_1_price:\n",
    "        if num_days > 30:\n",
    "            return None\n",
    "        \n",
    "        next_trading_day = next_trading_day + next_day\n",
    "\n",
    "        day_1_price = stock_data[stock_data['Date'] == (next_trading_day)]['Open'].values\n",
    "        num_days = num_days + 1\n",
    "\n",
    "    # get next day if available\n",
    "    next_trading_day = next_trading_day + time_after_release\n",
    "    day_2_price = stock_data[stock_data['Date'] == (next_trading_day)]['Close'].values\n",
    "\n",
    "    # increase the date till the second available close price is found\n",
    "    num_days = 1\n",
    "    while not day_2_price:\n",
    "        if num_days > 30: \n",
    "            return None\n",
    "        \n",
    "        next_trading_day = next_trading_day + next_day\n",
    "\n",
    "        day_2_price = stock_data[stock_data['Date'] == (next_trading_day + next_day)]['Close'].values\n",
    "        num_days = num_days + 1\n",
    "    \n",
    "    # calcualte percent difference between share prices\n",
    "    pct_change = ((day_2_price - day_1_price) / day_2_price)*100\n",
    "    pct_change = pct_change[0]\n",
    "    return pct_change\n",
    "\n",
    "def get_df(ticker):\n",
    "    \n",
    "    stock_data = yf.Ticker(ticker)\n",
    "\n",
    "    # get historical market data\n",
    "    stock_hist = stock_data.history(period=\"max\")\n",
    "\n",
    "    stock_hist.reset_index(inplace=True)\n",
    "\n",
    "    stock_hist['Date'] = pd.to_datetime(stock_hist['Date']).dt.date\n",
    "\n",
    "    stock_hist['Pct_Close'] = stock_hist['Close'].pct_change()*100\n",
    "\n",
    "    return stock_hist"
   ]
  },
  {
   "cell_type": "code",
   "execution_count": 31,
   "id": "fbd23b88",
   "metadata": {},
   "outputs": [
    {
     "name": "stderr",
     "output_type": "stream",
     "text": [
      "C:\\Users\\Aidan\\AppData\\Local\\Temp\\ipykernel_9192\\3302651979.py:19: DeprecationWarning: The truth value of an empty array is ambiguous. Returning False, but in future this will result in an error. Use `array.size > 0` to check that an array is not empty.\n",
      "  while not day_2_price:\n"
     ]
    },
    {
     "name": "stdout",
     "output_type": "stream",
     "text": [
      "[[datetime.date(2023, 4, 6), 'Leading the Charge: Walmart Announces Plan To Expand Electric Vehicle Charging Network', 1.1361314978989383], [datetime.date(2023, 4, 5), 'Destination DIY: Walmart Transforms Paint Assortment To Inspire Home Improvements', 2.4071649929387626], [datetime.date(2023, 4, 4), 'Walmart Outlines Growth Strategy, Unveils Next Generation Supply Chain at 2023 Investment Community Meeting', 0.7616752880304193], [datetime.date(2023, 4, 4), 'Walmart and Break the Love Dismiss the Country Club Barrier To Bring the Pickleball Obsession to Everyday Communities', 0.7616752880304193], [datetime.date(2023, 4, 3), 'Walmart Announces April 19 Reopening of Chesapeake Store #1841', -0.33960470998402403], [datetime.date(2023, 4, 3), 'Walmart Turns Up the Excitement and Discovery With Brand-New Walmart.com Experience', -0.33960470998402403], [datetime.date(2023, 3, 30), 'Ozark Trail Launches a Private Brand Mountain Bike – And It’s Rad', 1.322480155036337], [datetime.date(2023, 3, 28), 'Walmart to Host 2023 Investment Community Meeting', 0.40213675950622163], [datetime.date(2023, 3, 23), 'Embracing Women’s History Month: Belonging Matters for Women in the Workplace', 1.1283540684633226], [datetime.date(2023, 3, 22), 'Walmart Foundation Expands Efforts to Support Smallholder Farmers in India, Further Empowering Women', 0.007105941890970334], [datetime.date(2023, 3, 17), 'Walmart Announces 2023 Annual Shareholders’ Meeting Date', 1.9233439123276943]]\n",
      "[[datetime.date(2023, 4, 6), 'Leading the Charge: Walmart Announces Plan To Expand Electric Vehicle Charging Network', 1.1361314978989383], [datetime.date(2023, 4, 5), 'Destination DIY: Walmart Transforms Paint Assortment To Inspire Home Improvements', 2.4071649929387626], [datetime.date(2023, 4, 4), 'Walmart Outlines Growth Strategy, Unveils Next Generation Supply Chain at 2023 Investment Community Meeting', 0.7616752880304193], [datetime.date(2023, 4, 4), 'Walmart and Break the Love Dismiss the Country Club Barrier To Bring the Pickleball Obsession to Everyday Communities', 0.7616752880304193], [datetime.date(2023, 4, 3), 'Walmart Announces April 19 Reopening of Chesapeake Store #1841', -0.33960470998402403], [datetime.date(2023, 4, 3), 'Walmart Turns Up the Excitement and Discovery With Brand-New Walmart.com Experience', -0.33960470998402403], [datetime.date(2023, 3, 30), 'Ozark Trail Launches a Private Brand Mountain Bike – And It’s Rad', 1.322480155036337], [datetime.date(2023, 3, 28), 'Walmart to Host 2023 Investment Community Meeting', 0.40213675950622163], [datetime.date(2023, 3, 23), 'Embracing Women’s History Month: Belonging Matters for Women in the Workplace', 1.1283540684633226], [datetime.date(2023, 3, 22), 'Walmart Foundation Expands Efforts to Support Smallholder Farmers in India, Further Empowering Women', 0.007105941890970334], [datetime.date(2023, 3, 17), 'Walmart Announces 2023 Annual Shareholders’ Meeting Date', 1.9233439123276943], [datetime.date(2023, 4, 6), 'Leading the Charge: Walmart Announces Plan To Expand Electric Vehicle Charging Network', 1.1361314978989383], [datetime.date(2023, 4, 5), 'Destination DIY: Walmart Transforms Paint Assortment To Inspire Home Improvements', 2.4071649929387626], [datetime.date(2023, 4, 4), 'Walmart Outlines Growth Strategy, Unveils Next Generation Supply Chain at 2023 Investment Community Meeting', 0.7616752880304193], [datetime.date(2023, 4, 4), 'Walmart and Break the Love Dismiss the Country Club Barrier To Bring the Pickleball Obsession to Everyday Communities', 0.7616752880304193], [datetime.date(2023, 4, 3), 'Walmart Announces April 19 Reopening of Chesapeake Store #1841', -0.33960470998402403], [datetime.date(2023, 4, 3), 'Walmart Turns Up the Excitement and Discovery With Brand-New Walmart.com Experience', -0.33960470998402403], [datetime.date(2023, 3, 30), 'Ozark Trail Launches a Private Brand Mountain Bike – And It’s Rad', 1.322480155036337], [datetime.date(2023, 3, 28), 'Walmart to Host 2023 Investment Community Meeting', 0.40213675950622163], [datetime.date(2023, 3, 23), 'Embracing Women’s History Month: Belonging Matters for Women in the Workplace', 1.1283540684633226], [datetime.date(2023, 3, 22), 'Walmart Foundation Expands Efforts to Support Smallholder Farmers in India, Further Empowering Women', 0.007105941890970334], [datetime.date(2023, 3, 17), 'Walmart Announces 2023 Annual Shareholders’ Meeting Date', 1.9233439123276943]]\n",
      "[[datetime.date(2023, 4, 6), 'Leading the Charge: Walmart Announces Plan To Expand Electric Vehicle Charging Network', 1.1361314978989383], [datetime.date(2023, 4, 5), 'Destination DIY: Walmart Transforms Paint Assortment To Inspire Home Improvements', 2.4071649929387626], [datetime.date(2023, 4, 4), 'Walmart Outlines Growth Strategy, Unveils Next Generation Supply Chain at 2023 Investment Community Meeting', 0.7616752880304193], [datetime.date(2023, 4, 4), 'Walmart and Break the Love Dismiss the Country Club Barrier To Bring the Pickleball Obsession to Everyday Communities', 0.7616752880304193], [datetime.date(2023, 4, 3), 'Walmart Announces April 19 Reopening of Chesapeake Store #1841', -0.33960470998402403], [datetime.date(2023, 4, 3), 'Walmart Turns Up the Excitement and Discovery With Brand-New Walmart.com Experience', -0.33960470998402403], [datetime.date(2023, 3, 30), 'Ozark Trail Launches a Private Brand Mountain Bike – And It’s Rad', 1.322480155036337], [datetime.date(2023, 3, 28), 'Walmart to Host 2023 Investment Community Meeting', 0.40213675950622163], [datetime.date(2023, 3, 23), 'Embracing Women’s History Month: Belonging Matters for Women in the Workplace', 1.1283540684633226], [datetime.date(2023, 3, 22), 'Walmart Foundation Expands Efforts to Support Smallholder Farmers in India, Further Empowering Women', 0.007105941890970334], [datetime.date(2023, 3, 17), 'Walmart Announces 2023 Annual Shareholders’ Meeting Date', 1.9233439123276943], [datetime.date(2023, 4, 6), 'Leading the Charge: Walmart Announces Plan To Expand Electric Vehicle Charging Network', 1.1361314978989383], [datetime.date(2023, 4, 5), 'Destination DIY: Walmart Transforms Paint Assortment To Inspire Home Improvements', 2.4071649929387626], [datetime.date(2023, 4, 4), 'Walmart Outlines Growth Strategy, Unveils Next Generation Supply Chain at 2023 Investment Community Meeting', 0.7616752880304193], [datetime.date(2023, 4, 4), 'Walmart and Break the Love Dismiss the Country Club Barrier To Bring the Pickleball Obsession to Everyday Communities', 0.7616752880304193], [datetime.date(2023, 4, 3), 'Walmart Announces April 19 Reopening of Chesapeake Store #1841', -0.33960470998402403], [datetime.date(2023, 4, 3), 'Walmart Turns Up the Excitement and Discovery With Brand-New Walmart.com Experience', -0.33960470998402403], [datetime.date(2023, 3, 30), 'Ozark Trail Launches a Private Brand Mountain Bike – And It’s Rad', 1.322480155036337], [datetime.date(2023, 3, 28), 'Walmart to Host 2023 Investment Community Meeting', 0.40213675950622163], [datetime.date(2023, 3, 23), 'Embracing Women’s History Month: Belonging Matters for Women in the Workplace', 1.1283540684633226], [datetime.date(2023, 3, 22), 'Walmart Foundation Expands Efforts to Support Smallholder Farmers in India, Further Empowering Women', 0.007105941890970334], [datetime.date(2023, 3, 17), 'Walmart Announces 2023 Annual Shareholders’ Meeting Date', 1.9233439123276943], [datetime.date(2023, 3, 16), 'Walmart Launches Clean Beauty: Affordable, Accessible and Transparent', -0.021519928701827267], [datetime.date(2023, 3, 13), 'Hop to It! Walmart Is Serving Up Savings for Easter', 1.0282532241673108], [datetime.date(2023, 3, 8), 'Develop, Connect, Grow: An Entrepreneur’s Journey With Walmart Vriddhi', -1.0133495410931876], [datetime.date(2023, 3, 2), 'Walmart Health Nearly Doubles in Size With Launch Into Two New States in 2024', 0.5900290475557832], [datetime.date(2023, 2, 28), 'Walmart and CareSource Enter Agreement To Address Health Disparities', -0.6065047933422196], [datetime.date(2023, 2, 28), 'Walmart to Participate in Raymond James Institutional Investors Conference', -0.6065047933422196], [datetime.date(2023, 2, 22), 'A Big Year in the Books: Walmart eCommerce by the Numbers', -3.2936944869192795], [datetime.date(2023, 2, 21), 'Walmart Raises Annual Dividend to $2.28 per Share, Marking 50th Consecutive Year of Dividend Increases', 0.942877367937322], [datetime.date(2023, 2, 21), 'Walmart Releases Q4 and FY23 Earnings', 0.942877367937322], [datetime.date(2023, 2, 14), 'Walmart To Host Fourth Quarter Earnings Conference Call Feb. 21, 2023', 0.5731119600110284], [datetime.date(2023, 2, 7), 'Made in America: The Unsung Heroes of the Big Game', 0.32092961408795817], [datetime.date(2023, 1, 26), 'New-Seller Savings Gives Sellers a Boost To Grow at Walmart', 0.18842516301191783]]\n"
     ]
    },
    {
     "name": "stdout",
     "output_type": "stream",
     "text": [
      "[[datetime.date(2023, 4, 6), 'Leading the Charge: Walmart Announces Plan To Expand Electric Vehicle Charging Network', 1.1361314978989383], [datetime.date(2023, 4, 5), 'Destination DIY: Walmart Transforms Paint Assortment To Inspire Home Improvements', 2.4071649929387626], [datetime.date(2023, 4, 4), 'Walmart Outlines Growth Strategy, Unveils Next Generation Supply Chain at 2023 Investment Community Meeting', 0.7616752880304193], [datetime.date(2023, 4, 4), 'Walmart and Break the Love Dismiss the Country Club Barrier To Bring the Pickleball Obsession to Everyday Communities', 0.7616752880304193], [datetime.date(2023, 4, 3), 'Walmart Announces April 19 Reopening of Chesapeake Store #1841', -0.33960470998402403], [datetime.date(2023, 4, 3), 'Walmart Turns Up the Excitement and Discovery With Brand-New Walmart.com Experience', -0.33960470998402403], [datetime.date(2023, 3, 30), 'Ozark Trail Launches a Private Brand Mountain Bike – And It’s Rad', 1.322480155036337], [datetime.date(2023, 3, 28), 'Walmart to Host 2023 Investment Community Meeting', 0.40213675950622163], [datetime.date(2023, 3, 23), 'Embracing Women’s History Month: Belonging Matters for Women in the Workplace', 1.1283540684633226], [datetime.date(2023, 3, 22), 'Walmart Foundation Expands Efforts to Support Smallholder Farmers in India, Further Empowering Women', 0.007105941890970334], [datetime.date(2023, 3, 17), 'Walmart Announces 2023 Annual Shareholders’ Meeting Date', 1.9233439123276943], [datetime.date(2023, 4, 6), 'Leading the Charge: Walmart Announces Plan To Expand Electric Vehicle Charging Network', 1.1361314978989383], [datetime.date(2023, 4, 5), 'Destination DIY: Walmart Transforms Paint Assortment To Inspire Home Improvements', 2.4071649929387626], [datetime.date(2023, 4, 4), 'Walmart Outlines Growth Strategy, Unveils Next Generation Supply Chain at 2023 Investment Community Meeting', 0.7616752880304193], [datetime.date(2023, 4, 4), 'Walmart and Break the Love Dismiss the Country Club Barrier To Bring the Pickleball Obsession to Everyday Communities', 0.7616752880304193], [datetime.date(2023, 4, 3), 'Walmart Announces April 19 Reopening of Chesapeake Store #1841', -0.33960470998402403], [datetime.date(2023, 4, 3), 'Walmart Turns Up the Excitement and Discovery With Brand-New Walmart.com Experience', -0.33960470998402403], [datetime.date(2023, 3, 30), 'Ozark Trail Launches a Private Brand Mountain Bike – And It’s Rad', 1.322480155036337], [datetime.date(2023, 3, 28), 'Walmart to Host 2023 Investment Community Meeting', 0.40213675950622163], [datetime.date(2023, 3, 23), 'Embracing Women’s History Month: Belonging Matters for Women in the Workplace', 1.1283540684633226], [datetime.date(2023, 3, 22), 'Walmart Foundation Expands Efforts to Support Smallholder Farmers in India, Further Empowering Women', 0.007105941890970334], [datetime.date(2023, 3, 17), 'Walmart Announces 2023 Annual Shareholders’ Meeting Date', 1.9233439123276943], [datetime.date(2023, 3, 16), 'Walmart Launches Clean Beauty: Affordable, Accessible and Transparent', -0.021519928701827267], [datetime.date(2023, 3, 13), 'Hop to It! Walmart Is Serving Up Savings for Easter', 1.0282532241673108], [datetime.date(2023, 3, 8), 'Develop, Connect, Grow: An Entrepreneur’s Journey With Walmart Vriddhi', -1.0133495410931876], [datetime.date(2023, 3, 2), 'Walmart Health Nearly Doubles in Size With Launch Into Two New States in 2024', 0.5900290475557832], [datetime.date(2023, 2, 28), 'Walmart and CareSource Enter Agreement To Address Health Disparities', -0.6065047933422196], [datetime.date(2023, 2, 28), 'Walmart to Participate in Raymond James Institutional Investors Conference', -0.6065047933422196], [datetime.date(2023, 2, 22), 'A Big Year in the Books: Walmart eCommerce by the Numbers', -3.2936944869192795], [datetime.date(2023, 2, 21), 'Walmart Raises Annual Dividend to $2.28 per Share, Marking 50th Consecutive Year of Dividend Increases', 0.942877367937322], [datetime.date(2023, 2, 21), 'Walmart Releases Q4 and FY23 Earnings', 0.942877367937322], [datetime.date(2023, 2, 14), 'Walmart To Host Fourth Quarter Earnings Conference Call Feb. 21, 2023', 0.5731119600110284], [datetime.date(2023, 2, 7), 'Made in America: The Unsung Heroes of the Big Game', 0.32092961408795817], [datetime.date(2023, 1, 26), 'New-Seller Savings Gives Sellers a Boost To Grow at Walmart', 0.18842516301191783], [datetime.date(2023, 1, 24), 'Continuing to Strengthen Our Jobs and Invest in Our People', -2.957710720375502], [datetime.date(2023, 1, 23), 'Walmart and Johnson & Johnson Consumer Health Team Up with CareSource to Expand Community Resources for Black Mothers in Georgia', 1.7899540675817351], [datetime.date(2023, 1, 20), 'Walmart Announces Launch of Walmart Business To Save Business and Nonprofit Customers Time, Money and Hassle', 2.2714541049785395], [datetime.date(2023, 1, 18), 'With Walmart’s New Associate-to-Driver Program, the Wheel Is Within Reach', -3.8680444143025], [datetime.date(2023, 1, 12), 'Walmart Commerce Technologies and Salesforce Team Up To Unlock Local Fulfillment and Delivery Solutions for Retailers', -0.7708855676228068], [datetime.date(2023, 1, 9), 'Free Screenings and Affordable Immunizations: New Year, New Walmart Wellness Day', -1.0078751009667617], [datetime.date(2023, 1, 5), 'Walmart Drone Delivery by the Numbers', 2.261882691965685], [datetime.date(2022, 12, 21), 'Made in America: The Unsung Heroes of the Holidays', -0.5854637659290053], [datetime.date(2022, 12, 20), 'Walmart Reaches Opioid Settlement Agreements with all 50 States', 1.5566875044298916], [datetime.date(2022, 12, 15), 'Investing in Progress: At Walmart International, New Infrastructure Ups the Ante', -1.9824795517309206], [datetime.date(2022, 12, 15), 'An Honor and a Privilege: Walmart’s Partnership with Wreaths Across America', -1.9824795517309206], [datetime.date(2022, 12, 14), 'Text to Shop: Walmart Customers Can Now Shop as Easily as Texting', -1.1901503474607886]]\n"
     ]
    },
    {
     "ename": "KeyboardInterrupt",
     "evalue": "",
     "output_type": "error",
     "traceback": [
      "\u001b[1;31m---------------------------------------------------------------------------\u001b[0m",
      "\u001b[1;31mKeyboardInterrupt\u001b[0m                         Traceback (most recent call last)",
      "Cell \u001b[1;32mIn [31], line 26\u001b[0m\n\u001b[0;32m     24\u001b[0m s \u001b[38;5;241m=\u001b[39m HTMLSession()\n\u001b[0;32m     25\u001b[0m url \u001b[38;5;241m=\u001b[39m \u001b[38;5;124mf\u001b[39m\u001b[38;5;124m'\u001b[39m\u001b[38;5;124mhttps://corporate.walmart.com/news/?newsSearchModuleQuery=&0000017d-bf8a-d566-affd-bfba3416000c-page=\u001b[39m\u001b[38;5;132;01m{\u001b[39;00mpage_num\u001b[38;5;132;01m}\u001b[39;00m\u001b[38;5;124m'\u001b[39m\n\u001b[1;32m---> 26\u001b[0m r \u001b[38;5;241m=\u001b[39m \u001b[43ms\u001b[49m\u001b[38;5;241;43m.\u001b[39;49m\u001b[43mget\u001b[49m\u001b[43m(\u001b[49m\u001b[43murl\u001b[49m\u001b[43m)\u001b[49m\n\u001b[0;32m     28\u001b[0m soup \u001b[38;5;241m=\u001b[39m BeautifulSoup(r\u001b[38;5;241m.\u001b[39mtext) \n\u001b[0;32m     31\u001b[0m press_statements \u001b[38;5;241m=\u001b[39m soup\u001b[38;5;241m.\u001b[39mfind_all(\u001b[38;5;124m'\u001b[39m\u001b[38;5;124mdiv\u001b[39m\u001b[38;5;124m'\u001b[39m, {\u001b[38;5;124m\"\u001b[39m\u001b[38;5;124mclass\u001b[39m\u001b[38;5;124m\"\u001b[39m: \u001b[38;5;124m\"\u001b[39m\u001b[38;5;124mPromoCardNews\u001b[39m\u001b[38;5;124m\"\u001b[39m})\n",
      "File \u001b[1;32m~\\AppData\\Local\\Programs\\Python\\Python310\\lib\\site-packages\\requests\\sessions.py:600\u001b[0m, in \u001b[0;36mSession.get\u001b[1;34m(self, url, **kwargs)\u001b[0m\n\u001b[0;32m    592\u001b[0m \u001b[38;5;124mr\u001b[39m\u001b[38;5;124;03m\"\"\"Sends a GET request. Returns :class:`Response` object.\u001b[39;00m\n\u001b[0;32m    593\u001b[0m \n\u001b[0;32m    594\u001b[0m \u001b[38;5;124;03m:param url: URL for the new :class:`Request` object.\u001b[39;00m\n\u001b[0;32m    595\u001b[0m \u001b[38;5;124;03m:param \\*\\*kwargs: Optional arguments that ``request`` takes.\u001b[39;00m\n\u001b[0;32m    596\u001b[0m \u001b[38;5;124;03m:rtype: requests.Response\u001b[39;00m\n\u001b[0;32m    597\u001b[0m \u001b[38;5;124;03m\"\"\"\u001b[39;00m\n\u001b[0;32m    599\u001b[0m kwargs\u001b[38;5;241m.\u001b[39msetdefault(\u001b[38;5;124m\"\u001b[39m\u001b[38;5;124mallow_redirects\u001b[39m\u001b[38;5;124m\"\u001b[39m, \u001b[38;5;28;01mTrue\u001b[39;00m)\n\u001b[1;32m--> 600\u001b[0m \u001b[38;5;28;01mreturn\u001b[39;00m \u001b[38;5;28mself\u001b[39m\u001b[38;5;241m.\u001b[39mrequest(\u001b[38;5;124m\"\u001b[39m\u001b[38;5;124mGET\u001b[39m\u001b[38;5;124m\"\u001b[39m, url, \u001b[38;5;241m*\u001b[39m\u001b[38;5;241m*\u001b[39mkwargs)\n",
      "File \u001b[1;32m~\\AppData\\Local\\Programs\\Python\\Python310\\lib\\site-packages\\requests\\sessions.py:587\u001b[0m, in \u001b[0;36mSession.request\u001b[1;34m(self, method, url, params, data, headers, cookies, files, auth, timeout, allow_redirects, proxies, hooks, stream, verify, cert, json)\u001b[0m\n\u001b[0;32m    582\u001b[0m send_kwargs \u001b[38;5;241m=\u001b[39m {\n\u001b[0;32m    583\u001b[0m     \u001b[38;5;124m\"\u001b[39m\u001b[38;5;124mtimeout\u001b[39m\u001b[38;5;124m\"\u001b[39m: timeout,\n\u001b[0;32m    584\u001b[0m     \u001b[38;5;124m\"\u001b[39m\u001b[38;5;124mallow_redirects\u001b[39m\u001b[38;5;124m\"\u001b[39m: allow_redirects,\n\u001b[0;32m    585\u001b[0m }\n\u001b[0;32m    586\u001b[0m send_kwargs\u001b[38;5;241m.\u001b[39mupdate(settings)\n\u001b[1;32m--> 587\u001b[0m resp \u001b[38;5;241m=\u001b[39m \u001b[38;5;28mself\u001b[39m\u001b[38;5;241m.\u001b[39msend(prep, \u001b[38;5;241m*\u001b[39m\u001b[38;5;241m*\u001b[39msend_kwargs)\n\u001b[0;32m    589\u001b[0m \u001b[38;5;28;01mreturn\u001b[39;00m resp\n",
      "File \u001b[1;32m~\\AppData\\Local\\Programs\\Python\\Python310\\lib\\site-packages\\requests\\sessions.py:701\u001b[0m, in \u001b[0;36mSession.send\u001b[1;34m(self, request, **kwargs)\u001b[0m\n\u001b[0;32m    698\u001b[0m start \u001b[38;5;241m=\u001b[39m preferred_clock()\n\u001b[0;32m    700\u001b[0m \u001b[38;5;66;03m# Send the request\u001b[39;00m\n\u001b[1;32m--> 701\u001b[0m r \u001b[38;5;241m=\u001b[39m adapter\u001b[38;5;241m.\u001b[39msend(request, \u001b[38;5;241m*\u001b[39m\u001b[38;5;241m*\u001b[39mkwargs)\n\u001b[0;32m    703\u001b[0m \u001b[38;5;66;03m# Total elapsed time of the request (approximately)\u001b[39;00m\n\u001b[0;32m    704\u001b[0m elapsed \u001b[38;5;241m=\u001b[39m preferred_clock() \u001b[38;5;241m-\u001b[39m start\n",
      "File \u001b[1;32m~\\AppData\\Local\\Programs\\Python\\Python310\\lib\\site-packages\\requests\\adapters.py:489\u001b[0m, in \u001b[0;36mHTTPAdapter.send\u001b[1;34m(self, request, stream, timeout, verify, cert, proxies)\u001b[0m\n\u001b[0;32m    487\u001b[0m \u001b[38;5;28;01mtry\u001b[39;00m:\n\u001b[0;32m    488\u001b[0m     \u001b[38;5;28;01mif\u001b[39;00m \u001b[38;5;129;01mnot\u001b[39;00m chunked:\n\u001b[1;32m--> 489\u001b[0m         resp \u001b[38;5;241m=\u001b[39m \u001b[43mconn\u001b[49m\u001b[38;5;241;43m.\u001b[39;49m\u001b[43murlopen\u001b[49m\u001b[43m(\u001b[49m\n\u001b[0;32m    490\u001b[0m \u001b[43m            \u001b[49m\u001b[43mmethod\u001b[49m\u001b[38;5;241;43m=\u001b[39;49m\u001b[43mrequest\u001b[49m\u001b[38;5;241;43m.\u001b[39;49m\u001b[43mmethod\u001b[49m\u001b[43m,\u001b[49m\n\u001b[0;32m    491\u001b[0m \u001b[43m            \u001b[49m\u001b[43murl\u001b[49m\u001b[38;5;241;43m=\u001b[39;49m\u001b[43murl\u001b[49m\u001b[43m,\u001b[49m\n\u001b[0;32m    492\u001b[0m \u001b[43m            \u001b[49m\u001b[43mbody\u001b[49m\u001b[38;5;241;43m=\u001b[39;49m\u001b[43mrequest\u001b[49m\u001b[38;5;241;43m.\u001b[39;49m\u001b[43mbody\u001b[49m\u001b[43m,\u001b[49m\n\u001b[0;32m    493\u001b[0m \u001b[43m            \u001b[49m\u001b[43mheaders\u001b[49m\u001b[38;5;241;43m=\u001b[39;49m\u001b[43mrequest\u001b[49m\u001b[38;5;241;43m.\u001b[39;49m\u001b[43mheaders\u001b[49m\u001b[43m,\u001b[49m\n\u001b[0;32m    494\u001b[0m \u001b[43m            \u001b[49m\u001b[43mredirect\u001b[49m\u001b[38;5;241;43m=\u001b[39;49m\u001b[38;5;28;43;01mFalse\u001b[39;49;00m\u001b[43m,\u001b[49m\n\u001b[0;32m    495\u001b[0m \u001b[43m            \u001b[49m\u001b[43massert_same_host\u001b[49m\u001b[38;5;241;43m=\u001b[39;49m\u001b[38;5;28;43;01mFalse\u001b[39;49;00m\u001b[43m,\u001b[49m\n\u001b[0;32m    496\u001b[0m \u001b[43m            \u001b[49m\u001b[43mpreload_content\u001b[49m\u001b[38;5;241;43m=\u001b[39;49m\u001b[38;5;28;43;01mFalse\u001b[39;49;00m\u001b[43m,\u001b[49m\n\u001b[0;32m    497\u001b[0m \u001b[43m            \u001b[49m\u001b[43mdecode_content\u001b[49m\u001b[38;5;241;43m=\u001b[39;49m\u001b[38;5;28;43;01mFalse\u001b[39;49;00m\u001b[43m,\u001b[49m\n\u001b[0;32m    498\u001b[0m \u001b[43m            \u001b[49m\u001b[43mretries\u001b[49m\u001b[38;5;241;43m=\u001b[39;49m\u001b[38;5;28;43mself\u001b[39;49m\u001b[38;5;241;43m.\u001b[39;49m\u001b[43mmax_retries\u001b[49m\u001b[43m,\u001b[49m\n\u001b[0;32m    499\u001b[0m \u001b[43m            \u001b[49m\u001b[43mtimeout\u001b[49m\u001b[38;5;241;43m=\u001b[39;49m\u001b[43mtimeout\u001b[49m\u001b[43m,\u001b[49m\n\u001b[0;32m    500\u001b[0m \u001b[43m        \u001b[49m\u001b[43m)\u001b[49m\n\u001b[0;32m    502\u001b[0m     \u001b[38;5;66;03m# Send the request.\u001b[39;00m\n\u001b[0;32m    503\u001b[0m     \u001b[38;5;28;01melse\u001b[39;00m:\n\u001b[0;32m    504\u001b[0m         \u001b[38;5;28;01mif\u001b[39;00m \u001b[38;5;28mhasattr\u001b[39m(conn, \u001b[38;5;124m\"\u001b[39m\u001b[38;5;124mproxy_pool\u001b[39m\u001b[38;5;124m\"\u001b[39m):\n",
      "File \u001b[1;32m~\\AppData\\Local\\Programs\\Python\\Python310\\lib\\site-packages\\urllib3\\connectionpool.py:703\u001b[0m, in \u001b[0;36mHTTPConnectionPool.urlopen\u001b[1;34m(self, method, url, body, headers, retries, redirect, assert_same_host, timeout, pool_timeout, release_conn, chunked, body_pos, **response_kw)\u001b[0m\n\u001b[0;32m    700\u001b[0m     \u001b[38;5;28mself\u001b[39m\u001b[38;5;241m.\u001b[39m_prepare_proxy(conn)\n\u001b[0;32m    702\u001b[0m \u001b[38;5;66;03m# Make the request on the httplib connection object.\u001b[39;00m\n\u001b[1;32m--> 703\u001b[0m httplib_response \u001b[38;5;241m=\u001b[39m \u001b[38;5;28;43mself\u001b[39;49m\u001b[38;5;241;43m.\u001b[39;49m\u001b[43m_make_request\u001b[49m\u001b[43m(\u001b[49m\n\u001b[0;32m    704\u001b[0m \u001b[43m    \u001b[49m\u001b[43mconn\u001b[49m\u001b[43m,\u001b[49m\n\u001b[0;32m    705\u001b[0m \u001b[43m    \u001b[49m\u001b[43mmethod\u001b[49m\u001b[43m,\u001b[49m\n\u001b[0;32m    706\u001b[0m \u001b[43m    \u001b[49m\u001b[43murl\u001b[49m\u001b[43m,\u001b[49m\n\u001b[0;32m    707\u001b[0m \u001b[43m    \u001b[49m\u001b[43mtimeout\u001b[49m\u001b[38;5;241;43m=\u001b[39;49m\u001b[43mtimeout_obj\u001b[49m\u001b[43m,\u001b[49m\n\u001b[0;32m    708\u001b[0m \u001b[43m    \u001b[49m\u001b[43mbody\u001b[49m\u001b[38;5;241;43m=\u001b[39;49m\u001b[43mbody\u001b[49m\u001b[43m,\u001b[49m\n\u001b[0;32m    709\u001b[0m \u001b[43m    \u001b[49m\u001b[43mheaders\u001b[49m\u001b[38;5;241;43m=\u001b[39;49m\u001b[43mheaders\u001b[49m\u001b[43m,\u001b[49m\n\u001b[0;32m    710\u001b[0m \u001b[43m    \u001b[49m\u001b[43mchunked\u001b[49m\u001b[38;5;241;43m=\u001b[39;49m\u001b[43mchunked\u001b[49m\u001b[43m,\u001b[49m\n\u001b[0;32m    711\u001b[0m \u001b[43m\u001b[49m\u001b[43m)\u001b[49m\n\u001b[0;32m    713\u001b[0m \u001b[38;5;66;03m# If we're going to release the connection in ``finally:``, then\u001b[39;00m\n\u001b[0;32m    714\u001b[0m \u001b[38;5;66;03m# the response doesn't need to know about the connection. Otherwise\u001b[39;00m\n\u001b[0;32m    715\u001b[0m \u001b[38;5;66;03m# it will also try to release it and we'll have a double-release\u001b[39;00m\n\u001b[0;32m    716\u001b[0m \u001b[38;5;66;03m# mess.\u001b[39;00m\n\u001b[0;32m    717\u001b[0m response_conn \u001b[38;5;241m=\u001b[39m conn \u001b[38;5;28;01mif\u001b[39;00m \u001b[38;5;129;01mnot\u001b[39;00m release_conn \u001b[38;5;28;01melse\u001b[39;00m \u001b[38;5;28;01mNone\u001b[39;00m\n",
      "File \u001b[1;32m~\\AppData\\Local\\Programs\\Python\\Python310\\lib\\site-packages\\urllib3\\connectionpool.py:449\u001b[0m, in \u001b[0;36mHTTPConnectionPool._make_request\u001b[1;34m(self, conn, method, url, timeout, chunked, **httplib_request_kw)\u001b[0m\n\u001b[0;32m    444\u001b[0m             httplib_response \u001b[38;5;241m=\u001b[39m conn\u001b[38;5;241m.\u001b[39mgetresponse()\n\u001b[0;32m    445\u001b[0m         \u001b[38;5;28;01mexcept\u001b[39;00m \u001b[38;5;167;01mBaseException\u001b[39;00m \u001b[38;5;28;01mas\u001b[39;00m e:\n\u001b[0;32m    446\u001b[0m             \u001b[38;5;66;03m# Remove the TypeError from the exception chain in\u001b[39;00m\n\u001b[0;32m    447\u001b[0m             \u001b[38;5;66;03m# Python 3 (including for exceptions like SystemExit).\u001b[39;00m\n\u001b[0;32m    448\u001b[0m             \u001b[38;5;66;03m# Otherwise it looks like a bug in the code.\u001b[39;00m\n\u001b[1;32m--> 449\u001b[0m             \u001b[43msix\u001b[49m\u001b[38;5;241;43m.\u001b[39;49m\u001b[43mraise_from\u001b[49m\u001b[43m(\u001b[49m\u001b[43me\u001b[49m\u001b[43m,\u001b[49m\u001b[43m \u001b[49m\u001b[38;5;28;43;01mNone\u001b[39;49;00m\u001b[43m)\u001b[49m\n\u001b[0;32m    450\u001b[0m \u001b[38;5;28;01mexcept\u001b[39;00m (SocketTimeout, BaseSSLError, SocketError) \u001b[38;5;28;01mas\u001b[39;00m e:\n\u001b[0;32m    451\u001b[0m     \u001b[38;5;28mself\u001b[39m\u001b[38;5;241m.\u001b[39m_raise_timeout(err\u001b[38;5;241m=\u001b[39me, url\u001b[38;5;241m=\u001b[39murl, timeout_value\u001b[38;5;241m=\u001b[39mread_timeout)\n",
      "File \u001b[1;32m<string>:3\u001b[0m, in \u001b[0;36mraise_from\u001b[1;34m(value, from_value)\u001b[0m\n",
      "File \u001b[1;32m~\\AppData\\Local\\Programs\\Python\\Python310\\lib\\site-packages\\urllib3\\connectionpool.py:444\u001b[0m, in \u001b[0;36mHTTPConnectionPool._make_request\u001b[1;34m(self, conn, method, url, timeout, chunked, **httplib_request_kw)\u001b[0m\n\u001b[0;32m    441\u001b[0m \u001b[38;5;28;01mexcept\u001b[39;00m \u001b[38;5;167;01mTypeError\u001b[39;00m:\n\u001b[0;32m    442\u001b[0m     \u001b[38;5;66;03m# Python 3\u001b[39;00m\n\u001b[0;32m    443\u001b[0m     \u001b[38;5;28;01mtry\u001b[39;00m:\n\u001b[1;32m--> 444\u001b[0m         httplib_response \u001b[38;5;241m=\u001b[39m \u001b[43mconn\u001b[49m\u001b[38;5;241;43m.\u001b[39;49m\u001b[43mgetresponse\u001b[49m\u001b[43m(\u001b[49m\u001b[43m)\u001b[49m\n\u001b[0;32m    445\u001b[0m     \u001b[38;5;28;01mexcept\u001b[39;00m \u001b[38;5;167;01mBaseException\u001b[39;00m \u001b[38;5;28;01mas\u001b[39;00m e:\n\u001b[0;32m    446\u001b[0m         \u001b[38;5;66;03m# Remove the TypeError from the exception chain in\u001b[39;00m\n\u001b[0;32m    447\u001b[0m         \u001b[38;5;66;03m# Python 3 (including for exceptions like SystemExit).\u001b[39;00m\n\u001b[0;32m    448\u001b[0m         \u001b[38;5;66;03m# Otherwise it looks like a bug in the code.\u001b[39;00m\n\u001b[0;32m    449\u001b[0m         six\u001b[38;5;241m.\u001b[39mraise_from(e, \u001b[38;5;28;01mNone\u001b[39;00m)\n",
      "File \u001b[1;32m~\\AppData\\Local\\Programs\\Python\\Python310\\lib\\http\\client.py:1374\u001b[0m, in \u001b[0;36mHTTPConnection.getresponse\u001b[1;34m(self)\u001b[0m\n\u001b[0;32m   1372\u001b[0m \u001b[38;5;28;01mtry\u001b[39;00m:\n\u001b[0;32m   1373\u001b[0m     \u001b[38;5;28;01mtry\u001b[39;00m:\n\u001b[1;32m-> 1374\u001b[0m         \u001b[43mresponse\u001b[49m\u001b[38;5;241;43m.\u001b[39;49m\u001b[43mbegin\u001b[49m\u001b[43m(\u001b[49m\u001b[43m)\u001b[49m\n\u001b[0;32m   1375\u001b[0m     \u001b[38;5;28;01mexcept\u001b[39;00m \u001b[38;5;167;01mConnectionError\u001b[39;00m:\n\u001b[0;32m   1376\u001b[0m         \u001b[38;5;28mself\u001b[39m\u001b[38;5;241m.\u001b[39mclose()\n",
      "File \u001b[1;32m~\\AppData\\Local\\Programs\\Python\\Python310\\lib\\http\\client.py:318\u001b[0m, in \u001b[0;36mHTTPResponse.begin\u001b[1;34m(self)\u001b[0m\n\u001b[0;32m    316\u001b[0m \u001b[38;5;66;03m# read until we get a non-100 response\u001b[39;00m\n\u001b[0;32m    317\u001b[0m \u001b[38;5;28;01mwhile\u001b[39;00m \u001b[38;5;28;01mTrue\u001b[39;00m:\n\u001b[1;32m--> 318\u001b[0m     version, status, reason \u001b[38;5;241m=\u001b[39m \u001b[38;5;28;43mself\u001b[39;49m\u001b[38;5;241;43m.\u001b[39;49m\u001b[43m_read_status\u001b[49m\u001b[43m(\u001b[49m\u001b[43m)\u001b[49m\n\u001b[0;32m    319\u001b[0m     \u001b[38;5;28;01mif\u001b[39;00m status \u001b[38;5;241m!=\u001b[39m CONTINUE:\n\u001b[0;32m    320\u001b[0m         \u001b[38;5;28;01mbreak\u001b[39;00m\n",
      "File \u001b[1;32m~\\AppData\\Local\\Programs\\Python\\Python310\\lib\\http\\client.py:279\u001b[0m, in \u001b[0;36mHTTPResponse._read_status\u001b[1;34m(self)\u001b[0m\n\u001b[0;32m    278\u001b[0m \u001b[38;5;28;01mdef\u001b[39;00m \u001b[38;5;21m_read_status\u001b[39m(\u001b[38;5;28mself\u001b[39m):\n\u001b[1;32m--> 279\u001b[0m     line \u001b[38;5;241m=\u001b[39m \u001b[38;5;28mstr\u001b[39m(\u001b[38;5;28;43mself\u001b[39;49m\u001b[38;5;241;43m.\u001b[39;49m\u001b[43mfp\u001b[49m\u001b[38;5;241;43m.\u001b[39;49m\u001b[43mreadline\u001b[49m\u001b[43m(\u001b[49m\u001b[43m_MAXLINE\u001b[49m\u001b[43m \u001b[49m\u001b[38;5;241;43m+\u001b[39;49m\u001b[43m \u001b[49m\u001b[38;5;241;43m1\u001b[39;49m\u001b[43m)\u001b[49m, \u001b[38;5;124m\"\u001b[39m\u001b[38;5;124miso-8859-1\u001b[39m\u001b[38;5;124m\"\u001b[39m)\n\u001b[0;32m    280\u001b[0m     \u001b[38;5;28;01mif\u001b[39;00m \u001b[38;5;28mlen\u001b[39m(line) \u001b[38;5;241m>\u001b[39m _MAXLINE:\n\u001b[0;32m    281\u001b[0m         \u001b[38;5;28;01mraise\u001b[39;00m LineTooLong(\u001b[38;5;124m\"\u001b[39m\u001b[38;5;124mstatus line\u001b[39m\u001b[38;5;124m\"\u001b[39m)\n",
      "File \u001b[1;32m~\\AppData\\Local\\Programs\\Python\\Python310\\lib\\socket.py:705\u001b[0m, in \u001b[0;36mSocketIO.readinto\u001b[1;34m(self, b)\u001b[0m\n\u001b[0;32m    703\u001b[0m \u001b[38;5;28;01mwhile\u001b[39;00m \u001b[38;5;28;01mTrue\u001b[39;00m:\n\u001b[0;32m    704\u001b[0m     \u001b[38;5;28;01mtry\u001b[39;00m:\n\u001b[1;32m--> 705\u001b[0m         \u001b[38;5;28;01mreturn\u001b[39;00m \u001b[38;5;28;43mself\u001b[39;49m\u001b[38;5;241;43m.\u001b[39;49m\u001b[43m_sock\u001b[49m\u001b[38;5;241;43m.\u001b[39;49m\u001b[43mrecv_into\u001b[49m\u001b[43m(\u001b[49m\u001b[43mb\u001b[49m\u001b[43m)\u001b[49m\n\u001b[0;32m    706\u001b[0m     \u001b[38;5;28;01mexcept\u001b[39;00m timeout:\n\u001b[0;32m    707\u001b[0m         \u001b[38;5;28mself\u001b[39m\u001b[38;5;241m.\u001b[39m_timeout_occurred \u001b[38;5;241m=\u001b[39m \u001b[38;5;28;01mTrue\u001b[39;00m\n",
      "File \u001b[1;32m~\\AppData\\Local\\Programs\\Python\\Python310\\lib\\ssl.py:1274\u001b[0m, in \u001b[0;36mSSLSocket.recv_into\u001b[1;34m(self, buffer, nbytes, flags)\u001b[0m\n\u001b[0;32m   1270\u001b[0m     \u001b[38;5;28;01mif\u001b[39;00m flags \u001b[38;5;241m!=\u001b[39m \u001b[38;5;241m0\u001b[39m:\n\u001b[0;32m   1271\u001b[0m         \u001b[38;5;28;01mraise\u001b[39;00m \u001b[38;5;167;01mValueError\u001b[39;00m(\n\u001b[0;32m   1272\u001b[0m           \u001b[38;5;124m\"\u001b[39m\u001b[38;5;124mnon-zero flags not allowed in calls to recv_into() on \u001b[39m\u001b[38;5;132;01m%s\u001b[39;00m\u001b[38;5;124m\"\u001b[39m \u001b[38;5;241m%\u001b[39m\n\u001b[0;32m   1273\u001b[0m           \u001b[38;5;28mself\u001b[39m\u001b[38;5;241m.\u001b[39m\u001b[38;5;18m__class__\u001b[39m)\n\u001b[1;32m-> 1274\u001b[0m     \u001b[38;5;28;01mreturn\u001b[39;00m \u001b[38;5;28;43mself\u001b[39;49m\u001b[38;5;241;43m.\u001b[39;49m\u001b[43mread\u001b[49m\u001b[43m(\u001b[49m\u001b[43mnbytes\u001b[49m\u001b[43m,\u001b[49m\u001b[43m \u001b[49m\u001b[43mbuffer\u001b[49m\u001b[43m)\u001b[49m\n\u001b[0;32m   1275\u001b[0m \u001b[38;5;28;01melse\u001b[39;00m:\n\u001b[0;32m   1276\u001b[0m     \u001b[38;5;28;01mreturn\u001b[39;00m \u001b[38;5;28msuper\u001b[39m()\u001b[38;5;241m.\u001b[39mrecv_into(buffer, nbytes, flags)\n",
      "File \u001b[1;32m~\\AppData\\Local\\Programs\\Python\\Python310\\lib\\ssl.py:1130\u001b[0m, in \u001b[0;36mSSLSocket.read\u001b[1;34m(self, len, buffer)\u001b[0m\n\u001b[0;32m   1128\u001b[0m \u001b[38;5;28;01mtry\u001b[39;00m:\n\u001b[0;32m   1129\u001b[0m     \u001b[38;5;28;01mif\u001b[39;00m buffer \u001b[38;5;129;01mis\u001b[39;00m \u001b[38;5;129;01mnot\u001b[39;00m \u001b[38;5;28;01mNone\u001b[39;00m:\n\u001b[1;32m-> 1130\u001b[0m         \u001b[38;5;28;01mreturn\u001b[39;00m \u001b[38;5;28;43mself\u001b[39;49m\u001b[38;5;241;43m.\u001b[39;49m\u001b[43m_sslobj\u001b[49m\u001b[38;5;241;43m.\u001b[39;49m\u001b[43mread\u001b[49m\u001b[43m(\u001b[49m\u001b[38;5;28;43mlen\u001b[39;49m\u001b[43m,\u001b[49m\u001b[43m \u001b[49m\u001b[43mbuffer\u001b[49m\u001b[43m)\u001b[49m\n\u001b[0;32m   1131\u001b[0m     \u001b[38;5;28;01melse\u001b[39;00m:\n\u001b[0;32m   1132\u001b[0m         \u001b[38;5;28;01mreturn\u001b[39;00m \u001b[38;5;28mself\u001b[39m\u001b[38;5;241m.\u001b[39m_sslobj\u001b[38;5;241m.\u001b[39mread(\u001b[38;5;28mlen\u001b[39m)\n",
      "\u001b[1;31mKeyboardInterrupt\u001b[0m: "
     ]
    }
   ],
   "source": [
    "import requests\n",
    "from bs4 import BeautifulSoup\n",
    "import yfinance as yf\n",
    "from datetime import datetime\n",
    "from datetime import timedelta\n",
    "import pandas as pd\n",
    "import re\n",
    "import json\n",
    "from requests_html import HTMLSession\n",
    "import nest_asyncio\n",
    "from dateutil import parser\n",
    "\n",
    "data = []\n",
    "\n",
    "ticker = 'WMT'\n",
    "\n",
    "stock_hist = get_df(ticker)\n",
    "\n",
    "page_num = 0\n",
    "while True:\n",
    "    \n",
    "    nest_asyncio.apply()\n",
    "\n",
    "    s = HTMLSession()\n",
    "    url = f'https://corporate.walmart.com/news/?newsSearchModuleQuery=&0000017d-bf8a-d566-affd-bfba3416000c-page={page_num}'\n",
    "    r = s.get(url)\n",
    "    \n",
    "    soup = BeautifulSoup(r.text) \n",
    "\n",
    "\n",
    "    press_statements = soup.find_all('div', {\"class\": \"PromoCardNews\"})\n",
    "    \n",
    "    if not press_statements:\n",
    "        break\n",
    "    \n",
    "    \n",
    "    for release in press_statements:\n",
    "        date = release.find('date', {\"class\": \"Promo-date\"}).text.replace('.', '')\n",
    "        title = release.find('h3', {\"class\": \"PromoCardNews-title\"}).text.lstrip().strip()\n",
    "        \n",
    "        date = parser.parse(date).date()\n",
    "        \n",
    "        pct_change = changes_from_press(stock_hist, date, 1)\n",
    "        \n",
    "        if pct_change == None:\n",
    "            continue\n",
    "        \n",
    "        data.append([date, title, pct_change])\n",
    "    print(data)\n",
    "        \n",
    "    page_num = page_num + 1\n",
    "\n",
    "        \n",
    "\n",
    "\n",
    "data = pd.DataFrame(data, columns=['date', 'press title', '1d change'])\n",
    "\n",
    "dates_str = [date.strftime(\"%m/%d/%Y\") for date in data['date'].tolist()]\n",
    "\n",
    "dict_data = {\n",
    "    'ticker': ticker,\n",
    "    \n",
    "    'data': {\n",
    "        'dates':dates_str,\n",
    "        'title': data['press title'].tolist(),\n",
    "        'priceChange': data['1d change'].tolist(),\n",
    "    },\n",
    "}\n",
    "\n",
    "with open(f'./data/{ticker}.json', 'w', encoding='utf-8') as f:\n",
    "    json.dump(dict_data, f, ensure_ascii=False, indent=4)\n",
    "\n"
   ]
  },
  {
   "cell_type": "code",
   "execution_count": 22,
   "id": "e271b728",
   "metadata": {},
   "outputs": [
    {
     "data": {
      "text/plain": [
       "[]"
      ]
     },
     "execution_count": 22,
     "metadata": {},
     "output_type": "execute_result"
    }
   ],
   "source": [
    "press_statements"
   ]
  },
  {
   "cell_type": "code",
   "execution_count": null,
   "id": "99f4efa8",
   "metadata": {},
   "outputs": [],
   "source": []
  },
  {
   "cell_type": "code",
   "execution_count": null,
   "id": "12a2016a",
   "metadata": {},
   "outputs": [],
   "source": []
  },
  {
   "cell_type": "code",
   "execution_count": null,
   "id": "1e97c1df",
   "metadata": {},
   "outputs": [],
   "source": []
  }
 ],
 "metadata": {
  "kernelspec": {
   "display_name": "Python 3 (ipykernel)",
   "language": "python",
   "name": "python3"
  },
  "language_info": {
   "codemirror_mode": {
    "name": "ipython",
    "version": 3
   },
   "file_extension": ".py",
   "mimetype": "text/x-python",
   "name": "python",
   "nbconvert_exporter": "python",
   "pygments_lexer": "ipython3",
   "version": "3.10.8"
  }
 },
 "nbformat": 4,
 "nbformat_minor": 5
}
