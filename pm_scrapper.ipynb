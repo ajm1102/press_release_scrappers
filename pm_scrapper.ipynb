{
 "cells": [
  {
   "cell_type": "code",
   "execution_count": 1,
   "id": "7e0953f6",
   "metadata": {},
   "outputs": [
    {
     "name": "stderr",
     "output_type": "stream",
     "text": [
      "C:\\Users\\Aidan\\miniconda3\\envs\\myenv\\lib\\site-packages\\tqdm\\auto.py:21: TqdmWarning: IProgress not found. Please update jupyter and ipywidgets. See https://ipywidgets.readthedocs.io/en/stable/user_install.html\n",
      "  from .autonotebook import tqdm as notebook_tqdm\n"
     ]
    }
   ],
   "source": [
    "import re\n",
    "import requests\n",
    "from bs4 import BeautifulSoup\n",
    "import yfinance as yf\n",
    "import datetime\n",
    "from datetime import timedelta\n",
    "import pandas as pd\n",
    "import json\n",
    "import dateutil.parser\n",
    "from functions import (get_sector, changes_from_press, get_df, \n",
    "                       normalise_to_index, save_data, get_content_header)\n",
    "final_date = datetime.date(2014, 1, 1)\n"
   ]
  },
  {
   "cell_type": "code",
   "execution_count": 2,
   "id": "df4794a8",
   "metadata": {},
   "outputs": [],
   "source": [
    "data = []\n",
    "page_num = 1\n",
    "\n",
    "ticker = 'pm'\n",
    "sector = get_sector(ticker)\n",
    "\n",
    "index_ticker = '^GSPC'\n",
    "\n",
    "stock_hist = get_df(ticker)\n",
    "index_hist = get_df(index_ticker)\n",
    "\n",
    "previous_items = None\n",
    "past_last_date = False\n",
    "\n",
    "while True:\n",
    "\n",
    "    \n",
    "    headers = {\"User-Agent\": \"Mozilla/5.0 (Windows NT 10.0; Win64; x64) AppleWebKit/537.36 (KHTML, like Gecko) Chrome/94.0.4606.81 Safari/537.36\"}\n",
    "    s = requests.Session()\n",
    "    html = requests.get(f'https://www.pmi.com/investor-relations/press-releases-and-events/press-releases-overview?template=press-release&page={page_num}', headers=headers)\n",
    "\n",
    "    soup = BeautifulSoup(html.content) \n",
    "    press_items = soup.find_all('div', attrs={'class':'ir-search-results--item'})\n",
    "    \n",
    "\n",
    "    \n",
    "    for press_item in press_items:\n",
    "        \n",
    "        date = press_item.find('span', attrs={'class':'ir-search-results--date'}).text.lstrip().rstrip() \n",
    "        \n",
    "        title = press_item.find('h3', attrs={'class':'ir-search-results--title'}).text.rstrip() \n",
    "        url = press_item.find('a').get('href')\n",
    "        url = f'https://www.pmi.com{url}'\n",
    "        \n",
    "        date = dateutil.parser.parse(date).date()\n",
    "\n",
    "        pct_change = changes_from_press(stock_hist, date, 1)\n",
    "        if pct_change != None:\n",
    "            index_price, norm_price = normalise_to_index(pct_change, date, index_hist)\n",
    "        else:\n",
    "            index_price, norm_price = (None, None)\n",
    "\n",
    "        content = get_content_header(url, 'meta', {'name':'og:description'})\n",
    "        data.append([str(date), title, url, content, pct_change, index_price, norm_price])\n",
    "\n",
    "        if date < final_date:\n",
    "            past_last_date = True\n",
    "            break\n",
    "    if past_last_date == True:\n",
    "        break\n",
    "    \n",
    "    page_num = page_num + 1\n",
    "    previous_items = press_items\n",
    "    \n",
    "save_data(data, ticker, sector)"
   ]
  },
  {
   "cell_type": "code",
   "execution_count": null,
   "id": "e1ff3534",
   "metadata": {},
   "outputs": [],
   "source": []
  }
 ],
 "metadata": {
  "kernelspec": {
   "display_name": "Python 3 (ipykernel)",
   "language": "python",
   "name": "python3"
  },
  "language_info": {
   "codemirror_mode": {
    "name": "ipython",
    "version": 3
   },
   "file_extension": ".py",
   "mimetype": "text/x-python",
   "name": "python",
   "nbconvert_exporter": "python",
   "pygments_lexer": "ipython3",
   "version": "3.9.16"
  }
 },
 "nbformat": 4,
 "nbformat_minor": 5
}
