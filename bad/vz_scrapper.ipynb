{
 "cells": [
  {
   "cell_type": "code",
   "execution_count": 1,
   "id": "99ff52bc",
   "metadata": {},
   "outputs": [],
   "source": [
    "import requests\n",
    "from bs4 import BeautifulSoup\n",
    "import yfinance as yf\n",
    "from datetime import datetime\n",
    "from datetime import timedelta\n",
    "import pandas as pd\n",
    "import json\n",
    "from requests_html import HTMLSession\n",
    "\n",
    "from functions import (get_sector, changes_from_press, \n",
    "                       get_df, normalise_to_index, save_data)"
   ]
  },
  {
   "cell_type": "code",
   "execution_count": 8,
   "id": "e46b3f3c",
   "metadata": {},
   "outputs": [
    {
     "name": "stderr",
     "output_type": "stream",
     "text": [
      "\n",
      "KeyboardInterrupt\n",
      "\n"
     ]
    }
   ],
   "source": [
    "data = []\n",
    "ticker = 'vz'\n",
    "sector = get_sector(ticker)\n",
    "\n",
    "index_ticker = '^GSPC'\n",
    "# select by value \n",
    "\n",
    "stock_hist = get_df(ticker)\n",
    "index_hist = get_df(index_ticker)\n",
    "\n",
    "years = [2023, 2022, 2021, 2020, 2019, 2018, 2017, 2016, 2015, 2014]\n",
    "offset = 0\n",
    "last = False\n",
    "while True:\n",
    "    \n",
    "    s = HTMLSession()\n",
    "    url = f'https://www.verizon.com/about/api/news_center/press_release?offset={offset}'\n",
    "    r = s.get(url)\n",
    "    try:\n",
    "        press_releases = r.json()['results']\n",
    "    except:\n",
    "        last = True\n",
    "    if last == True:\n",
    "        break\n",
    "    for release in press_releases:\n",
    "        title = release['title']\n",
    "        date = datetime.fromtimestamp(int(release['first_published'])).date()\n",
    "        press_url = f'https://www.verizon.com/{release['link']}'\n",
    "                \n",
    "        pct_change = changes_from_press(stock_hist, date, 1)\n",
    "        \n",
    "        if pct_change != None:\n",
    "            index_price, norm_price = normalise_to_index(pct_change, date, index_hist)\n",
    "        else:\n",
    "            index_price, norm_price = (None, None)\n",
    "\n",
    "        data.append([date, title, press_url, pct_change, index_price, norm_price])\n",
    "    offset = offset + 10\n",
    "\n",
    "\n",
    "save_data(data, columns, ticker, sector)\n",
    "\n"
   ]
  },
  {
   "cell_type": "code",
   "execution_count": 26,
   "id": "d48d653e",
   "metadata": {},
   "outputs": [
    {
     "name": "stdout",
     "output_type": "stream",
     "text": [
      "sdf\n"
     ]
    }
   ],
   "source": [
    "if not []:\n",
    "    print('sdf')"
   ]
  },
  {
   "cell_type": "code",
   "execution_count": null,
   "id": "dca6ab05",
   "metadata": {},
   "outputs": [],
   "source": []
  }
 ],
 "metadata": {
  "kernelspec": {
   "display_name": "Python 3 (ipykernel)",
   "language": "python",
   "name": "python3"
  },
  "language_info": {
   "codemirror_mode": {
    "name": "ipython",
    "version": 3
   },
   "file_extension": ".py",
   "mimetype": "text/x-python",
   "name": "python",
   "nbconvert_exporter": "python",
   "pygments_lexer": "ipython3",
   "version": "3.10.8"
  }
 },
 "nbformat": 4,
 "nbformat_minor": 5
}
