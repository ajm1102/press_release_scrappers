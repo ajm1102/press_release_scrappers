{
 "cells": [
  {
   "cell_type": "code",
   "execution_count": 1,
   "id": "27d551d4",
   "metadata": {},
   "outputs": [
    {
     "name": "stderr",
     "output_type": "stream",
     "text": [
      "C:\\Users\\Aidan\\miniconda3\\envs\\myenv\\lib\\site-packages\\tqdm\\auto.py:21: TqdmWarning: IProgress not found. Please update jupyter and ipywidgets. See https://ipywidgets.readthedocs.io/en/stable/user_install.html\n",
      "  from .autonotebook import tqdm as notebook_tqdm\n"
     ]
    }
   ],
   "source": [
    "import requests\n",
    "from bs4 import BeautifulSoup\n",
    "import yfinance as yf\n",
    "from datetime import datetime\n",
    "from datetime import timedelta\n",
    "import pandas as pd\n",
    "import json\n",
    "\n",
    "from functions import (get_sector, changes_from_press, get_df, \n",
    "                       normalise_to_index, save_data)\n",
    "\n",
    "columns = ['date', 'press title', 'url', '1d change', 'index_price','norm_price']\n",
    "past_last_date = False"
   ]
  },
  {
   "cell_type": "code",
   "execution_count": 2,
   "id": "cd5c37fe",
   "metadata": {},
   "outputs": [],
   "source": [
    "data = []\n",
    "page_num = 0\n",
    "\n",
    "ticker = 'vrtx'\n",
    "\n",
    "index_ticker = '^GSPC'\n",
    "# select by value \n",
    "sector = get_sector(ticker)\n",
    "\n",
    "stock_hist = get_df(ticker)\n",
    "index_hist = get_df(index_ticker)\n",
    "\n",
    "while True:\n",
    "    \n",
    "    x = requests.get(f'https://investors.vrtx.com/press-releases?page={page_num}')\n",
    "    soup = BeautifulSoup(x.text)\n",
    "    \n",
    "    press_table = soup.find('table', attrs={'nirtable views-table views-view-table cols-3 collapse-table'})\n",
    "    if press_table == None:\n",
    "        break\n",
    "    \n",
    "    table_body = press_table.find('tbody')\n",
    "    rows = table_body.find_all('tr')\n",
    "    \n",
    "    for row in rows:\n",
    "        date = row.find('time').text\n",
    "        date = datetime.strptime(date, '%b %d, %Y').date()\n",
    "        if date < datetime(2014, 1, 1).date():\n",
    "            past_last_date = True\n",
    "            break\n",
    "        title_url = row.find('td', attrs={'class': 'views-field views-field-field-nir-news-title'})\n",
    "                             \n",
    "        title = title_url.find('a').text\n",
    "        url = title_url.find('a').get('href')\n",
    "        url = f'https://investors.vrtx.com{url}'\n",
    "        \n",
    "        content = row.find('summary').text.replace('\\n', '')\n",
    "\n",
    "        pct_change = changes_from_press(stock_hist, date, 1)\n",
    "        if pct_change != None:\n",
    "            index_price, norm_price = normalise_to_index(pct_change, date, index_hist)\n",
    "        else:\n",
    "            index_price, norm_price = (None, None)\n",
    "        data.append([str(date), title, url, content, pct_change, index_price, norm_price])\n",
    "\n",
    "    if past_last_date == True: break\n",
    "    page_num = page_num + 1\n",
    "    \n",
    "    \n",
    "save_data(data, ticker, sector)"
   ]
  },
  {
   "cell_type": "code",
   "execution_count": null,
   "id": "1c53dd77",
   "metadata": {},
   "outputs": [],
   "source": []
  }
 ],
 "metadata": {
  "kernelspec": {
   "display_name": "Python 3 (ipykernel)",
   "language": "python",
   "name": "python3"
  },
  "language_info": {
   "codemirror_mode": {
    "name": "ipython",
    "version": 3
   },
   "file_extension": ".py",
   "mimetype": "text/x-python",
   "name": "python",
   "nbconvert_exporter": "python",
   "pygments_lexer": "ipython3",
   "version": "3.9.16"
  }
 },
 "nbformat": 4,
 "nbformat_minor": 5
}
