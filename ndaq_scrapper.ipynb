{
 "cells": [
  {
   "cell_type": "code",
   "execution_count": 1,
   "id": "9060cad3",
   "metadata": {},
   "outputs": [
    {
     "name": "stderr",
     "output_type": "stream",
     "text": [
      "C:\\Users\\Aidan\\miniconda3\\envs\\myenv\\lib\\site-packages\\tqdm\\auto.py:21: TqdmWarning: IProgress not found. Please update jupyter and ipywidgets. See https://ipywidgets.readthedocs.io/en/stable/user_install.html\n",
      "  from .autonotebook import tqdm as notebook_tqdm\n"
     ]
    }
   ],
   "source": [
    "import requests\n",
    "from bs4 import BeautifulSoup\n",
    "import yfinance as yf\n",
    "from datetime import datetime\n",
    "from datetime import timedelta\n",
    "import pandas as pd\n",
    "import re\n",
    "import json\n",
    "import dateutil.parser\n",
    "from functions import (get_sector, changes_from_press, get_content_header,\n",
    "                       get_df, normalise_to_index, save_data)\n",
    "\n",
    "past_last_date = False"
   ]
  },
  {
   "cell_type": "code",
   "execution_count": 2,
   "id": "724a446f",
   "metadata": {},
   "outputs": [],
   "source": [
    "data = []\n",
    "page_num = 0\n",
    "\n",
    "ticker = 'ndaq'\n",
    "\n",
    "sector = get_sector(ticker)\n",
    "\n",
    "index_ticker = '^GSPC'\n",
    "# select by value \n",
    "\n",
    "stock_hist = get_df(ticker)\n",
    "index_hist = get_df(index_ticker)\n",
    "\n",
    "\n",
    "while True:\n",
    "    \n",
    "    headers = {\"User-Agent\": \"Mozilla/5.0 (Windows NT 10.0; Win64; x64) AppleWebKit/537.36 (KHTML, like Gecko) Chrome/94.0.4606.81 Safari/537.36\"}\n",
    "    \n",
    "    s = requests.Session()\n",
    "    html = requests.get(f'https://ir.nasdaq.com/news-and-events/press-releases?page={page_num}', headers=headers)\n",
    "    \n",
    "\n",
    "    soup = BeautifulSoup(html.content) \n",
    "    content = soup.find('tbody')\n",
    "    if content == None:\n",
    "        break\n",
    "\n",
    "    rows = content.find_all('tr')\n",
    "    for row in rows:\n",
    "        date = row.find('td', attrs={'data-before':'Date'}).text.lstrip().rstrip() \n",
    "        title = row.find('a', attrs={'class':'nir-widget--accordion-toggle nir-widget--news--accordion-toggle'}).text\n",
    "\n",
    "        url = row.find('a', attrs={'hreflang':'en'}).get('href')\n",
    "        \n",
    "        url = f'https://ir.nasdaq.com{url}'\n",
    "        \n",
    "        date = dateutil.parser.parse(date).date()\n",
    "\n",
    "        content = row.find('div', attrs={'class':'nir-widget--field nir-widget--news--teaser'}).text.lstrip().rstrip()\n",
    "        if date < datetime(2014, 1, 1).date():\n",
    "            past_last_date = True\n",
    "            break        \n",
    "    \n",
    "        pct_change = changes_from_press(stock_hist, date, 1)\n",
    "        \n",
    "        if pct_change != None:\n",
    "            index_price, norm_price = normalise_to_index(pct_change, date, index_hist)\n",
    "        else:\n",
    "            index_price, norm_price = (None, None)\n",
    "\n",
    "        data.append([str(date), title, url, content, pct_change, index_price, norm_price])\n",
    "    if past_last_date == True: break    \n",
    "    page_num = page_num + 1\n",
    "    \n",
    "save_data(data, ticker, sector)\n",
    "\n",
    "past_last_date = False"
   ]
  },
  {
   "cell_type": "code",
   "execution_count": null,
   "id": "634ea376",
   "metadata": {},
   "outputs": [],
   "source": []
  }
 ],
 "metadata": {
  "kernelspec": {
   "display_name": "Python 3 (ipykernel)",
   "language": "python",
   "name": "python3"
  },
  "language_info": {
   "codemirror_mode": {
    "name": "ipython",
    "version": 3
   },
   "file_extension": ".py",
   "mimetype": "text/x-python",
   "name": "python",
   "nbconvert_exporter": "python",
   "pygments_lexer": "ipython3",
   "version": "3.9.16"
  }
 },
 "nbformat": 4,
 "nbformat_minor": 5
}
