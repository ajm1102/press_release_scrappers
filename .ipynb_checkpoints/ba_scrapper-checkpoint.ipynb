{
 "cells": [
  {
   "cell_type": "code",
   "execution_count": 1,
   "id": "118f1263",
   "metadata": {},
   "outputs": [],
   "source": [
    "import requests\n",
    "from bs4 import BeautifulSoup\n",
    "import yfinance as yf\n",
    "from datetime import datetime\n",
    "from datetime import timedelta\n",
    "import pandas as pd\n",
    "import re\n",
    "import json\n",
    "from requests_html import HTMLSession\n",
    "import nest_asyncio\n",
    "from functions import (get_sector, changes_from_press, get_content_header,\n",
    "                       get_df, normalise_to_index, save_data)"
   ]
  },
  {
   "cell_type": "code",
   "execution_count": 3,
   "id": "75110e69",
   "metadata": {},
   "outputs": [],
   "source": [
    "data = []\n",
    "\n",
    "\n",
    "ticker = 'ba'\n",
    "sector = get_sector(ticker)\n",
    "stock_hist = get_df(ticker)\n",
    "\n",
    "index_ticker = '^GSPC'\n",
    "\n",
    "\n",
    "index_hist = get_df(index_ticker)\n",
    "\n",
    "years = [2023, 2022, 2021, 2020, 2019, 2018, 2017, 2016, 2015, 2014]\n",
    "columns = ['date', 'press title', 'urls','1d change', 'index_prices','norm_prices']\n",
    "\n",
    "for year in years:\n",
    "\n",
    "    nest_asyncio.apply()\n",
    "\n",
    "    s = HTMLSession()\n",
    "    url=f'https://investors.boeing.com/investors/news/{year}/default.aspx'\n",
    "    r = s.get(url)\n",
    "    ht= r.text\n",
    "    soup = BeautifulSoup(ht) \n",
    "\n",
    "\n",
    "    press_statements = soup.find_all('span', {\"class\": \"ModuleHeadline\"})\n",
    "    dates = soup.find_all('span', {\"class\": \"ModuleDate\"})\n",
    "    urls = soup.find_all('a', {\"class\": 'ModuleHeadlineLink'})\n",
    "    \n",
    "    urls = [x.get(\"href\") for x in urls]\n",
    "    contents = [get_content_header(x, 'meta', {'name': 'twitter:description'}) for x in urls]\n",
    "    dates = [datetime.strptime(x.text, \"%b %d, %Y\").date() for x in dates]\n",
    "    press_statements = [x.text for x in press_statements]\n",
    "    pct_changes = [changes_from_press(stock_hist, x, 1) for x in dates]\n",
    "    \n",
    "    norm_prices = []\n",
    "    index_prices = []\n",
    "\n",
    "    for date, pct_change in zip(dates, pct_changes):\n",
    "        if pct_change == None:\n",
    "            norm_prices.append(None)\n",
    "            index_prices.append(None)            \n",
    "        else:\n",
    "            index_price, norm_price = normalise_to_index(pct_change, date, index_hist)\n",
    "            norm_prices.append(norm_price)\n",
    "            index_prices.append(index_price)\n",
    "    \n",
    "    data.extend(list(map(list, zip(dates, press_statements, urls, contents, pct_changes, index_prices, norm_prices))))\n",
    "\n",
    "    \n",
    "save_data(data, ticker, sector)\n"
   ]
  },
  {
   "cell_type": "code",
   "execution_count": 11,
   "id": "6a939e93",
   "metadata": {},
   "outputs": [
    {
     "data": {
      "text/plain": [
       "['http://investors.boeing.com/investors/news/press-release-details/2014/Boeing-to-Release-Fourth-Quarter-Results-on-January-28/default.aspx',\n",
       " 'http://investors.boeing.com/investors/news/press-release-details/2014/Boeing-Board-Increases-Share-Repurchase-Authorization-to-12-Billion-Raises-Dividend-25-Percent/default.aspx',\n",
       " 'http://investors.boeing.com/investors/news/press-release-details/2014/Boeing-President-and-COO-Muilenburg-to-Speak-at-Credit-Suisse-Global-Industrials-Conference-on-Dec-3/default.aspx',\n",
       " 'http://investors.boeing.com/investors/news/press-release-details/2014/Boeing-Board-Approves-Quarterly-Dividend/default.aspx',\n",
       " 'http://investors.boeing.com/investors/news/press-release-details/2014/Boeing-Reports-Strong-Third-Quarter-Results-and-Raises-2014-EPS-Guidance/default.aspx',\n",
       " 'http://investors.boeing.com/investors/news/press-release-details/2014/Boeing-Reports-Third-Quarter-Deliveries/default.aspx',\n",
       " 'http://investors.boeing.com/investors/news/press-release-details/2014/Boeing-to-Release-Third-Quarter-Results-on-October-22/default.aspx',\n",
       " 'http://investors.boeing.com/investors/news/press-release-details/2014/Boeing-Executive-to-Speak-at-Morgan-Stanley-Conference-on-Sep-16/default.aspx',\n",
       " 'http://investors.boeing.com/investors/news/press-release-details/2014/Boeing-CFO-to-Speak-at-Jefferies-2014-Global-Industrials-Conference-on-Aug-14/default.aspx',\n",
       " 'http://investors.boeing.com/investors/news/press-release-details/2014/Boeing-Reports-Second-Quarter-Results-and-Raises-2014-EPS-Guidance/default.aspx',\n",
       " 'http://investors.boeing.com/investors/news/press-release-details/2014/Boeing-Reports-Second-Quarter-Deliveries/default.aspx',\n",
       " 'http://investors.boeing.com/investors/news/press-release-details/2014/Boeing-to-Release-Second-Quarter-Results-on-July-23/default.aspx',\n",
       " 'http://investors.boeing.com/investors/news/press-release-details/2014/Boeing-Board-Approves-Quarterly-Dividend06232014/default.aspx',\n",
       " 'http://investors.boeing.com/investors/news/press-release-details/2014/Boeing-President-and-COO-Muilenburg-to-Speak-at-Sanford-C-Bernstein-Thirtieth-Annual-Strategic-Decisions-Conference-on-May-29/default.aspx',\n",
       " 'http://investors.boeing.com/investors/news/press-release-details/2014/Boeing-Investor-Conference-Executive-Presentations-to-Be-Webcast-May-21/default.aspx',\n",
       " 'http://investors.boeing.com/investors/news/press-release-details/2014/Boeing-Board-Approves-Quarterly-Dividend04282014/default.aspx',\n",
       " 'http://investors.boeing.com/investors/news/press-release-details/2014/Boeing-Reports-Strong-First-Quarter-Results/default.aspx',\n",
       " 'http://investors.boeing.com/investors/news/press-release-details/2014/Boeing-Reports-First-Quarter-Deliveries/default.aspx',\n",
       " 'http://investors.boeing.com/investors/news/press-release-details/2014/Boeing-to-Release-First-Quarter-Results-on-April-23/default.aspx',\n",
       " 'http://investors.boeing.com/investors/news/press-release-details/2014/Boeing-President-and-COO-Muilenburg-to-Speak-at-JP-Morgan-Aviation-Transportation--Industrials-Conference-on-Mar-10/default.aspx',\n",
       " 'http://investors.boeing.com/investors/news/press-release-details/2014/Boeing-Reports-Record-2013-Revenue-EPS-and-Backlog-and-Provides-2014-Guidance/default.aspx',\n",
       " 'http://investors.boeing.com/investors/news/press-release-details/2014/Boeing-CEO-McNerney-to-Speak-at-Cowen-Aerospace-Defense-Conference-Feb-5/default.aspx',\n",
       " 'http://investors.boeing.com/investors/news/press-release-details/2014/Boeing-Reports-Fourth-Quarter-Deliveries/default.aspx']"
      ]
     },
     "execution_count": 11,
     "metadata": {},
     "output_type": "execute_result"
    }
   ],
   "source": [
    "urls"
   ]
  },
  {
   "cell_type": "code",
   "execution_count": null,
   "id": "aae3261c",
   "metadata": {},
   "outputs": [],
   "source": []
  }
 ],
 "metadata": {
  "kernelspec": {
   "display_name": "Python 3 (ipykernel)",
   "language": "python",
   "name": "python3"
  },
  "language_info": {
   "codemirror_mode": {
    "name": "ipython",
    "version": 3
   },
   "file_extension": ".py",
   "mimetype": "text/x-python",
   "name": "python",
   "nbconvert_exporter": "python",
   "pygments_lexer": "ipython3",
   "version": "3.10.8"
  }
 },
 "nbformat": 4,
 "nbformat_minor": 5
}
