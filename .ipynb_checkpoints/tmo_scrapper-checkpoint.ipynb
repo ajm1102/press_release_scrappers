{
 "cells": [
  {
   "cell_type": "code",
   "execution_count": 1,
   "id": "828e8897",
   "metadata": {},
   "outputs": [],
   "source": [
    "import requests\n",
    "from bs4 import BeautifulSoup\n",
    "import yfinance as yf\n",
    "from datetime import datetime\n",
    "from datetime import timedelta\n",
    "import pandas as pd\n",
    "import json\n",
    "import numpy as np\n",
    "from selenium import webdriver\n",
    "from selenium.webdriver.support.ui import Select\n",
    "from selenium.webdriver.common.by import By\n",
    "import time\n",
    "import re\n",
    "from functions import (get_sector, changes_from_press, get_content_header,\n",
    "                       get_df, normalise_to_index, save_data)\n",
    "import dateutil.parser as dparser\n"
   ]
  },
  {
   "cell_type": "code",
   "execution_count": 2,
   "id": "27b142bc",
   "metadata": {},
   "outputs": [
    {
     "name": "stderr",
     "output_type": "stream",
     "text": [
      "\n",
      "KeyboardInterrupt\n",
      "\n"
     ]
    }
   ],
   "source": [
    "\n",
    "year = datetime.today().year\n",
    "\n",
    "driver = webdriver.Firefox()\n",
    "driver.get('https://ir.thermofisher.com/investors/news-events/news/default.aspx')\n",
    "\n",
    "data = []\n",
    "\n",
    "ticker = 'tmo'\n",
    "sector = get_sector(ticker)\n",
    "index_ticker = '^GSPC'\n",
    " \n",
    "\n",
    "stock_hist = get_df(ticker)\n",
    "index_hist = get_df(index_ticker)\n",
    "\n",
    "year = datetime.today().year\n",
    "columns = ['date', 'press title', 'urls', '1d change', 'index_price','norm_price']\n",
    "\n",
    "while True:\n",
    "    if year == 2013:\n",
    "        break\n",
    "    \n",
    "    select = Select(driver.find_element(By.ID, \"newsYear\"))\n",
    "    try:\n",
    "        select.select_by_value(str(year))\n",
    "    except:\n",
    "        break\n",
    "\n",
    "    time.sleep(2)\n",
    "    html = driver.page_source\n",
    "    soup = BeautifulSoup(html) \n",
    "\n",
    "    articles = soup.find_all('div',attrs={'class':'module_item'})\n",
    "    \n",
    "    for article in articles:\n",
    "        date = article.find('div', attrs={'class':'module_date-time'}).text.lstrip().rstrip() \n",
    "        title = article.find('div', attrs={'class':'module_headline'}).text.rstrip() \n",
    "        url = article.find('a').get('href')\n",
    "        url = f'https://ir.thermofisher.com{url}'\n",
    "        \n",
    "        title = re.sub(\"\\s\\s+\", \" \", title)\n",
    "        \n",
    "        content = get_content_header(url, 'meta', {'name':'twitter:description'})\n",
    "\n",
    "        date = dparser.parse(date,fuzzy=False).date()\n",
    "        pct_change = changes_from_press(stock_hist, date, 1)\n",
    "        \n",
    "        if pct_change != None:\n",
    "            index_price, norm_price = normalise_to_index(pct_change, date, index_hist)\n",
    "        else:\n",
    "            index_price, norm_price = (None, None)\n",
    "\n",
    "        data.append([date, title, url, content, pct_change, index_price, norm_price])\n",
    "    year = year - 1\n",
    "    \n",
    "\n",
    "driver.close()\n",
    "\n",
    "save_data(data, ticker, sector)"
   ]
  },
  {
   "cell_type": "code",
   "execution_count": null,
   "id": "fcb8d6f7",
   "metadata": {},
   "outputs": [],
   "source": []
  }
 ],
 "metadata": {
  "kernelspec": {
   "display_name": "Python 3 (ipykernel)",
   "language": "python",
   "name": "python3"
  },
  "language_info": {
   "codemirror_mode": {
    "name": "ipython",
    "version": 3
   },
   "file_extension": ".py",
   "mimetype": "text/x-python",
   "name": "python",
   "nbconvert_exporter": "python",
   "pygments_lexer": "ipython3",
   "version": "3.10.8"
  }
 },
 "nbformat": 4,
 "nbformat_minor": 5
}
