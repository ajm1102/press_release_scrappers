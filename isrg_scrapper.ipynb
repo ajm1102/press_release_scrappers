{
 "cells": [
  {
   "cell_type": "code",
   "execution_count": 5,
   "id": "3cea8b69",
   "metadata": {},
   "outputs": [],
   "source": [
    "import requests\n",
    "from bs4 import BeautifulSoup\n",
    "import yfinance as yf\n",
    "from datetime import datetime\n",
    "from datetime import timedelta\n",
    "import pandas as pd\n",
    "import json\n",
    "\n",
    "import dateutil.parser as dparser\n",
    "from functions import (get_sector, changes_from_press, isrg_specfic,\n",
    "                       get_df, normalise_to_index, save_data)\n",
    "\n",
    "past_last_date = False"
   ]
  },
  {
   "cell_type": "code",
   "execution_count": 6,
   "id": "70b72893",
   "metadata": {},
   "outputs": [
    {
     "name": "stdout",
     "output_type": "stream",
     "text": [
      "https://isrg.intuitive.com/news-releases/news-release-details/intuitive-announces-executive-leadership-changes-0\n",
      "https://isrg.intuitive.com/news-releases/news-release-details/intuitive-receives-fda-clearance-da-vinci-sp-simple\n",
      "https://isrg.intuitive.com/news-releases/news-release-details/intuitive-announces-first-quarter-earnings-3\n",
      "https://isrg.intuitive.com/news-releases/news-release-details/intuitive-announces-fourth-quarter-earnings-2\n"
     ]
    },
    {
     "name": "stderr",
     "output_type": "stream",
     "text": [
      "Your max_length is set to 500, but you input_length is only 316. You might consider decreasing max_length manually, e.g. summarizer('...', max_length=158)\n"
     ]
    },
    {
     "name": "stdout",
     "output_type": "stream",
     "text": [
      "https://isrg.intuitive.com/news-releases/news-release-details/intuitive-announces-preliminary-fourth-quarter-and-full-year-2\n"
     ]
    },
    {
     "name": "stderr",
     "output_type": "stream",
     "text": [
      "Your max_length is set to 500, but you input_length is only 313. You might consider decreasing max_length manually, e.g. summarizer('...', max_length=156)\n"
     ]
    },
    {
     "name": "stdout",
     "output_type": "stream",
     "text": [
      "https://isrg.intuitive.com/news-releases/news-release-details/intuitive-becomes-largest-robotic-assisted-surgery-provider-be\n",
      "https://isrg.intuitive.com/news-releases/news-release-details/intuitive-announces-third-quarter-earnings-2\n"
     ]
    },
    {
     "name": "stderr",
     "output_type": "stream",
     "text": [
      "Your max_length is set to 500, but you input_length is only 347. You might consider decreasing max_length manually, e.g. summarizer('...', max_length=173)\n"
     ]
    },
    {
     "name": "stdout",
     "output_type": "stream",
     "text": [
      "https://isrg.intuitive.com/news-releases/news-release-details/japan-regulatory-agency-clears-intuitives-single-port-robotic\n",
      "https://isrg.intuitive.com/news-releases/news-release-details/intuitive-announces-second-quarter-earnings-2\n"
     ]
    },
    {
     "name": "stderr",
     "output_type": "stream",
     "text": [
      "Your max_length is set to 500, but you input_length is only 343. You might consider decreasing max_length manually, e.g. summarizer('...', max_length=171)\n"
     ]
    },
    {
     "name": "stdout",
     "output_type": "stream",
     "text": [
      "https://isrg.intuitive.com/news-releases/news-release-details/intuitive-and-siemens-healthineers-enhance-scanning-integration\n",
      "https://isrg.intuitive.com/news-releases/news-release-details/intuitive-announces-first-quarter-earnings-2\n"
     ]
    },
    {
     "name": "stderr",
     "output_type": "stream",
     "text": [
      "Your max_length is set to 500, but you input_length is only 299. You might consider decreasing max_length manually, e.g. summarizer('...', max_length=149)\n"
     ]
    },
    {
     "name": "stdout",
     "output_type": "stream",
     "text": [
      "https://isrg.intuitive.com/news-releases/news-release-details/intuitive-announces-fourth-quarter-earnings-1\n"
     ]
    },
    {
     "name": "stderr",
     "output_type": "stream",
     "text": [
      "Your max_length is set to 500, but you input_length is only 326. You might consider decreasing max_length manually, e.g. summarizer('...', max_length=163)\n"
     ]
    },
    {
     "name": "stdout",
     "output_type": "stream",
     "text": [
      "https://isrg.intuitive.com/news-releases/news-release-details/intuitive-announces-preliminary-fourth-quarter-and-full-year-1\n"
     ]
    },
    {
     "name": "stderr",
     "output_type": "stream",
     "text": [
      "Your max_length is set to 500, but you input_length is only 459. You might consider decreasing max_length manually, e.g. summarizer('...', max_length=229)\n"
     ]
    },
    {
     "name": "stdout",
     "output_type": "stream",
     "text": [
      "https://isrg.intuitive.com/news-releases/news-release-details/intuitive-receives-fda-clearance-8-mm-sureform-30-curved-tip\n",
      "https://isrg.intuitive.com/news-releases/news-release-details/intuitive-reaches-10-million-procedures-performed-using-da-vinci\n",
      "https://isrg.intuitive.com/news-releases/news-release-details/intuitive-announces-third-quarter-earnings-1\n"
     ]
    },
    {
     "name": "stderr",
     "output_type": "stream",
     "text": [
      "Your max_length is set to 500, but you input_length is only 337. You might consider decreasing max_length manually, e.g. summarizer('...', max_length=168)\n"
     ]
    },
    {
     "name": "stdout",
     "output_type": "stream",
     "text": [
      "https://isrg.intuitive.com/news-releases/news-release-details/intuitive-announces-executive-leadership-changes\n",
      "https://isrg.intuitive.com/news-releases/news-release-details/precise-clinical-study-preliminary-results-favorable-intuitives\n",
      "https://isrg.intuitive.com/news-releases/news-release-details/intuitive-appoints-new-general-manager-south-korea\n",
      "https://isrg.intuitive.com/news-releases/news-release-details/intuitive-board-directors-approves-three-one-stock-split\n",
      "https://isrg.intuitive.com/news-releases/news-release-details/intuitive-announces-second-quarter-earnings-1\n"
     ]
    },
    {
     "name": "stderr",
     "output_type": "stream",
     "text": [
      "Your max_length is set to 500, but you input_length is only 307. You might consider decreasing max_length manually, e.g. summarizer('...', max_length=153)\n"
     ]
    },
    {
     "name": "stdout",
     "output_type": "stream",
     "text": [
      "https://isrg.intuitive.com/news-releases/news-release-details/intuitive-appoints-dr-monica-p-reed-its-board-directors\n",
      "https://isrg.intuitive.com/news-releases/news-release-details/intuitive-announces-first-quarter-earnings-1\n",
      "https://isrg.intuitive.com/news-releases/news-release-details/intuitive-announces-fourth-quarter-earnings-0\n"
     ]
    },
    {
     "name": "stderr",
     "output_type": "stream",
     "text": [
      "Your max_length is set to 500, but you input_length is only 246. You might consider decreasing max_length manually, e.g. summarizer('...', max_length=123)\n"
     ]
    },
    {
     "name": "stdout",
     "output_type": "stream",
     "text": [
      "https://isrg.intuitive.com/news-releases/news-release-details/intuitive-announces-preliminary-fourth-quarter-and-full-year-0\n",
      "https://isrg.intuitive.com/news-releases/news-release-details/intuitive-launches-100-million-venture-capital-fund\n",
      "https://isrg.intuitive.com/news-releases/news-release-details/intuitive-announces-third-quarter-earnings-0\n"
     ]
    },
    {
     "name": "stderr",
     "output_type": "stream",
     "text": [
      "Your max_length is set to 500, but you input_length is only 326. You might consider decreasing max_length manually, e.g. summarizer('...', max_length=163)\n"
     ]
    },
    {
     "name": "stdout",
     "output_type": "stream",
     "text": [
      "https://isrg.intuitive.com/news-releases/news-release-details/intuitive-announces-second-quarter-earnings-0\n"
     ]
    },
    {
     "name": "stderr",
     "output_type": "stream",
     "text": [
      "Your max_length is set to 500, but you input_length is only 318. You might consider decreasing max_length manually, e.g. summarizer('...', max_length=159)\n"
     ]
    },
    {
     "name": "stdout",
     "output_type": "stream",
     "text": [
      "https://isrg.intuitive.com/news-releases/news-release-details/intuitive-provides-update-supporting-customers-communities\n",
      "https://isrg.intuitive.com/news-releases/news-release-details/intuitive-appoints-joseph-c-beery-its-board-directors\n",
      "https://isrg.intuitive.com/news-releases/news-release-details/intuitive-announces-first-quarter-earnings-0\n"
     ]
    },
    {
     "name": "stderr",
     "output_type": "stream",
     "text": [
      "Your max_length is set to 500, but you input_length is only 291. You might consider decreasing max_length manually, e.g. summarizer('...', max_length=145)\n"
     ]
    },
    {
     "name": "stdout",
     "output_type": "stream",
     "text": [
      "https://isrg.intuitive.com/news-releases/news-release-details/intuitive-announces-preliminary-first-quarter-results-provides\n",
      "https://isrg.intuitive.com/news-releases/news-release-details/intuitive-acquires-orpheus-medical-expand-informatics-platform\n",
      "https://isrg.intuitive.com/news-releases/news-release-details/intuitive-announces-retirement-board-chair-lonnie-m-smith-dr\n",
      "https://isrg.intuitive.com/news-releases/news-release-details/intuitive-announces-fourth-quarter-earnings\n",
      "https://isrg.intuitive.com/news-releases/news-release-details/intuitive-announces-preliminary-fourth-quarter-and-full-year\n"
     ]
    },
    {
     "name": "stderr",
     "output_type": "stream",
     "text": [
      "Your max_length is set to 500, but you input_length is only 292. You might consider decreasing max_length manually, e.g. summarizer('...', max_length=146)\n"
     ]
    },
    {
     "name": "stdout",
     "output_type": "stream",
     "text": [
      "https://isrg.intuitive.com/news-releases/news-release-details/us-fda-clears-synchroseal-and-e-100-generator-da-vinci-xxi\n",
      "https://isrg.intuitive.com/news-releases/news-release-details/intuitive-opens-new-commercial-center-freiburg\n",
      "https://isrg.intuitive.com/news-releases/news-release-details/intuitive-announces-third-quarter-earnings\n"
     ]
    },
    {
     "name": "stderr",
     "output_type": "stream",
     "text": [
      "Your max_length is set to 500, but you input_length is only 463. You might consider decreasing max_length manually, e.g. summarizer('...', max_length=231)\n"
     ]
    },
    {
     "name": "stdout",
     "output_type": "stream",
     "text": [
      "https://isrg.intuitive.com/news-releases/news-release-details/intuitive-announces-new-uk-headquarters-oxford\n",
      "https://isrg.intuitive.com/news-releases/news-release-details/intuitive-appoints-amy-l-ladd-md-its-board-directors\n",
      "https://isrg.intuitive.com/news-releases/news-release-details/intuitive-announces-second-quarter-earnings\n",
      "https://isrg.intuitive.com/news-releases/news-release-details/intuitive-surgical-acquires-scholly-fiberoptics-robotic\n",
      "https://isrg.intuitive.com/news-releases/news-release-details/intuitive-announces-transition-chief-operating-officer-sal\n",
      "https://isrg.intuitive.com/news-releases/news-release-details/intuitive-announces-first-quarter-earnings\n",
      "https://isrg.intuitive.com/news-releases/news-release-details/us-fda-clears-da-vinci-sp-certain-transoral-otolaryngology\n",
      "https://isrg.intuitive.com/news-releases/news-release-details/u-s-fda-grants-clearance-ion-intuitive\n",
      "https://isrg.intuitive.com/news-releases/news-release-details/intuitive-surgical-announces-fourth-quarter-earnings-7\n",
      "https://isrg.intuitive.com/news-releases/news-release-details/intuitive-surgical-announces-preliminary-fourth-quarter-and-4\n",
      "https://isrg.intuitive.com/news-releases/news-release-details/intuitive-announces-new-general-manager-korea\n",
      "https://isrg.intuitive.com/news-releases/news-release-details/intuitive-surgical-announces-third-quarter-earnings-8\n",
      "https://isrg.intuitive.com/news-releases/news-release-details/intuitive-submits-new-robotic-assisted-platform-fda-obtaining\n",
      "https://isrg.intuitive.com/news-releases/news-release-details/intuitive-appoints-don-kania-phd-its-board-directors\n",
      "https://isrg.intuitive.com/news-releases/news-release-details/intuitive-surgical-announces-second-quarter-earnings-8\n",
      "https://isrg.intuitive.com/news-releases/news-release-details/intuitive-surgical-receives-fda-clearance-first-60mm-stapler\n",
      "https://isrg.intuitive.com/news-releases/news-release-details/intuitive-surgical-announces-innovative-single-port-platform-da\n",
      "https://isrg.intuitive.com/news-releases/news-release-details/intuitive-begin-direct-operations-india\n",
      "https://isrg.intuitive.com/news-releases/news-release-details/new-study-shows-robotic-assisted-surgery-benefits-inguinal\n",
      "https://isrg.intuitive.com/news-releases/news-release-details/intuitive-surgical-announces-first-quarter-earnings-8\n",
      "https://isrg.intuitive.com/news-releases/news-release-details/intuitive-surgical-creator-da-vincir-robotic-assisted-surgical\n",
      "https://isrg.intuitive.com/news-releases/news-release-details/intuitive-surgical-announces-fourth-quarter-earnings-6\n",
      "https://isrg.intuitive.com/news-releases/news-release-details/intuitive-surgical-announces-preliminary-fourth-quarter-and-3\n",
      "https://isrg.intuitive.com/news-releases/news-release-details/new-study-reports-favorable-results-intuitive-surgicals-flexible\n",
      "https://isrg.intuitive.com/news-releases/news-release-details/intuitive-surgical-announces-third-quarter-earnings-7\n",
      "https://isrg.intuitive.com/news-releases/news-release-details/intuitive-surgical-reports-new-employee-option-grants-august-6\n"
     ]
    },
    {
     "name": "stderr",
     "output_type": "stream",
     "text": [
      "Your max_length is set to 500, but you input_length is only 337. You might consider decreasing max_length manually, e.g. summarizer('...', max_length=168)\n"
     ]
    },
    {
     "name": "stdout",
     "output_type": "stream",
     "text": [
      "https://isrg.intuitive.com/news-releases/news-release-details/intuitive-surgical-board-directors-approves-three-one-stock\n",
      "https://isrg.intuitive.com/news-releases/news-release-details/intuitive-surgical-announces-second-quarter-earnings-7\n",
      "https://isrg.intuitive.com/news-releases/news-release-details/intuitive-surgical-reports-new-employee-option-grants-july-2017\n"
     ]
    },
    {
     "name": "stderr",
     "output_type": "stream",
     "text": [
      "Your max_length is set to 500, but you input_length is only 336. You might consider decreasing max_length manually, e.g. summarizer('...', max_length=168)\n"
     ]
    },
    {
     "name": "stdout",
     "output_type": "stream",
     "text": [
      "https://isrg.intuitive.com/news-releases/news-release-details/intuitive-surgical-reports-new-employee-option-grants-june-2017\n"
     ]
    },
    {
     "name": "stderr",
     "output_type": "stream",
     "text": [
      "Your max_length is set to 500, but you input_length is only 336. You might consider decreasing max_length manually, e.g. summarizer('...', max_length=168)\n"
     ]
    },
    {
     "name": "stdout",
     "output_type": "stream",
     "text": [
      "https://isrg.intuitive.com/news-releases/news-release-details/intuitive-surgical-receives-fda-clearance-latest-da-vincir\n",
      "https://isrg.intuitive.com/news-releases/news-release-details/intuitive-surgical-reports-new-employee-option-grants-may-2017\n"
     ]
    },
    {
     "name": "stderr",
     "output_type": "stream",
     "text": [
      "Your max_length is set to 500, but you input_length is only 334. You might consider decreasing max_length manually, e.g. summarizer('...', max_length=167)\n"
     ]
    },
    {
     "name": "stdout",
     "output_type": "stream",
     "text": [
      "https://isrg.intuitive.com/news-releases/news-release-details/intuitive-surgical-receives-ce-mark-latest-da-vincir-robotic-0\n",
      "https://isrg.intuitive.com/news-releases/news-release-details/intuitive-surgical-erhalt-ce-kennzeichnung-fur-sein-neues\n",
      "https://isrg.intuitive.com/news-releases/news-release-details/intuitive-surgical-recoit-la-certification-ce-pour-son-nouveau\n",
      "https://isrg.intuitive.com/news-releases/news-release-details/intuitive-surgical-receives-ce-mark-latest-da-vincir-robotic\n",
      "https://isrg.intuitive.com/news-releases/news-release-details/intuitive-surgical-announces-first-quarter-earnings-7\n",
      "https://isrg.intuitive.com/news-releases/news-release-details/intuitive-surgical-reports-new-employee-option-grants-april-2017\n"
     ]
    },
    {
     "name": "stderr",
     "output_type": "stream",
     "text": [
      "Your max_length is set to 500, but you input_length is only 334. You might consider decreasing max_length manually, e.g. summarizer('...', max_length=167)\n"
     ]
    },
    {
     "name": "stdout",
     "output_type": "stream",
     "text": [
      "https://isrg.intuitive.com/news-releases/news-release-details/intuitive-surgical-reports-new-employee-option-grants-march-2017\n"
     ]
    },
    {
     "name": "stderr",
     "output_type": "stream",
     "text": [
      "Your max_length is set to 500, but you input_length is only 334. You might consider decreasing max_length manually, e.g. summarizer('...', max_length=167)\n"
     ]
    },
    {
     "name": "stdout",
     "output_type": "stream",
     "text": [
      "https://isrg.intuitive.com/news-releases/news-release-details/intuitive-surgical-reports-new-employee-option-grants-february-5\n"
     ]
    },
    {
     "name": "stderr",
     "output_type": "stream",
     "text": [
      "Your max_length is set to 500, but you input_length is only 341. You might consider decreasing max_length manually, e.g. summarizer('...', max_length=170)\n"
     ]
    },
    {
     "name": "stdout",
     "output_type": "stream",
     "text": [
      "https://isrg.intuitive.com/news-releases/news-release-details/intuitive-surgical-announces-fourth-quarter-earnings-and-20\n",
      "https://isrg.intuitive.com/news-releases/news-release-details/intuitive-surgical-reports-new-employee-option-grants-january-5\n"
     ]
    },
    {
     "name": "stderr",
     "output_type": "stream",
     "text": [
      "Your max_length is set to 500, but you input_length is only 342. You might consider decreasing max_length manually, e.g. summarizer('...', max_length=171)\n"
     ]
    },
    {
     "name": "stdout",
     "output_type": "stream",
     "text": [
      "https://isrg.intuitive.com/news-releases/news-release-details/intuitive-surgical-announces-preliminary-fourth-quarter-and-2\n",
      "https://isrg.intuitive.com/news-releases/news-release-details/intuitive-surgical-reports-new-employee-option-grants-december-5\n"
     ]
    },
    {
     "name": "stderr",
     "output_type": "stream",
     "text": [
      "Your max_length is set to 500, but you input_length is only 344. You might consider decreasing max_length manually, e.g. summarizer('...', max_length=172)\n"
     ]
    },
    {
     "name": "stdout",
     "output_type": "stream",
     "text": [
      "https://isrg.intuitive.com/news-releases/news-release-details/intuitive-surgical-increases-share-repurchase-program-30-billion\n",
      "https://isrg.intuitive.com/news-releases/news-release-details/intuitive-surgical-reports-new-employee-option-grants-november-5\n"
     ]
    },
    {
     "name": "stderr",
     "output_type": "stream",
     "text": [
      "Your max_length is set to 500, but you input_length is only 344. You might consider decreasing max_length manually, e.g. summarizer('...', max_length=172)\n"
     ]
    },
    {
     "name": "stdout",
     "output_type": "stream",
     "text": [
      "https://isrg.intuitive.com/news-releases/news-release-details/intuitive-surgical-announces-third-quarter-earnings-6\n",
      "https://isrg.intuitive.com/news-releases/news-release-details/intuitive-surgical-reports-new-employee-option-grants-october-5\n"
     ]
    },
    {
     "name": "stderr",
     "output_type": "stream",
     "text": [
      "Your max_length is set to 500, but you input_length is only 343. You might consider decreasing max_length manually, e.g. summarizer('...', max_length=171)\n"
     ]
    },
    {
     "name": "stdout",
     "output_type": "stream",
     "text": [
      "https://isrg.intuitive.com/news-releases/news-release-details/intuitive-surgical-and-fosun-pharma-establish-joint-venture\n",
      "https://isrg.intuitive.com/news-releases/news-release-details/intuitive-surgical-reports-new-employee-option-grants-5\n"
     ]
    },
    {
     "name": "stderr",
     "output_type": "stream",
     "text": [
      "Your max_length is set to 500, but you input_length is only 343. You might consider decreasing max_length manually, e.g. summarizer('...', max_length=171)\n"
     ]
    },
    {
     "name": "stdout",
     "output_type": "stream",
     "text": [
      "https://isrg.intuitive.com/news-releases/news-release-details/intuitive-surgical-reports-new-employee-option-grants-august-5\n"
     ]
    },
    {
     "name": "stderr",
     "output_type": "stream",
     "text": [
      "Your max_length is set to 500, but you input_length is only 342. You might consider decreasing max_length manually, e.g. summarizer('...', max_length=171)\n"
     ]
    },
    {
     "name": "stdout",
     "output_type": "stream",
     "text": [
      "https://isrg.intuitive.com/news-releases/news-release-details/new-study-shows-robotic-assisted-surgery-benefits-ventral-hernia\n",
      "https://isrg.intuitive.com/news-releases/news-release-details/intuitive-surgical-announces-second-quarter-earnings-6\n",
      "https://isrg.intuitive.com/news-releases/news-release-details/intuitive-surgical-reports-new-employee-option-grants-july-2016\n"
     ]
    },
    {
     "name": "stderr",
     "output_type": "stream",
     "text": [
      "Your max_length is set to 500, but you input_length is only 342. You might consider decreasing max_length manually, e.g. summarizer('...', max_length=171)\n"
     ]
    },
    {
     "name": "stdout",
     "output_type": "stream",
     "text": [
      "https://isrg.intuitive.com/news-releases/news-release-details/intuitive-surgical-announces-selection-2016-thoracic-program\n"
     ]
    },
    {
     "name": "stderr",
     "output_type": "stream",
     "text": [
      "Your max_length is set to 500, but you input_length is only 234. You might consider decreasing max_length manually, e.g. summarizer('...', max_length=117)\n"
     ]
    },
    {
     "name": "stdout",
     "output_type": "stream",
     "text": [
      "https://isrg.intuitive.com/news-releases/news-release-details/intuitive-surgical-reports-new-employee-option-grants-june-2016\n"
     ]
    },
    {
     "name": "stderr",
     "output_type": "stream",
     "text": [
      "Your max_length is set to 500, but you input_length is only 342. You might consider decreasing max_length manually, e.g. summarizer('...', max_length=171)\n"
     ]
    },
    {
     "name": "stdout",
     "output_type": "stream",
     "text": [
      "https://isrg.intuitive.com/news-releases/news-release-details/intuitive-surgical-announces-support-2016-gynecology-fellowship\n",
      "https://isrg.intuitive.com/news-releases/news-release-details/intuitive-surgical-reports-new-employee-option-grants-may-2016\n"
     ]
    },
    {
     "name": "stderr",
     "output_type": "stream",
     "text": [
      "Your max_length is set to 500, but you input_length is only 341. You might consider decreasing max_length manually, e.g. summarizer('...', max_length=170)\n"
     ]
    },
    {
     "name": "stdout",
     "output_type": "stream",
     "text": [
      "https://isrg.intuitive.com/news-releases/news-release-details/intuitive-surgical-announces-first-quarter-earnings-6\n",
      "https://isrg.intuitive.com/news-releases/news-release-details/intuitive-surgical-reports-new-employee-option-grants-april-2016\n"
     ]
    },
    {
     "name": "stderr",
     "output_type": "stream",
     "text": [
      "Your max_length is set to 500, but you input_length is only 342. You might consider decreasing max_length manually, e.g. summarizer('...', max_length=171)\n"
     ]
    },
    {
     "name": "stdout",
     "output_type": "stream",
     "text": [
      "https://isrg.intuitive.com/news-releases/news-release-details/study-results-cost-savings-associated-robotic-assisted\n",
      "https://isrg.intuitive.com/news-releases/news-release-details/intuitive-surgical-reports-new-employee-option-grants-march-2016\n"
     ]
    },
    {
     "name": "stderr",
     "output_type": "stream",
     "text": [
      "Your max_length is set to 500, but you input_length is only 339. You might consider decreasing max_length manually, e.g. summarizer('...', max_length=169)\n"
     ]
    },
    {
     "name": "stdout",
     "output_type": "stream",
     "text": [
      "https://isrg.intuitive.com/news-releases/news-release-details/intuitive-surgical-announces-us-clearance-da-vinci-xi-single\n",
      "https://isrg.intuitive.com/news-releases/news-release-details/intuitive-surgical-announces-us-clearance-da-vinci-xi-endowrist\n",
      "https://isrg.intuitive.com/news-releases/news-release-details/study-results-robotic-assisted-benign-hysterectomy-yields-better\n",
      "https://isrg.intuitive.com/news-releases/news-release-details/intuitive-surgical-reports-new-employee-option-grants-february-4\n"
     ]
    },
    {
     "name": "stderr",
     "output_type": "stream",
     "text": [
      "Your max_length is set to 500, but you input_length is only 342. You might consider decreasing max_length manually, e.g. summarizer('...', max_length=171)\n"
     ]
    },
    {
     "name": "stdout",
     "output_type": "stream",
     "text": [
      "https://isrg.intuitive.com/news-releases/news-release-details/keith-r-leonard-jr-appointed-intuitive-surgical-board-directors\n",
      "https://isrg.intuitive.com/news-releases/news-release-details/intuitive-surgical-and-hill-rom-announce-us-clearance-integrated\n",
      "https://isrg.intuitive.comhttps://isrg.intuitive.com/static-files/3d0e1424-fbf3-4446-9642-8d7e6f498b50\n"
     ]
    },
    {
     "ename": "ConnectionError",
     "evalue": "HTTPSConnectionPool(host='isrg.intuitive.comhttps', port=443): Max retries exceeded with url: //isrg.intuitive.com/static-files/3d0e1424-fbf3-4446-9642-8d7e6f498b50 (Caused by NewConnectionError('<urllib3.connection.HTTPSConnection object at 0x0000021DFC7A9A30>: Failed to establish a new connection: [Errno 11001] getaddrinfo failed'))",
     "output_type": "error",
     "traceback": [
      "\u001b[1;31m---------------------------------------------------------------------------\u001b[0m",
      "\u001b[1;31mgaierror\u001b[0m                                  Traceback (most recent call last)",
      "File \u001b[1;32m~\\miniconda3\\envs\\myenv\\lib\\site-packages\\urllib3\\connection.py:174\u001b[0m, in \u001b[0;36mHTTPConnection._new_conn\u001b[1;34m(self)\u001b[0m\n\u001b[0;32m    173\u001b[0m \u001b[38;5;28;01mtry\u001b[39;00m:\n\u001b[1;32m--> 174\u001b[0m     conn \u001b[38;5;241m=\u001b[39m connection\u001b[38;5;241m.\u001b[39mcreate_connection(\n\u001b[0;32m    175\u001b[0m         (\u001b[38;5;28mself\u001b[39m\u001b[38;5;241m.\u001b[39m_dns_host, \u001b[38;5;28mself\u001b[39m\u001b[38;5;241m.\u001b[39mport), \u001b[38;5;28mself\u001b[39m\u001b[38;5;241m.\u001b[39mtimeout, \u001b[38;5;241m*\u001b[39m\u001b[38;5;241m*\u001b[39mextra_kw\n\u001b[0;32m    176\u001b[0m     )\n\u001b[0;32m    178\u001b[0m \u001b[38;5;28;01mexcept\u001b[39;00m SocketTimeout:\n",
      "File \u001b[1;32m~\\miniconda3\\envs\\myenv\\lib\\site-packages\\urllib3\\util\\connection.py:72\u001b[0m, in \u001b[0;36mcreate_connection\u001b[1;34m(address, timeout, source_address, socket_options)\u001b[0m\n\u001b[0;32m     68\u001b[0m     \u001b[38;5;28;01mreturn\u001b[39;00m six\u001b[38;5;241m.\u001b[39mraise_from(\n\u001b[0;32m     69\u001b[0m         LocationParseError(\u001b[38;5;124mu\u001b[39m\u001b[38;5;124m\"\u001b[39m\u001b[38;5;124m'\u001b[39m\u001b[38;5;132;01m%s\u001b[39;00m\u001b[38;5;124m'\u001b[39m\u001b[38;5;124m, label empty or too long\u001b[39m\u001b[38;5;124m\"\u001b[39m \u001b[38;5;241m%\u001b[39m host), \u001b[38;5;28;01mNone\u001b[39;00m\n\u001b[0;32m     70\u001b[0m     )\n\u001b[1;32m---> 72\u001b[0m \u001b[38;5;28;01mfor\u001b[39;00m res \u001b[38;5;129;01min\u001b[39;00m \u001b[43msocket\u001b[49m\u001b[38;5;241;43m.\u001b[39;49m\u001b[43mgetaddrinfo\u001b[49m\u001b[43m(\u001b[49m\u001b[43mhost\u001b[49m\u001b[43m,\u001b[49m\u001b[43m \u001b[49m\u001b[43mport\u001b[49m\u001b[43m,\u001b[49m\u001b[43m \u001b[49m\u001b[43mfamily\u001b[49m\u001b[43m,\u001b[49m\u001b[43m \u001b[49m\u001b[43msocket\u001b[49m\u001b[38;5;241;43m.\u001b[39;49m\u001b[43mSOCK_STREAM\u001b[49m\u001b[43m)\u001b[49m:\n\u001b[0;32m     73\u001b[0m     af, socktype, proto, canonname, sa \u001b[38;5;241m=\u001b[39m res\n",
      "File \u001b[1;32m~\\miniconda3\\envs\\myenv\\lib\\socket.py:954\u001b[0m, in \u001b[0;36mgetaddrinfo\u001b[1;34m(host, port, family, type, proto, flags)\u001b[0m\n\u001b[0;32m    953\u001b[0m addrlist \u001b[38;5;241m=\u001b[39m []\n\u001b[1;32m--> 954\u001b[0m \u001b[38;5;28;01mfor\u001b[39;00m res \u001b[38;5;129;01min\u001b[39;00m \u001b[43m_socket\u001b[49m\u001b[38;5;241;43m.\u001b[39;49m\u001b[43mgetaddrinfo\u001b[49m\u001b[43m(\u001b[49m\u001b[43mhost\u001b[49m\u001b[43m,\u001b[49m\u001b[43m \u001b[49m\u001b[43mport\u001b[49m\u001b[43m,\u001b[49m\u001b[43m \u001b[49m\u001b[43mfamily\u001b[49m\u001b[43m,\u001b[49m\u001b[43m \u001b[49m\u001b[38;5;28;43mtype\u001b[39;49m\u001b[43m,\u001b[49m\u001b[43m \u001b[49m\u001b[43mproto\u001b[49m\u001b[43m,\u001b[49m\u001b[43m \u001b[49m\u001b[43mflags\u001b[49m\u001b[43m)\u001b[49m:\n\u001b[0;32m    955\u001b[0m     af, socktype, proto, canonname, sa \u001b[38;5;241m=\u001b[39m res\n",
      "\u001b[1;31mgaierror\u001b[0m: [Errno 11001] getaddrinfo failed",
      "\nDuring handling of the above exception, another exception occurred:\n",
      "\u001b[1;31mNewConnectionError\u001b[0m                        Traceback (most recent call last)",
      "File \u001b[1;32m~\\miniconda3\\envs\\myenv\\lib\\site-packages\\urllib3\\connectionpool.py:703\u001b[0m, in \u001b[0;36mHTTPConnectionPool.urlopen\u001b[1;34m(self, method, url, body, headers, retries, redirect, assert_same_host, timeout, pool_timeout, release_conn, chunked, body_pos, **response_kw)\u001b[0m\n\u001b[0;32m    702\u001b[0m \u001b[38;5;66;03m# Make the request on the httplib connection object.\u001b[39;00m\n\u001b[1;32m--> 703\u001b[0m httplib_response \u001b[38;5;241m=\u001b[39m \u001b[38;5;28;43mself\u001b[39;49m\u001b[38;5;241;43m.\u001b[39;49m\u001b[43m_make_request\u001b[49m\u001b[43m(\u001b[49m\n\u001b[0;32m    704\u001b[0m \u001b[43m    \u001b[49m\u001b[43mconn\u001b[49m\u001b[43m,\u001b[49m\n\u001b[0;32m    705\u001b[0m \u001b[43m    \u001b[49m\u001b[43mmethod\u001b[49m\u001b[43m,\u001b[49m\n\u001b[0;32m    706\u001b[0m \u001b[43m    \u001b[49m\u001b[43murl\u001b[49m\u001b[43m,\u001b[49m\n\u001b[0;32m    707\u001b[0m \u001b[43m    \u001b[49m\u001b[43mtimeout\u001b[49m\u001b[38;5;241;43m=\u001b[39;49m\u001b[43mtimeout_obj\u001b[49m\u001b[43m,\u001b[49m\n\u001b[0;32m    708\u001b[0m \u001b[43m    \u001b[49m\u001b[43mbody\u001b[49m\u001b[38;5;241;43m=\u001b[39;49m\u001b[43mbody\u001b[49m\u001b[43m,\u001b[49m\n\u001b[0;32m    709\u001b[0m \u001b[43m    \u001b[49m\u001b[43mheaders\u001b[49m\u001b[38;5;241;43m=\u001b[39;49m\u001b[43mheaders\u001b[49m\u001b[43m,\u001b[49m\n\u001b[0;32m    710\u001b[0m \u001b[43m    \u001b[49m\u001b[43mchunked\u001b[49m\u001b[38;5;241;43m=\u001b[39;49m\u001b[43mchunked\u001b[49m\u001b[43m,\u001b[49m\n\u001b[0;32m    711\u001b[0m \u001b[43m\u001b[49m\u001b[43m)\u001b[49m\n\u001b[0;32m    713\u001b[0m \u001b[38;5;66;03m# If we're going to release the connection in ``finally:``, then\u001b[39;00m\n\u001b[0;32m    714\u001b[0m \u001b[38;5;66;03m# the response doesn't need to know about the connection. Otherwise\u001b[39;00m\n\u001b[0;32m    715\u001b[0m \u001b[38;5;66;03m# it will also try to release it and we'll have a double-release\u001b[39;00m\n\u001b[0;32m    716\u001b[0m \u001b[38;5;66;03m# mess.\u001b[39;00m\n",
      "File \u001b[1;32m~\\miniconda3\\envs\\myenv\\lib\\site-packages\\urllib3\\connectionpool.py:386\u001b[0m, in \u001b[0;36mHTTPConnectionPool._make_request\u001b[1;34m(self, conn, method, url, timeout, chunked, **httplib_request_kw)\u001b[0m\n\u001b[0;32m    385\u001b[0m \u001b[38;5;28;01mtry\u001b[39;00m:\n\u001b[1;32m--> 386\u001b[0m     \u001b[38;5;28;43mself\u001b[39;49m\u001b[38;5;241;43m.\u001b[39;49m\u001b[43m_validate_conn\u001b[49m\u001b[43m(\u001b[49m\u001b[43mconn\u001b[49m\u001b[43m)\u001b[49m\n\u001b[0;32m    387\u001b[0m \u001b[38;5;28;01mexcept\u001b[39;00m (SocketTimeout, BaseSSLError) \u001b[38;5;28;01mas\u001b[39;00m e:\n\u001b[0;32m    388\u001b[0m     \u001b[38;5;66;03m# Py2 raises this as a BaseSSLError, Py3 raises it as socket timeout.\u001b[39;00m\n",
      "File \u001b[1;32m~\\miniconda3\\envs\\myenv\\lib\\site-packages\\urllib3\\connectionpool.py:1042\u001b[0m, in \u001b[0;36mHTTPSConnectionPool._validate_conn\u001b[1;34m(self, conn)\u001b[0m\n\u001b[0;32m   1041\u001b[0m \u001b[38;5;28;01mif\u001b[39;00m \u001b[38;5;129;01mnot\u001b[39;00m \u001b[38;5;28mgetattr\u001b[39m(conn, \u001b[38;5;124m\"\u001b[39m\u001b[38;5;124msock\u001b[39m\u001b[38;5;124m\"\u001b[39m, \u001b[38;5;28;01mNone\u001b[39;00m):  \u001b[38;5;66;03m# AppEngine might not have  `.sock`\u001b[39;00m\n\u001b[1;32m-> 1042\u001b[0m     \u001b[43mconn\u001b[49m\u001b[38;5;241;43m.\u001b[39;49m\u001b[43mconnect\u001b[49m\u001b[43m(\u001b[49m\u001b[43m)\u001b[49m\n\u001b[0;32m   1044\u001b[0m \u001b[38;5;28;01mif\u001b[39;00m \u001b[38;5;129;01mnot\u001b[39;00m conn\u001b[38;5;241m.\u001b[39mis_verified:\n",
      "File \u001b[1;32m~\\miniconda3\\envs\\myenv\\lib\\site-packages\\urllib3\\connection.py:358\u001b[0m, in \u001b[0;36mHTTPSConnection.connect\u001b[1;34m(self)\u001b[0m\n\u001b[0;32m    356\u001b[0m \u001b[38;5;28;01mdef\u001b[39;00m \u001b[38;5;21mconnect\u001b[39m(\u001b[38;5;28mself\u001b[39m):\n\u001b[0;32m    357\u001b[0m     \u001b[38;5;66;03m# Add certificate verification\u001b[39;00m\n\u001b[1;32m--> 358\u001b[0m     \u001b[38;5;28mself\u001b[39m\u001b[38;5;241m.\u001b[39msock \u001b[38;5;241m=\u001b[39m conn \u001b[38;5;241m=\u001b[39m \u001b[38;5;28;43mself\u001b[39;49m\u001b[38;5;241;43m.\u001b[39;49m\u001b[43m_new_conn\u001b[49m\u001b[43m(\u001b[49m\u001b[43m)\u001b[49m\n\u001b[0;32m    359\u001b[0m     hostname \u001b[38;5;241m=\u001b[39m \u001b[38;5;28mself\u001b[39m\u001b[38;5;241m.\u001b[39mhost\n",
      "File \u001b[1;32m~\\miniconda3\\envs\\myenv\\lib\\site-packages\\urllib3\\connection.py:186\u001b[0m, in \u001b[0;36mHTTPConnection._new_conn\u001b[1;34m(self)\u001b[0m\n\u001b[0;32m    185\u001b[0m \u001b[38;5;28;01mexcept\u001b[39;00m SocketError \u001b[38;5;28;01mas\u001b[39;00m e:\n\u001b[1;32m--> 186\u001b[0m     \u001b[38;5;28;01mraise\u001b[39;00m NewConnectionError(\n\u001b[0;32m    187\u001b[0m         \u001b[38;5;28mself\u001b[39m, \u001b[38;5;124m\"\u001b[39m\u001b[38;5;124mFailed to establish a new connection: \u001b[39m\u001b[38;5;132;01m%s\u001b[39;00m\u001b[38;5;124m\"\u001b[39m \u001b[38;5;241m%\u001b[39m e\n\u001b[0;32m    188\u001b[0m     )\n\u001b[0;32m    190\u001b[0m \u001b[38;5;28;01mreturn\u001b[39;00m conn\n",
      "\u001b[1;31mNewConnectionError\u001b[0m: <urllib3.connection.HTTPSConnection object at 0x0000021DFC7A9A30>: Failed to establish a new connection: [Errno 11001] getaddrinfo failed",
      "\nDuring handling of the above exception, another exception occurred:\n",
      "\u001b[1;31mMaxRetryError\u001b[0m                             Traceback (most recent call last)",
      "File \u001b[1;32m~\\miniconda3\\envs\\myenv\\lib\\site-packages\\requests\\adapters.py:489\u001b[0m, in \u001b[0;36mHTTPAdapter.send\u001b[1;34m(self, request, stream, timeout, verify, cert, proxies)\u001b[0m\n\u001b[0;32m    488\u001b[0m \u001b[38;5;28;01mif\u001b[39;00m \u001b[38;5;129;01mnot\u001b[39;00m chunked:\n\u001b[1;32m--> 489\u001b[0m     resp \u001b[38;5;241m=\u001b[39m \u001b[43mconn\u001b[49m\u001b[38;5;241;43m.\u001b[39;49m\u001b[43murlopen\u001b[49m\u001b[43m(\u001b[49m\n\u001b[0;32m    490\u001b[0m \u001b[43m        \u001b[49m\u001b[43mmethod\u001b[49m\u001b[38;5;241;43m=\u001b[39;49m\u001b[43mrequest\u001b[49m\u001b[38;5;241;43m.\u001b[39;49m\u001b[43mmethod\u001b[49m\u001b[43m,\u001b[49m\n\u001b[0;32m    491\u001b[0m \u001b[43m        \u001b[49m\u001b[43murl\u001b[49m\u001b[38;5;241;43m=\u001b[39;49m\u001b[43murl\u001b[49m\u001b[43m,\u001b[49m\n\u001b[0;32m    492\u001b[0m \u001b[43m        \u001b[49m\u001b[43mbody\u001b[49m\u001b[38;5;241;43m=\u001b[39;49m\u001b[43mrequest\u001b[49m\u001b[38;5;241;43m.\u001b[39;49m\u001b[43mbody\u001b[49m\u001b[43m,\u001b[49m\n\u001b[0;32m    493\u001b[0m \u001b[43m        \u001b[49m\u001b[43mheaders\u001b[49m\u001b[38;5;241;43m=\u001b[39;49m\u001b[43mrequest\u001b[49m\u001b[38;5;241;43m.\u001b[39;49m\u001b[43mheaders\u001b[49m\u001b[43m,\u001b[49m\n\u001b[0;32m    494\u001b[0m \u001b[43m        \u001b[49m\u001b[43mredirect\u001b[49m\u001b[38;5;241;43m=\u001b[39;49m\u001b[38;5;28;43;01mFalse\u001b[39;49;00m\u001b[43m,\u001b[49m\n\u001b[0;32m    495\u001b[0m \u001b[43m        \u001b[49m\u001b[43massert_same_host\u001b[49m\u001b[38;5;241;43m=\u001b[39;49m\u001b[38;5;28;43;01mFalse\u001b[39;49;00m\u001b[43m,\u001b[49m\n\u001b[0;32m    496\u001b[0m \u001b[43m        \u001b[49m\u001b[43mpreload_content\u001b[49m\u001b[38;5;241;43m=\u001b[39;49m\u001b[38;5;28;43;01mFalse\u001b[39;49;00m\u001b[43m,\u001b[49m\n\u001b[0;32m    497\u001b[0m \u001b[43m        \u001b[49m\u001b[43mdecode_content\u001b[49m\u001b[38;5;241;43m=\u001b[39;49m\u001b[38;5;28;43;01mFalse\u001b[39;49;00m\u001b[43m,\u001b[49m\n\u001b[0;32m    498\u001b[0m \u001b[43m        \u001b[49m\u001b[43mretries\u001b[49m\u001b[38;5;241;43m=\u001b[39;49m\u001b[38;5;28;43mself\u001b[39;49m\u001b[38;5;241;43m.\u001b[39;49m\u001b[43mmax_retries\u001b[49m\u001b[43m,\u001b[49m\n\u001b[0;32m    499\u001b[0m \u001b[43m        \u001b[49m\u001b[43mtimeout\u001b[49m\u001b[38;5;241;43m=\u001b[39;49m\u001b[43mtimeout\u001b[49m\u001b[43m,\u001b[49m\n\u001b[0;32m    500\u001b[0m \u001b[43m    \u001b[49m\u001b[43m)\u001b[49m\n\u001b[0;32m    502\u001b[0m \u001b[38;5;66;03m# Send the request.\u001b[39;00m\n\u001b[0;32m    503\u001b[0m \u001b[38;5;28;01melse\u001b[39;00m:\n",
      "File \u001b[1;32m~\\miniconda3\\envs\\myenv\\lib\\site-packages\\urllib3\\connectionpool.py:787\u001b[0m, in \u001b[0;36mHTTPConnectionPool.urlopen\u001b[1;34m(self, method, url, body, headers, retries, redirect, assert_same_host, timeout, pool_timeout, release_conn, chunked, body_pos, **response_kw)\u001b[0m\n\u001b[0;32m    785\u001b[0m     e \u001b[38;5;241m=\u001b[39m ProtocolError(\u001b[38;5;124m\"\u001b[39m\u001b[38;5;124mConnection aborted.\u001b[39m\u001b[38;5;124m\"\u001b[39m, e)\n\u001b[1;32m--> 787\u001b[0m retries \u001b[38;5;241m=\u001b[39m \u001b[43mretries\u001b[49m\u001b[38;5;241;43m.\u001b[39;49m\u001b[43mincrement\u001b[49m\u001b[43m(\u001b[49m\n\u001b[0;32m    788\u001b[0m \u001b[43m    \u001b[49m\u001b[43mmethod\u001b[49m\u001b[43m,\u001b[49m\u001b[43m \u001b[49m\u001b[43murl\u001b[49m\u001b[43m,\u001b[49m\u001b[43m \u001b[49m\u001b[43merror\u001b[49m\u001b[38;5;241;43m=\u001b[39;49m\u001b[43me\u001b[49m\u001b[43m,\u001b[49m\u001b[43m \u001b[49m\u001b[43m_pool\u001b[49m\u001b[38;5;241;43m=\u001b[39;49m\u001b[38;5;28;43mself\u001b[39;49m\u001b[43m,\u001b[49m\u001b[43m \u001b[49m\u001b[43m_stacktrace\u001b[49m\u001b[38;5;241;43m=\u001b[39;49m\u001b[43msys\u001b[49m\u001b[38;5;241;43m.\u001b[39;49m\u001b[43mexc_info\u001b[49m\u001b[43m(\u001b[49m\u001b[43m)\u001b[49m\u001b[43m[\u001b[49m\u001b[38;5;241;43m2\u001b[39;49m\u001b[43m]\u001b[49m\n\u001b[0;32m    789\u001b[0m \u001b[43m\u001b[49m\u001b[43m)\u001b[49m\n\u001b[0;32m    790\u001b[0m retries\u001b[38;5;241m.\u001b[39msleep()\n",
      "File \u001b[1;32m~\\miniconda3\\envs\\myenv\\lib\\site-packages\\urllib3\\util\\retry.py:592\u001b[0m, in \u001b[0;36mRetry.increment\u001b[1;34m(self, method, url, response, error, _pool, _stacktrace)\u001b[0m\n\u001b[0;32m    591\u001b[0m \u001b[38;5;28;01mif\u001b[39;00m new_retry\u001b[38;5;241m.\u001b[39mis_exhausted():\n\u001b[1;32m--> 592\u001b[0m     \u001b[38;5;28;01mraise\u001b[39;00m MaxRetryError(_pool, url, error \u001b[38;5;129;01mor\u001b[39;00m ResponseError(cause))\n\u001b[0;32m    594\u001b[0m log\u001b[38;5;241m.\u001b[39mdebug(\u001b[38;5;124m\"\u001b[39m\u001b[38;5;124mIncremented Retry for (url=\u001b[39m\u001b[38;5;124m'\u001b[39m\u001b[38;5;132;01m%s\u001b[39;00m\u001b[38;5;124m'\u001b[39m\u001b[38;5;124m): \u001b[39m\u001b[38;5;132;01m%r\u001b[39;00m\u001b[38;5;124m\"\u001b[39m, url, new_retry)\n",
      "\u001b[1;31mMaxRetryError\u001b[0m: HTTPSConnectionPool(host='isrg.intuitive.comhttps', port=443): Max retries exceeded with url: //isrg.intuitive.com/static-files/3d0e1424-fbf3-4446-9642-8d7e6f498b50 (Caused by NewConnectionError('<urllib3.connection.HTTPSConnection object at 0x0000021DFC7A9A30>: Failed to establish a new connection: [Errno 11001] getaddrinfo failed'))",
      "\nDuring handling of the above exception, another exception occurred:\n",
      "\u001b[1;31mConnectionError\u001b[0m                           Traceback (most recent call last)",
      "Cell \u001b[1;32mIn[6], line 37\u001b[0m\n\u001b[0;32m     35\u001b[0m url \u001b[38;5;241m=\u001b[39m \u001b[38;5;124mf\u001b[39m\u001b[38;5;124m'\u001b[39m\u001b[38;5;124mhttps://isrg.intuitive.com\u001b[39m\u001b[38;5;132;01m{\u001b[39;00murl\u001b[38;5;132;01m}\u001b[39;00m\u001b[38;5;124m'\u001b[39m\n\u001b[0;32m     36\u001b[0m \u001b[38;5;28mprint\u001b[39m(url)\n\u001b[1;32m---> 37\u001b[0m content \u001b[38;5;241m=\u001b[39m \u001b[43misrg_specfic\u001b[49m\u001b[43m(\u001b[49m\u001b[43murl\u001b[49m\u001b[43m)\u001b[49m\n\u001b[0;32m     39\u001b[0m date \u001b[38;5;241m=\u001b[39m date\u001b[38;5;241m.\u001b[39mlstrip()\u001b[38;5;241m.\u001b[39mrstrip()    \u001b[38;5;66;03m# remove starting and trailing whitespaces\u001b[39;00m\n\u001b[0;32m     40\u001b[0m title \u001b[38;5;241m=\u001b[39m title\u001b[38;5;241m.\u001b[39mlstrip()\u001b[38;5;241m.\u001b[39mrstrip() \n",
      "File \u001b[1;32mN:\\ftp\\scrappers\\functions.py:220\u001b[0m, in \u001b[0;36misrg_specfic\u001b[1;34m(url)\u001b[0m\n\u001b[0;32m    216\u001b[0m user_agent \u001b[38;5;241m=\u001b[39m \u001b[38;5;124m'\u001b[39m\u001b[38;5;124mMozilla/5.0 (Windows; U; Windows NT 5.1; en-US; rv:1.9.0.7) Gecko/2009021910 Firefox/3.0.7\u001b[39m\u001b[38;5;124m'\u001b[39m\n\u001b[0;32m    218\u001b[0m headers \u001b[38;5;241m=\u001b[39m {\u001b[38;5;124m'\u001b[39m\u001b[38;5;124mUser-Agent\u001b[39m\u001b[38;5;124m'\u001b[39m:user_agent,} \n\u001b[1;32m--> 220\u001b[0m response \u001b[38;5;241m=\u001b[39m \u001b[43mrequests\u001b[49m\u001b[38;5;241;43m.\u001b[39;49m\u001b[43mget\u001b[49m\u001b[43m(\u001b[49m\u001b[43murl\u001b[49m\u001b[43m)\u001b[49m\n\u001b[0;32m    222\u001b[0m content_type \u001b[38;5;241m=\u001b[39m response\u001b[38;5;241m.\u001b[39mheaders[\u001b[38;5;124m'\u001b[39m\u001b[38;5;124mcontent-type\u001b[39m\u001b[38;5;124m'\u001b[39m]\n\u001b[0;32m    223\u001b[0m extension \u001b[38;5;241m=\u001b[39m mimetypes\u001b[38;5;241m.\u001b[39mguess_extension(content_type)\n",
      "File \u001b[1;32m~\\miniconda3\\envs\\myenv\\lib\\site-packages\\requests\\api.py:73\u001b[0m, in \u001b[0;36mget\u001b[1;34m(url, params, **kwargs)\u001b[0m\n\u001b[0;32m     62\u001b[0m \u001b[38;5;28;01mdef\u001b[39;00m \u001b[38;5;21mget\u001b[39m(url, params\u001b[38;5;241m=\u001b[39m\u001b[38;5;28;01mNone\u001b[39;00m, \u001b[38;5;241m*\u001b[39m\u001b[38;5;241m*\u001b[39mkwargs):\n\u001b[0;32m     63\u001b[0m \u001b[38;5;250m    \u001b[39m\u001b[38;5;124mr\u001b[39m\u001b[38;5;124;03m\"\"\"Sends a GET request.\u001b[39;00m\n\u001b[0;32m     64\u001b[0m \n\u001b[0;32m     65\u001b[0m \u001b[38;5;124;03m    :param url: URL for the new :class:`Request` object.\u001b[39;00m\n\u001b[1;32m   (...)\u001b[0m\n\u001b[0;32m     70\u001b[0m \u001b[38;5;124;03m    :rtype: requests.Response\u001b[39;00m\n\u001b[0;32m     71\u001b[0m \u001b[38;5;124;03m    \"\"\"\u001b[39;00m\n\u001b[1;32m---> 73\u001b[0m     \u001b[38;5;28;01mreturn\u001b[39;00m request(\u001b[38;5;124m\"\u001b[39m\u001b[38;5;124mget\u001b[39m\u001b[38;5;124m\"\u001b[39m, url, params\u001b[38;5;241m=\u001b[39mparams, \u001b[38;5;241m*\u001b[39m\u001b[38;5;241m*\u001b[39mkwargs)\n",
      "File \u001b[1;32m~\\miniconda3\\envs\\myenv\\lib\\site-packages\\requests\\api.py:59\u001b[0m, in \u001b[0;36mrequest\u001b[1;34m(method, url, **kwargs)\u001b[0m\n\u001b[0;32m     55\u001b[0m \u001b[38;5;66;03m# By using the 'with' statement we are sure the session is closed, thus we\u001b[39;00m\n\u001b[0;32m     56\u001b[0m \u001b[38;5;66;03m# avoid leaving sockets open which can trigger a ResourceWarning in some\u001b[39;00m\n\u001b[0;32m     57\u001b[0m \u001b[38;5;66;03m# cases, and look like a memory leak in others.\u001b[39;00m\n\u001b[0;32m     58\u001b[0m \u001b[38;5;28;01mwith\u001b[39;00m sessions\u001b[38;5;241m.\u001b[39mSession() \u001b[38;5;28;01mas\u001b[39;00m session:\n\u001b[1;32m---> 59\u001b[0m     \u001b[38;5;28;01mreturn\u001b[39;00m session\u001b[38;5;241m.\u001b[39mrequest(method\u001b[38;5;241m=\u001b[39mmethod, url\u001b[38;5;241m=\u001b[39murl, \u001b[38;5;241m*\u001b[39m\u001b[38;5;241m*\u001b[39mkwargs)\n",
      "File \u001b[1;32m~\\miniconda3\\envs\\myenv\\lib\\site-packages\\requests\\sessions.py:587\u001b[0m, in \u001b[0;36mSession.request\u001b[1;34m(self, method, url, params, data, headers, cookies, files, auth, timeout, allow_redirects, proxies, hooks, stream, verify, cert, json)\u001b[0m\n\u001b[0;32m    582\u001b[0m send_kwargs \u001b[38;5;241m=\u001b[39m {\n\u001b[0;32m    583\u001b[0m     \u001b[38;5;124m\"\u001b[39m\u001b[38;5;124mtimeout\u001b[39m\u001b[38;5;124m\"\u001b[39m: timeout,\n\u001b[0;32m    584\u001b[0m     \u001b[38;5;124m\"\u001b[39m\u001b[38;5;124mallow_redirects\u001b[39m\u001b[38;5;124m\"\u001b[39m: allow_redirects,\n\u001b[0;32m    585\u001b[0m }\n\u001b[0;32m    586\u001b[0m send_kwargs\u001b[38;5;241m.\u001b[39mupdate(settings)\n\u001b[1;32m--> 587\u001b[0m resp \u001b[38;5;241m=\u001b[39m \u001b[38;5;28mself\u001b[39m\u001b[38;5;241m.\u001b[39msend(prep, \u001b[38;5;241m*\u001b[39m\u001b[38;5;241m*\u001b[39msend_kwargs)\n\u001b[0;32m    589\u001b[0m \u001b[38;5;28;01mreturn\u001b[39;00m resp\n",
      "File \u001b[1;32m~\\miniconda3\\envs\\myenv\\lib\\site-packages\\requests\\sessions.py:701\u001b[0m, in \u001b[0;36mSession.send\u001b[1;34m(self, request, **kwargs)\u001b[0m\n\u001b[0;32m    698\u001b[0m start \u001b[38;5;241m=\u001b[39m preferred_clock()\n\u001b[0;32m    700\u001b[0m \u001b[38;5;66;03m# Send the request\u001b[39;00m\n\u001b[1;32m--> 701\u001b[0m r \u001b[38;5;241m=\u001b[39m adapter\u001b[38;5;241m.\u001b[39msend(request, \u001b[38;5;241m*\u001b[39m\u001b[38;5;241m*\u001b[39mkwargs)\n\u001b[0;32m    703\u001b[0m \u001b[38;5;66;03m# Total elapsed time of the request (approximately)\u001b[39;00m\n\u001b[0;32m    704\u001b[0m elapsed \u001b[38;5;241m=\u001b[39m preferred_clock() \u001b[38;5;241m-\u001b[39m start\n",
      "File \u001b[1;32m~\\miniconda3\\envs\\myenv\\lib\\site-packages\\requests\\adapters.py:565\u001b[0m, in \u001b[0;36mHTTPAdapter.send\u001b[1;34m(self, request, stream, timeout, verify, cert, proxies)\u001b[0m\n\u001b[0;32m    561\u001b[0m     \u001b[38;5;28;01mif\u001b[39;00m \u001b[38;5;28misinstance\u001b[39m(e\u001b[38;5;241m.\u001b[39mreason, _SSLError):\n\u001b[0;32m    562\u001b[0m         \u001b[38;5;66;03m# This branch is for urllib3 v1.22 and later.\u001b[39;00m\n\u001b[0;32m    563\u001b[0m         \u001b[38;5;28;01mraise\u001b[39;00m SSLError(e, request\u001b[38;5;241m=\u001b[39mrequest)\n\u001b[1;32m--> 565\u001b[0m     \u001b[38;5;28;01mraise\u001b[39;00m \u001b[38;5;167;01mConnectionError\u001b[39;00m(e, request\u001b[38;5;241m=\u001b[39mrequest)\n\u001b[0;32m    567\u001b[0m \u001b[38;5;28;01mexcept\u001b[39;00m ClosedPoolError \u001b[38;5;28;01mas\u001b[39;00m e:\n\u001b[0;32m    568\u001b[0m     \u001b[38;5;28;01mraise\u001b[39;00m \u001b[38;5;167;01mConnectionError\u001b[39;00m(e, request\u001b[38;5;241m=\u001b[39mrequest)\n",
      "\u001b[1;31mConnectionError\u001b[0m: HTTPSConnectionPool(host='isrg.intuitive.comhttps', port=443): Max retries exceeded with url: //isrg.intuitive.com/static-files/3d0e1424-fbf3-4446-9642-8d7e6f498b50 (Caused by NewConnectionError('<urllib3.connection.HTTPSConnection object at 0x0000021DFC7A9A30>: Failed to establish a new connection: [Errno 11001] getaddrinfo failed'))"
     ]
    }
   ],
   "source": [
    "data = []\n",
    "page_num = 0\n",
    "\n",
    "ticker = 'isrg'\n",
    "\n",
    "sector = get_sector(ticker)\n",
    "\n",
    "index_ticker = '^GSPC'\n",
    "# select by value \n",
    "\n",
    "stock_hist = get_df(ticker)\n",
    "index_hist = get_df(index_ticker)\n",
    "\n",
    "# create break\n",
    "while True:\n",
    "    \n",
    "    headers = {\"User-Agent\": \"Mozilla/5.0 (Windows NT 10.0; Win64; x64) AppleWebKit/537.36 (KHTML, like Gecko) Chrome/94.0.4606.81 Safari/537.36\"}\n",
    "    \n",
    "    s = requests.Session()\n",
    "    html = requests.get(f'https://isrg.intuitive.com/press-releases?page={page_num}/', headers=headers)\n",
    "    \n",
    "\n",
    "    content = BeautifulSoup(html.content) \n",
    "\n",
    "    articles = content.find_all('div',attrs={'class': 'row paddingTop34'})\n",
    "        \n",
    "    if not articles:\n",
    "        break\n",
    "\n",
    "   \n",
    "    for article in articles:\n",
    "        date = article.find('div', attrs={'class': 'newsReleaseDate'}).text\n",
    "        title = article.find('a', attrs={'class': 'stockQuotePressNote'}).text\n",
    "        url = article.find('a', attrs={'class': 'stockQuotePressNote'}).get('href')\n",
    "        url = f'https://isrg.intuitive.com{url}'\n",
    "        print(url)\n",
    "        content = isrg_specfic(url)\n",
    "        \n",
    "        date = date.lstrip().rstrip()    # remove starting and trailing whitespaces\n",
    "        title = title.lstrip().rstrip() \n",
    "        \n",
    "        date = dparser.parse(date,fuzzy=False).date()\n",
    "        if date < datetime(2014, 1, 1).date():\n",
    "            past_last_date = True\n",
    "            break        \n",
    "        \n",
    "        pct_change = changes_from_press(stock_hist, date, 1)\n",
    "        if pct_change != None:\n",
    "            index_price, norm_price = normalise_to_index(pct_change, date, index_hist)\n",
    "        else:\n",
    "            index_price, norm_price = (None, None)\n",
    "\n",
    "        data.append([str(date), title, url, content, pct_change, index_price, norm_price])\n",
    "    if past_last_date == True: break    \n",
    "    page_num = page_num + 1\n",
    "\n",
    "save_data(data, columns, ticker, sector)"
   ]
  },
  {
   "cell_type": "code",
   "execution_count": 3,
   "id": "ba9e1fc1",
   "metadata": {},
   "outputs": [
    {
     "data": {
      "text/plain": [
       "'application/pdf'"
      ]
     },
     "execution_count": 3,
     "metadata": {},
     "output_type": "execute_result"
    }
   ],
   "source": [
    "import urllib.request\n",
    "\n",
    "user_agent = 'Mozilla/5.0 (Windows; U; Windows NT 5.1; en-US; rv:1.9.0.7) Gecko/2009021910 Firefox/3.0.7'\n",
    "\n",
    "headers = {'User-Agent':user_agent,} \n",
    "\n",
    "request = urllib.request.Request('https://www.jpmorganchase.com/content/dam/jpmc/jpmorgan-chase-and-co/investor-relations/documents/quarterly-earnings/2023/1st-quarter/be0fc3a0-c499-4af9-933c-6e7f75025097.pdf', None, headers) #The assembled request\n",
    "response = urllib.request.urlopen(request)\n",
    "\n",
    "response.headers['content-type']"
   ]
  },
  {
   "cell_type": "code",
   "execution_count": 1,
   "id": "5cd1a35e",
   "metadata": {},
   "outputs": [],
   "source": [
    "import requests\n",
    "from bs4 import BeautifulSoup as bs\n",
    "\n",
    "url = 'https://isrg.intuitive.com/news-releases/news-release-details/intuitive-reaches-10-million-procedures-performed-using-da-vinci'\n",
    "\n",
    "response = requests.get(url)\n",
    "\n",
    "soup = bs(response.text, 'html.parser')\n",
    "content = soup.find('p').text"
   ]
  },
  {
   "cell_type": "code",
   "execution_count": 2,
   "id": "ba15a99f",
   "metadata": {},
   "outputs": [
    {
     "data": {
      "text/html": [
       "<div>\n",
       "<style scoped>\n",
       "    .dataframe tbody tr th:only-of-type {\n",
       "        vertical-align: middle;\n",
       "    }\n",
       "\n",
       "    .dataframe tbody tr th {\n",
       "        vertical-align: top;\n",
       "    }\n",
       "\n",
       "    .dataframe thead th {\n",
       "        text-align: right;\n",
       "    }\n",
       "</style>\n",
       "<table border=\"1\" class=\"dataframe\">\n",
       "  <thead>\n",
       "    <tr style=\"text-align: right;\">\n",
       "      <th></th>\n",
       "      <th></th>\n",
       "      <th>maxAge</th>\n",
       "      <th>epsActual</th>\n",
       "      <th>epsEstimate</th>\n",
       "      <th>epsDifference</th>\n",
       "      <th>surprisePercent</th>\n",
       "      <th>quarter</th>\n",
       "      <th>period</th>\n",
       "    </tr>\n",
       "    <tr>\n",
       "      <th>symbol</th>\n",
       "      <th>row</th>\n",
       "      <th></th>\n",
       "      <th></th>\n",
       "      <th></th>\n",
       "      <th></th>\n",
       "      <th></th>\n",
       "      <th></th>\n",
       "      <th></th>\n",
       "    </tr>\n",
       "  </thead>\n",
       "  <tbody>\n",
       "    <tr>\n",
       "      <th rowspan=\"4\" valign=\"top\">aapl</th>\n",
       "      <th>0</th>\n",
       "      <td>1</td>\n",
       "      <td>1.20</td>\n",
       "      <td>1.16</td>\n",
       "      <td>0.04</td>\n",
       "      <td>0.034</td>\n",
       "      <td>2022-06-30</td>\n",
       "      <td>-4q</td>\n",
       "    </tr>\n",
       "    <tr>\n",
       "      <th>1</th>\n",
       "      <td>1</td>\n",
       "      <td>1.29</td>\n",
       "      <td>1.27</td>\n",
       "      <td>0.02</td>\n",
       "      <td>0.016</td>\n",
       "      <td>2022-09-30</td>\n",
       "      <td>-3q</td>\n",
       "    </tr>\n",
       "    <tr>\n",
       "      <th>2</th>\n",
       "      <td>1</td>\n",
       "      <td>1.88</td>\n",
       "      <td>1.94</td>\n",
       "      <td>-0.06</td>\n",
       "      <td>-0.031</td>\n",
       "      <td>2022-12-31</td>\n",
       "      <td>-2q</td>\n",
       "    </tr>\n",
       "    <tr>\n",
       "      <th>3</th>\n",
       "      <td>1</td>\n",
       "      <td>1.52</td>\n",
       "      <td>1.43</td>\n",
       "      <td>0.09</td>\n",
       "      <td>0.063</td>\n",
       "      <td>2023-03-31</td>\n",
       "      <td>-1q</td>\n",
       "    </tr>\n",
       "  </tbody>\n",
       "</table>\n",
       "</div>"
      ],
      "text/plain": [
       "            maxAge  epsActual  epsEstimate  epsDifference  surprisePercent  \\\n",
       "symbol row                                                                   \n",
       "aapl   0         1       1.20         1.16           0.04            0.034   \n",
       "       1         1       1.29         1.27           0.02            0.016   \n",
       "       2         1       1.88         1.94          -0.06           -0.031   \n",
       "       3         1       1.52         1.43           0.09            0.063   \n",
       "\n",
       "               quarter period  \n",
       "symbol row                     \n",
       "aapl   0    2022-06-30    -4q  \n",
       "       1    2022-09-30    -3q  \n",
       "       2    2022-12-31    -2q  \n",
       "       3    2023-03-31    -1q  "
      ]
     },
     "execution_count": 2,
     "metadata": {},
     "output_type": "execute_result"
    }
   ],
   "source": [
    "\n",
    "from yahooquery import Ticker\n",
    "\n",
    "aapl = Ticker('aapl')\n",
    "aapl.earning_history\n"
   ]
  },
  {
   "cell_type": "code",
   "execution_count": 6,
   "id": "1cf2ad0f",
   "metadata": {},
   "outputs": [],
   "source": [
    "\n",
    "import requests\n",
    "import mimetypes\n",
    "\n",
    "response = requests.get('https://isrg.intuitive.com/static-files/850fc7db-ca1f-45da-9d91-4403c71c3c82')\n",
    "content_type = response.headers['content-type']\n",
    "extension = mimetypes.guess_extension(content_type)"
   ]
  },
  {
   "cell_type": "code",
   "execution_count": 7,
   "id": "5fbbdaed",
   "metadata": {},
   "outputs": [
    {
     "data": {
      "text/plain": [
       "'.pdf'"
      ]
     },
     "execution_count": 7,
     "metadata": {},
     "output_type": "execute_result"
    }
   ],
   "source": [
    "extension"
   ]
  },
  {
   "cell_type": "code",
   "execution_count": 9,
   "id": "37b8b083",
   "metadata": {},
   "outputs": [
    {
     "data": {
      "text/plain": [
       "'application/pdf'"
      ]
     },
     "execution_count": 9,
     "metadata": {},
     "output_type": "execute_result"
    }
   ],
   "source": [
    "content_type = response.headers['content-type']\n",
    "content_type"
   ]
  },
  {
   "cell_type": "code",
   "execution_count": null,
   "id": "12eebc75",
   "metadata": {},
   "outputs": [],
   "source": []
  }
 ],
 "metadata": {
  "kernelspec": {
   "display_name": "Python 3 (ipykernel)",
   "language": "python",
   "name": "python3"
  },
  "language_info": {
   "codemirror_mode": {
    "name": "ipython",
    "version": 3
   },
   "file_extension": ".py",
   "mimetype": "text/x-python",
   "name": "python",
   "nbconvert_exporter": "python",
   "pygments_lexer": "ipython3",
   "version": "3.9.16"
  }
 },
 "nbformat": 4,
 "nbformat_minor": 5
}
