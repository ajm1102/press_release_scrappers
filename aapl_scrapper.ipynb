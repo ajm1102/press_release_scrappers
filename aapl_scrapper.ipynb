{
 "cells": [
  {
   "cell_type": "code",
   "execution_count": 1,
   "id": "fd740cc0",
   "metadata": {},
   "outputs": [
    {
     "name": "stderr",
     "output_type": "stream",
     "text": [
      "C:\\Users\\Aidan\\miniconda3\\envs\\myenv\\lib\\site-packages\\tqdm\\auto.py:21: TqdmWarning: IProgress not found. Please update jupyter and ipywidgets. See https://ipywidgets.readthedocs.io/en/stable/user_install.html\n",
      "  from .autonotebook import tqdm as notebook_tqdm\n"
     ]
    }
   ],
   "source": [
    "import re\n",
    "import requests\n",
    "from bs4 import BeautifulSoup\n",
    "import yfinance as yf\n",
    "import datetime\n",
    "from datetime import timedelta\n",
    "import pandas as pd\n",
    "import json\n",
    "\n",
    "from functions import (get_sector, changes_from_press, get_df, \n",
    "                       normalise_to_index, save_data, get_content_first_ele)\n",
    "final_date = datetime.date(2014, 1, 1)\n"
   ]
  },
  {
   "cell_type": "code",
   "execution_count": 2,
   "id": "2fad525b",
   "metadata": {
    "scrolled": false
   },
   "outputs": [],
   "source": [
    "data = []\n",
    "page_num = 1\n",
    "\n",
    "ticker = 'aapl'\n",
    "sector = get_sector(ticker)\n",
    "\n",
    "index_ticker = '^GSPC'\n",
    "\n",
    "stock_hist = get_df(ticker)\n",
    "index_hist = get_df(index_ticker)\n",
    "\n",
    "previous_items = None\n",
    "past_last_date = False\n",
    "\n",
    "while True:\n",
    "\n",
    "    \n",
    "    headers = {\"User-Agent\": \"Mozilla/5.0 (Windows NT 10.0; Win64; x64) AppleWebKit/537.36 (KHTML, like Gecko) Chrome/94.0.4606.81 Safari/537.36\"}\n",
    "    s = requests.Session()\n",
    "    html = requests.get(f'https://www.apple.com/newsroom/archive/company-news/?page={page_num}', headers=headers)\n",
    "\n",
    "\n",
    "    soup = BeautifulSoup(html.content) \n",
    "    press_items = soup.find_all('a', attrs={'class':'result__item row-anchor'})\n",
    "    \n",
    "    if press_items == previous_items:\n",
    "        break\n",
    "    \n",
    "    for press_item in press_items:\n",
    "        \n",
    "        type_release =  press_item.find('p', attrs={'class':'item__category category_release'})\n",
    "        if type_release != None:\n",
    "            release = press_item.find('h3', attrs={'class':'item__headline'}).text.replace('\\n', '')\n",
    "            release = re.sub(' +', ' ', release)\n",
    "            \n",
    "            title = release[1:-1]\n",
    "            \n",
    "            date = press_item.find('p', attrs={'class':'item__date'}).text.replace(',','')\n",
    "            date_parts = date.split(' ')\n",
    "            date = f'{date[0:3]} {date_parts[1]} {date_parts[2]}'\n",
    "            date = datetime.datetime.strptime(date, '%b %d %Y').date()\n",
    "            \n",
    "            pct_change = changes_from_press(stock_hist, date, 1)\n",
    "            if pct_change != None:\n",
    "                index_price, norm_price = normalise_to_index(pct_change, date, index_hist)\n",
    "            else:\n",
    "                index_price, norm_price = (None, None)\n",
    "            release_url = f'https://www.apple.com{press_item.get(\"href\")}'\n",
    "            \n",
    "            content = get_content_first_ele(release_url, 'div', {'class':'pagebody-copy'})\n",
    "            data.append([str(date), title, release_url, content, pct_change, index_price, norm_price])\n",
    "            \n",
    "            if date < final_date:\n",
    "                past_last_date = True\n",
    "                break\n",
    "    \n",
    "    if past_last_date == True:\n",
    "        break\n",
    "    \n",
    "    page_num = page_num + 1\n",
    "    previous_items = press_items\n",
    "    \n",
    "save_data(data, ticker, sector)"
   ]
  },
  {
   "cell_type": "code",
   "execution_count": null,
   "id": "8c448e2c",
   "metadata": {},
   "outputs": [],
   "source": []
  }
 ],
 "metadata": {
  "kernelspec": {
   "display_name": "Python 3 (ipykernel)",
   "language": "python",
   "name": "python3"
  },
  "language_info": {
   "codemirror_mode": {
    "name": "ipython",
    "version": 3
   },
   "file_extension": ".py",
   "mimetype": "text/x-python",
   "name": "python",
   "nbconvert_exporter": "python",
   "pygments_lexer": "ipython3",
   "version": "3.10.8"
  }
 },
 "nbformat": 4,
 "nbformat_minor": 5
}
