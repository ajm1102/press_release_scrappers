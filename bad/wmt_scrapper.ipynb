{
 "cells": [
  {
   "cell_type": "code",
   "execution_count": 6,
   "id": "0e29fc9f",
   "metadata": {},
   "outputs": [],
   "source": [
    "import requests\n",
    "from bs4 import BeautifulSoup\n",
    "import yfinance as yf\n",
    "from datetime import datetime\n",
    "from datetime import timedelta\n",
    "import pandas as pd\n",
    "import re\n",
    "import json\n",
    "from requests_html import HTMLSession\n",
    "import nest_asyncio\n",
    "from dateutil import parser\n",
    "\n",
    "from functions import (get_sector, changes_from_press, get_content_header,\n",
    "                       get_df, normalise_to_index, save_data)\n",
    "\n",
    "past_end_date = False\n",
    "\n",
    "columns = ['date', 'press title', 'urls', '1d change', 'index_price','norm_price']"
   ]
  },
  {
   "cell_type": "code",
   "execution_count": 8,
   "id": "fbd23b88",
   "metadata": {},
   "outputs": [],
   "source": [
    "data = []\n",
    "\n",
    "ticker = 'wmt'\n",
    "sector = get_sector(ticker)\n",
    "\n",
    "stock_hist = get_df(ticker)\n",
    "index_ticker = '^GSPC'\n",
    "# select by value \n",
    "\n",
    "stock_hist = get_df(ticker)\n",
    "index_hist = get_df(index_ticker)\n",
    "page_num = 0\n",
    "while True:\n",
    "    \n",
    "    nest_asyncio.apply()\n",
    "\n",
    "    s = HTMLSession()\n",
    "    url = f'https://corporate.walmart.com/news/?newsSearchModuleQuery=&0000017d-bf8a-d566-affd-bfba3416000c-page={page_num}'\n",
    "    r = s.get(url)\n",
    "    \n",
    "    soup = BeautifulSoup(r.text) \n",
    "\n",
    "\n",
    "    press_statements = soup.find_all('div', {\"class\": \"PromoCardNews\"})\n",
    "    \n",
    "    if not press_statements:\n",
    "        break\n",
    "        \n",
    "    for release in press_statements:\n",
    "        date = release.find('date', {\"class\": \"Promo-date\"}).text.replace('.', '')\n",
    "        title = release.find('h3', {\"class\": \"PromoCardNews-title\"}).text.lstrip().strip()\n",
    "        url = release.find('a').get('href')\n",
    "    \n",
    "        \n",
    "        category = release.find('span', {'class': 'PromoCardNews-eyebrow'})\n",
    "        if category == None:\n",
    "            continue\n",
    "        else:\n",
    "            category = category.text\n",
    "            \n",
    "        if category != 'Finance':\n",
    "            continue        \n",
    "        content = get_content_header(url, 'meta', {'name':'twitter:description'})\n",
    "        date = parser.parse(date).date()\n",
    "        if date < datetime(2014, 1, 1).date():\n",
    "            past_end_date = True\n",
    "            break\n",
    "        pct_change = changes_from_press(stock_hist, date, 1)\n",
    "        \n",
    "        if pct_change != None:\n",
    "            index_price, norm_price = normalise_to_index(pct_change, date, index_hist)\n",
    "        else:\n",
    "            index_price, norm_price = (None, None)\n",
    "\n",
    "        data.append([date, title, url, content,pct_change, index_price, norm_price])\n",
    "    if past_end_date: break\n",
    "                \n",
    "    page_num = page_num + 1\n",
    "\n",
    "save_data(data, ticker, sector)"
   ]
  },
  {
   "cell_type": "code",
   "execution_count": 22,
   "id": "e271b728",
   "metadata": {},
   "outputs": [
    {
     "data": {
      "text/plain": [
       "[]"
      ]
     },
     "execution_count": 22,
     "metadata": {},
     "output_type": "execute_result"
    }
   ],
   "source": [
    "press_statements"
   ]
  },
  {
   "cell_type": "code",
   "execution_count": null,
   "id": "99f4efa8",
   "metadata": {},
   "outputs": [],
   "source": []
  },
  {
   "cell_type": "code",
   "execution_count": null,
   "id": "12a2016a",
   "metadata": {},
   "outputs": [],
   "source": []
  },
  {
   "cell_type": "code",
   "execution_count": null,
   "id": "1e97c1df",
   "metadata": {},
   "outputs": [],
   "source": []
  }
 ],
 "metadata": {
  "kernelspec": {
   "display_name": "Python 3 (ipykernel)",
   "language": "python",
   "name": "python3"
  },
  "language_info": {
   "codemirror_mode": {
    "name": "ipython",
    "version": 3
   },
   "file_extension": ".py",
   "mimetype": "text/x-python",
   "name": "python",
   "nbconvert_exporter": "python",
   "pygments_lexer": "ipython3",
   "version": "3.10.8"
  }
 },
 "nbformat": 4,
 "nbformat_minor": 5
}
