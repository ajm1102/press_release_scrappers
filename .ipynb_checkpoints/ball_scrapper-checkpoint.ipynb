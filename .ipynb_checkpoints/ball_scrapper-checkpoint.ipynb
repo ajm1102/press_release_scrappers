{
 "cells": [
  {
   "cell_type": "code",
   "execution_count": 3,
   "id": "8d1cdc6e",
   "metadata": {},
   "outputs": [],
   "source": [
    "import requests\n",
    "from bs4 import BeautifulSoup\n",
    "import yfinance as yf\n",
    "from datetime import datetime\n",
    "from datetime import timedelta\n",
    "import pandas as pd\n",
    "import json\n",
    "import numpy as np\n",
    "from selenium import webdriver\n",
    "from selenium.webdriver.support.ui import Select\n",
    "from selenium.webdriver.common.by import By\n",
    "import time\n",
    "import re\n",
    "import dateutil.parser\n",
    "from functions import (get_sector, changes_from_press, get_content_header, \n",
    "                       get_df, normalise_to_index, save_data)\n"
   ]
  },
  {
   "cell_type": "code",
   "execution_count": 5,
   "id": "699c0a78",
   "metadata": {},
   "outputs": [],
   "source": [
    "year = datetime.today().year\n",
    "\n",
    "driver = webdriver.Firefox()\n",
    "driver.get('https://investors.ball.com/news-and-presentations/news-releases/default.aspx')\n",
    "\n",
    "data = []\n",
    "\n",
    "ticker = 'ball'\n",
    "sector = get_sector(ticker)\n",
    "index_ticker = '^GSPC'\n",
    " \n",
    "\n",
    "stock_hist = get_df(ticker)\n",
    "index_hist = get_df(index_ticker)\n",
    "\n",
    "year = datetime.today().year\n",
    "\n",
    "while True:\n",
    "    if year == 2013:\n",
    "        break\n",
    "    \n",
    "    select = Select(driver.find_element(By.ID, \"newsYear\"))\n",
    "    try:\n",
    "        select.select_by_value(str(year))\n",
    "    except:\n",
    "        break\n",
    "\n",
    "    time.sleep(2)\n",
    "    html = driver.page_source\n",
    "    soup = BeautifulSoup(html) \n",
    "\n",
    "    articles = soup.find_all('div',attrs={'class':'module_item'})\n",
    "    \n",
    "    for article in articles:\n",
    "        date = article.find('div', attrs={'class':'module_date-time'}).text.lstrip().rstrip() \n",
    "        title = article.find('div', attrs={'class':'module_headline'}).text.rstrip() \n",
    "        url = article.find('a').get('href')\n",
    "        url = f'https://investors.ball.com{url}'\n",
    "        \n",
    "        title = re.sub(\"\\s\\s+\", \" \", title)\n",
    "\n",
    "        date = dateutil.parser.parse(date).date()\n",
    "        \n",
    "        content = get_content_header(url, 'meta', {'name':'twitter:description'})\n",
    "        pct_change = changes_from_press(stock_hist, date, 1)\n",
    "        \n",
    "        if pct_change != None:\n",
    "            index_price, norm_price = normalise_to_index(pct_change, date, index_hist)\n",
    "        else:\n",
    "            index_price, norm_price = (None, None)\n",
    "\n",
    "        data.append([date, title, url, content, pct_change, index_price, norm_price])\n",
    "    year = year - 1\n",
    "    \n",
    "\n",
    "driver.close()\n",
    "\n",
    "save_data(data, ticker, sector)"
   ]
  },
  {
   "cell_type": "code",
   "execution_count": null,
   "id": "7882b867",
   "metadata": {},
   "outputs": [],
   "source": [
    "soup"
   ]
  }
 ],
 "metadata": {
  "kernelspec": {
   "display_name": "Python 3 (ipykernel)",
   "language": "python",
   "name": "python3"
  },
  "language_info": {
   "codemirror_mode": {
    "name": "ipython",
    "version": 3
   },
   "file_extension": ".py",
   "mimetype": "text/x-python",
   "name": "python",
   "nbconvert_exporter": "python",
   "pygments_lexer": "ipython3",
   "version": "3.10.8"
  }
 },
 "nbformat": 4,
 "nbformat_minor": 5
}
