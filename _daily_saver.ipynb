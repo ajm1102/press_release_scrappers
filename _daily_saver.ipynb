{
 "cells": [
  {
   "cell_type": "code",
   "execution_count": 1,
   "id": "ced46967",
   "metadata": {},
   "outputs": [],
   "source": [
    "import glob\n",
    "import yfinance as yf\n",
    "import time\n",
    "import json\n",
    "from datetime import datetime\n",
    "import numpy as np\n",
    "\n",
    "tickers = []\n",
    "for file in glob.glob(\"*.ipynb\"):\n",
    "    if file[0] == '_':\n",
    "        continue\n",
    "    tickers.append(file.split('_')[0])\n",
    "\n",
    "\n",
    "for ticker in tickers:\n",
    "    data = yf.Ticker(ticker)\n",
    "    stock_values_data = data.history(start=\"2014-01-01\", period='1d')['Close']\n",
    "    \n",
    "    stock_values_dates = data.history(start=\"2014-01-01\", period='1d')['Close'].index\n",
    "    stock_values = data.history(start=\"2014-01-01\", period='1d')['Close'].values\n",
    "    \n",
    "    stock_values = np.diff(stock_values) / stock_values[:-1] * 100.\n",
    "    stock_values_dates = [str(x.date()) for x in stock_values_dates]\n",
    "    \n",
    "    json_data = {\n",
    "        \"ticker\": ticker,\n",
    "        \"data\": [list(stock_values_dates), list(stock_values)]\n",
    "    }\n",
    "    \n",
    "    \n",
    "    \n",
    "    with open(f'./data/all_daily/{ticker}.json', 'w', encoding='utf-8') as f:\n",
    "        json.dump(json_data, f, ensure_ascii=False, indent=4)\n",
    "    \n",
    "    "
   ]
  },
  {
   "cell_type": "code",
   "execution_count": 10,
   "id": "fa4e7a11",
   "metadata": {},
   "outputs": [
    {
     "data": {
      "text/plain": [
       "array([-0.24061478,  0.1507904 ,  1.41482134, ..., -1.20255426,\n",
       "        0.69417621, -0.71772796])"
      ]
     },
     "execution_count": 10,
     "metadata": {},
     "output_type": "execute_result"
    }
   ],
   "source": [
    "stock_values"
   ]
  },
  {
   "cell_type": "code",
   "execution_count": null,
   "id": "4bb12809",
   "metadata": {},
   "outputs": [],
   "source": []
  }
 ],
 "metadata": {
  "kernelspec": {
   "display_name": "Python 3 (ipykernel)",
   "language": "python",
   "name": "python3"
  },
  "language_info": {
   "codemirror_mode": {
    "name": "ipython",
    "version": 3
   },
   "file_extension": ".py",
   "mimetype": "text/x-python",
   "name": "python",
   "nbconvert_exporter": "python",
   "pygments_lexer": "ipython3",
   "version": "3.9.16"
  }
 },
 "nbformat": 4,
 "nbformat_minor": 5
}
