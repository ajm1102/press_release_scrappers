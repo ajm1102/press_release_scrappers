{
 "cells": [
  {
   "cell_type": "code",
   "execution_count": 26,
   "id": "e24f4a83",
   "metadata": {},
   "outputs": [],
   "source": [
    "import requests\n",
    "from bs4 import BeautifulSoup\n",
    "import yfinance as yf\n",
    "from datetime import datetime\n",
    "from datetime import timedelta\n",
    "import pandas as pd\n",
    "import json\n",
    "import dateutil.parser\n",
    "import time\n",
    "from selenium import webdriver\n",
    "from functions import (get_sector, changes_from_press, get_content_header, \n",
    "                       get_df, normalise_to_index, save_data)\n",
    "from selenium.webdriver.common.by import By\n",
    "from selenium.webdriver.support.ui import WebDriverWait \n",
    "from selenium.webdriver.support import expected_conditions as EC\n",
    "\n",
    "past_last_date = False"
   ]
  },
  {
   "cell_type": "code",
   "execution_count": null,
   "id": "6d203e31",
   "metadata": {},
   "outputs": [],
   "source": [
    "data = []\n",
    "page_num = 0\n",
    "\n",
    "ticker = 'gd'\n",
    "\n",
    "sector = get_sector(ticker)\n",
    "\n",
    "index_ticker = '^GSPC'\n",
    "# select by value \n",
    "\n",
    "stock_hist = get_df(ticker)\n",
    "index_hist = get_df(index_ticker)\n",
    "\n",
    "# create break\n",
    "\n",
    "\n",
    "driver = webdriver.Firefox()\n",
    "driver.get(f'https://www.gd.com/news/news-feed?page=0&types=Press%20Release')\n",
    "time.sleep(10)\n",
    "\n",
    "driver.find_element(By.XPATH, \"\"\"//*[@id=\"my-page\"]/div/div[4]/div/div[2]/button[1]\"\"\").click()\n",
    "driver.refresh()\n",
    "\n",
    "while True:\n",
    "    path = '/html/body/div[1]/div/section/div/div/div/div[3]/div/div/nav/ul/li[8]'\n",
    "    html = driver.page_source\n",
    "    soup = BeautifulSoup(html)     \n",
    "    \n",
    "    \n",
    "    articles = soup.find_all('div', attrs={'class': 'news-item row'})\n",
    "        \n",
    "    if not articles:\n",
    "        print('sfsf')\n",
    "        break\n",
    "    \n",
    "   \n",
    "    for article in articles:\n",
    "        \n",
    "        date = article.find('div', attrs={'class':'news__publish-date'}).text\n",
    "        date = date.replace('Press Release', '').replace('Corporate Statement', '')\n",
    "        date = date.lstrip().rstrip()\n",
    "        date = dateutil.parser.parse(date).date()\n",
    "        title_holder = article.find('h3', attrs={'class':'news__header'})\n",
    "        \n",
    "        title = title_holder.find('a').text.lstrip().rstrip() \n",
    "        url = title_holder.find('a').get('href')\n",
    "        url = f'https://www.gd.com{url}'\n",
    "        \n",
    "        content = article.find('div', attrs={'class':'news__body'}).text\n",
    "        if date < datetime(2014, 1, 1).date():\n",
    "            past_last_date = True\n",
    "            break        \n",
    "        \n",
    "        pct_change = changes_from_press(stock_hist, date, 1)\n",
    "        if pct_change != None:\n",
    "            index_price, norm_price = normalise_to_index(pct_change, date, index_hist)\n",
    "        else:\n",
    "            index_price, norm_price = (None, None)\n",
    "\n",
    "        data.append([str(date), title, url, content, pct_change, index_price, norm_price])\n",
    "    \n",
    "    driver.find_element((By.XPATH, path)).click()\n",
    "    time.sleep(50)\n",
    "    if past_last_date == True: break   \n",
    "\n",
    "save_data(data, ticker, sector)\n"
   ]
  },
  {
   "cell_type": "code",
   "execution_count": 51,
   "id": "b1177edd",
   "metadata": {},
   "outputs": [
    {
     "data": {
      "text/plain": [
       "False"
      ]
     },
     "execution_count": 51,
     "metadata": {},
     "output_type": "execute_result"
    }
   ],
   "source": [
    "past_last_date"
   ]
  },
  {
   "cell_type": "code",
   "execution_count": null,
   "id": "1da15ba4",
   "metadata": {},
   "outputs": [],
   "source": []
  }
 ],
 "metadata": {
  "kernelspec": {
   "display_name": "Python 3 (ipykernel)",
   "language": "python",
   "name": "python3"
  },
  "language_info": {
   "codemirror_mode": {
    "name": "ipython",
    "version": 3
   },
   "file_extension": ".py",
   "mimetype": "text/x-python",
   "name": "python",
   "nbconvert_exporter": "python",
   "pygments_lexer": "ipython3",
   "version": "3.10.8"
  }
 },
 "nbformat": 4,
 "nbformat_minor": 5
}
