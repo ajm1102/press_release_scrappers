{
 "cells": [
  {
   "cell_type": "code",
   "execution_count": 1,
   "id": "de786ccc",
   "metadata": {},
   "outputs": [
    {
     "name": "stderr",
     "output_type": "stream",
     "text": [
      "C:\\Users\\Aidan\\miniconda3\\envs\\myenv\\lib\\site-packages\\tqdm\\auto.py:21: TqdmWarning: IProgress not found. Please update jupyter and ipywidgets. See https://ipywidgets.readthedocs.io/en/stable/user_install.html\n",
      "  from .autonotebook import tqdm as notebook_tqdm\n"
     ]
    }
   ],
   "source": [
    "import requests\n",
    "from bs4 import BeautifulSoup\n",
    "import yfinance as yf\n",
    "from datetime import datetime\n",
    "from datetime import timedelta\n",
    "import pandas as pd\n",
    "import json\n",
    "import numpy as np\n",
    "import requests\n",
    "import time\n",
    "import re\n",
    "import dateutil.parser\n",
    "from functions import (get_sector, changes_from_press, get_content_header, \n",
    "                       get_df, normalise_to_index, save_data)\n",
    "from selenium import webdriver\n"
   ]
  },
  {
   "cell_type": "code",
   "execution_count": 2,
   "id": "bc4f4b51",
   "metadata": {},
   "outputs": [],
   "source": [
    "year = datetime.today().year\n",
    "\n",
    "driver = webdriver.Firefox()\n",
    "driver.get(f'https://servicenow.gcs-web.com/news-releases?field_nir_news_date_value%5Bmin%5D=2023#views-exposed-form-widget-news-widget-news-ul')\n",
    "\n",
    "data = []\n",
    "\n",
    "ticker = 'now'\n",
    "sector = get_sector(ticker)\n",
    "index_ticker = '^GSPC'\n",
    " \n",
    "\n",
    "stock_hist = get_df(ticker)\n",
    "index_hist = get_df(index_ticker)\n",
    "\n",
    "year = datetime.today().year\n",
    "\n",
    "while True:\n",
    "    if year == 2013:\n",
    "        break\n",
    "    \n",
    "    html = requests.get(f'https://servicenow.gcs-web.com/news-releases?field_nir_news_date_value%5Bmin%5D={year}#views-exposed-form-widget-news-widget-news-ul')\n",
    "\n",
    "\n",
    "    time.sleep(2)\n",
    "    soup = BeautifulSoup(html.text) \n",
    "    table = soup.find('tbody')\n",
    "    \n",
    "    articles = table.find_all('tr')\n",
    "    \n",
    "    for article in articles:\n",
    "        \n",
    "        title_block = article.find('td', attrs={'class':'cus_title'})\n",
    "        \n",
    "        date = article.find('time', attrs={'class':'datetime'}).text\n",
    "        title = title_block.find('a').text.rstrip() \n",
    "        url = title_block.find('a').get('href')\n",
    "        url = f'https://servicenow.gcs-web.com{url}'\n",
    "        \n",
    "        title = re.sub(\"\\s\\s+\", \" \", title)\n",
    "\n",
    "        date = dateutil.parser.parse(date).date()\n",
    "        \n",
    "        content = article.find('div', {'class':'nir-news-table-teaser summary-hidden'}).text.rstrip().lstrip()\n",
    "        \n",
    "        pct_change = changes_from_press(stock_hist, date, 1)\n",
    "        \n",
    "        if pct_change != None:\n",
    "            index_price, norm_price = normalise_to_index(pct_change, date, index_hist)\n",
    "        else:\n",
    "            index_price, norm_price = (None, None)\n",
    "\n",
    "        data.append([str(date), title, url, content, pct_change, index_price, norm_price])\n",
    "    year = year - 1\n",
    "    \n",
    "\n",
    "driver.close()\n",
    "\n",
    "save_data(data, ticker, sector)"
   ]
  },
  {
   "cell_type": "code",
   "execution_count": 17,
   "id": "f80ef1b6",
   "metadata": {},
   "outputs": [
    {
     "data": {
      "text/plain": [
       "<tr>\n",
       "<td headers=\"view-field-nir-news-date-table-column\"><a class=\"summary-toggle nir-news-widget-summary-toggle-date\" href=\"#\"><span>Toggle Summary</span></a><time class=\"datetime\" datetime=\"12Z\" timezone=\"America/New_York\">Jan 2, 2014</time>\n",
       "</td>\n",
       "<td class=\"cus_title\">\n",
       "<a href=\"/news-releases/news-release-details/servicenow-announce-fourth-quarter-and-fiscal-year-2013\" hreflang=\"en\">ServiceNow to Announce Fourth Quarter and Fiscal Year 2013 Financial Results on Wednesday, January 29, 2014</a>\n",
       "<div class=\"nir-news-table-teaser summary-hidden\">\n",
       "  SANTA CLARA, Calif. --(BUSINESS WIRE)--Jan. 2, 2014-- ServiceNow (NYSE: NOW), the enterprise IT cloud company, today announced it will release financial results for the fourth quarter and fiscal year ended December 31, 2013 following the close of market on Wednesday, January 29, 2014 .\n",
       "</div>\n",
       "</td><td headers=\"view-field-nir-news-title-table-column\">\n",
       "<a href=\"/news-releases/news-release-details/servicenow-announce-fourth-quarter-and-fiscal-year-2013\" hreflang=\"en\">ServiceNow to Announce Fourth Quarter and Fiscal Year 2013 Financial Results on Wednesday, January 29, 2014</a>\n",
       "<div class=\"nir-news-table-teaser summary-hidden\">\n",
       "  SANTA CLARA, Calif. --(BUSINESS WIRE)--Jan. 2, 2014-- ServiceNow (NYSE: NOW), the enterprise IT cloud company, today announced it will release financial results for the fourth quarter and fiscal year ended December 31, 2013 following the close of market on Wednesday, January 29, 2014 .\n",
       "</div>\n",
       "</td>\n",
       "</tr>"
      ]
     },
     "execution_count": 17,
     "metadata": {},
     "output_type": "execute_result"
    }
   ],
   "source": [
    "article"
   ]
  },
  {
   "cell_type": "code",
   "execution_count": null,
   "id": "6444f560",
   "metadata": {},
   "outputs": [],
   "source": []
  }
 ],
 "metadata": {
  "kernelspec": {
   "display_name": "Python 3 (ipykernel)",
   "language": "python",
   "name": "python3"
  },
  "language_info": {
   "codemirror_mode": {
    "name": "ipython",
    "version": 3
   },
   "file_extension": ".py",
   "mimetype": "text/x-python",
   "name": "python",
   "nbconvert_exporter": "python",
   "pygments_lexer": "ipython3",
   "version": "3.9.16"
  }
 },
 "nbformat": 4,
 "nbformat_minor": 5
}
