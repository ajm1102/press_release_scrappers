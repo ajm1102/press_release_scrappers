{
 "cells": [
  {
   "cell_type": "code",
   "execution_count": 1,
   "id": "15b11635",
   "metadata": {},
   "outputs": [],
   "source": [
    "import requests\n",
    "from bs4 import BeautifulSoup\n",
    "import yfinance as yf\n",
    "from datetime import datetime\n",
    "from datetime import timedelta\n",
    "import pandas as pd\n",
    "import json\n",
    "\n",
    "\n",
    "from functions import (get_sector, changes_from_press, get_content_header,\n",
    "                       get_df, normalise_to_index, save_data)\n",
    "\n",
    "columns = ['date', 'press title', 'url', '1d change', 'index_price','norm_price']\n",
    "past_last_date = False"
   ]
  },
  {
   "cell_type": "code",
   "execution_count": 2,
   "id": "96bafdf0",
   "metadata": {},
   "outputs": [
    {
     "ename": "TypeError",
     "evalue": "save_data() takes 3 positional arguments but 4 were given",
     "output_type": "error",
     "traceback": [
      "\u001b[1;31m---------------------------------------------------------------------------\u001b[0m",
      "\u001b[1;31mTypeError\u001b[0m                                 Traceback (most recent call last)",
      "Cell \u001b[1;32mIn [2], line 61\u001b[0m\n\u001b[0;32m     57\u001b[0m     \u001b[38;5;28;01mif\u001b[39;00m past_last_date \u001b[38;5;241m==\u001b[39m \u001b[38;5;28;01mTrue\u001b[39;00m: \u001b[38;5;28;01mbreak\u001b[39;00m    \n\u001b[0;32m     58\u001b[0m     page_num \u001b[38;5;241m=\u001b[39m page_num \u001b[38;5;241m+\u001b[39m \u001b[38;5;241m1\u001b[39m\n\u001b[1;32m---> 61\u001b[0m \u001b[43msave_data\u001b[49m\u001b[43m(\u001b[49m\u001b[43mdata\u001b[49m\u001b[43m,\u001b[49m\u001b[43m \u001b[49m\u001b[43mcolumns\u001b[49m\u001b[43m,\u001b[49m\u001b[43m \u001b[49m\u001b[43mticker\u001b[49m\u001b[43m,\u001b[49m\u001b[43m \u001b[49m\u001b[43msector\u001b[49m\u001b[43m)\u001b[49m\n",
      "\u001b[1;31mTypeError\u001b[0m: save_data() takes 3 positional arguments but 4 were given"
     ]
    }
   ],
   "source": [
    "data = []\n",
    "page_num = 0\n",
    "\n",
    "ticker = 'tsla'\n",
    "\n",
    "sector = get_sector(ticker)\n",
    "\n",
    "index_ticker = '^GSPC'\n",
    "# select by value \n",
    "\n",
    "stock_hist = get_df(ticker)\n",
    "index_hist = get_df(index_ticker)\n",
    "\n",
    "# create break\n",
    "while True:\n",
    "    \n",
    "    headers = {\"User-Agent\": \"Mozilla/5.0 (Windows NT 10.0; Win64; x64) AppleWebKit/537.36 (KHTML, like Gecko) Chrome/94.0.4606.81 Safari/537.36\"}\n",
    "    \n",
    "    s = requests.Session()\n",
    "    html = requests.get(f'https://ir.tesla.com/press?page={page_num}/', headers=headers)\n",
    "    \n",
    "\n",
    "    content = BeautifulSoup(html.content) \n",
    "\n",
    "    articles = content.find_all('div',attrs={'class': 'views-row'})\n",
    "        \n",
    "    if not articles:\n",
    "        break\n",
    "   \n",
    "    for article in articles:\n",
    "        date = article.find('time').text\n",
    "        \n",
    "        sub_art = article.find('h4', attrs={'class': 'press-release-teaser__title'})\n",
    "        title = sub_art.find('a').text\n",
    "        url = sub_art.find('a').get('href')\n",
    "        url = f'https://ir.tesla.com{url}'\n",
    "        content = get_content_header(url, 'meta', {'name':'twitter:description'})\n",
    "\n",
    "        \n",
    "        date = date.lstrip().rstrip()    # remove starting and trailing whitespaces\n",
    "        title = title.lstrip().rstrip() \n",
    "\n",
    "        date = datetime.strptime(date, '%b %d, %Y').date()\n",
    "        \n",
    "        if date < datetime(2014, 1, 1).date():\n",
    "            past_last_date = True\n",
    "            break        \n",
    "        \n",
    "        pct_change = changes_from_press(stock_hist, date, 1)\n",
    "        if pct_change != None:\n",
    "            index_price, norm_price = normalise_to_index(pct_change, date, index_hist)\n",
    "        else:\n",
    "            index_price, norm_price = (None, None)\n",
    "\n",
    "        data.append([date, title, url, pct_change, index_price, norm_price])\n",
    "    if past_last_date == True: break    \n",
    "    page_num = page_num + 1\n",
    "\n",
    "\n",
    "save_data(data, ticker, sector)"
   ]
  },
  {
   "cell_type": "code",
   "execution_count": null,
   "id": "67396fd7",
   "metadata": {},
   "outputs": [],
   "source": []
  }
 ],
 "metadata": {
  "kernelspec": {
   "display_name": "Python 3 (ipykernel)",
   "language": "python",
   "name": "python3"
  },
  "language_info": {
   "codemirror_mode": {
    "name": "ipython",
    "version": 3
   },
   "file_extension": ".py",
   "mimetype": "text/x-python",
   "name": "python",
   "nbconvert_exporter": "python",
   "pygments_lexer": "ipython3",
   "version": "3.10.8"
  }
 },
 "nbformat": 4,
 "nbformat_minor": 5
}
