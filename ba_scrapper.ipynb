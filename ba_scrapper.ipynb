{
 "cells": [
  {
   "cell_type": "code",
   "execution_count": 2,
   "id": "118f1263",
   "metadata": {},
   "outputs": [
    {
     "name": "stderr",
     "output_type": "stream",
     "text": [
      "C:\\Users\\Aidan\\miniconda3\\envs\\myenv\\lib\\site-packages\\tqdm\\auto.py:21: TqdmWarning: IProgress not found. Please update jupyter and ipywidgets. See https://ipywidgets.readthedocs.io/en/stable/user_install.html\n",
      "  from .autonotebook import tqdm as notebook_tqdm\n"
     ]
    }
   ],
   "source": [
    "import requests\n",
    "from bs4 import BeautifulSoup\n",
    "import yfinance as yf\n",
    "from datetime import datetime\n",
    "from datetime import timedelta\n",
    "import pandas as pd\n",
    "import re\n",
    "import json\n",
    "from requests_html import HTMLSession\n",
    "import nest_asyncio\n",
    "from functions import (get_sector, changes_from_press, get_content_header,\n",
    "                       get_df, normalise_to_index, save_data)"
   ]
  },
  {
   "cell_type": "code",
   "execution_count": 3,
   "id": "75110e69",
   "metadata": {},
   "outputs": [],
   "source": [
    "data = []\n",
    "\n",
    "\n",
    "ticker = 'ba'\n",
    "sector = get_sector(ticker)\n",
    "stock_hist = get_df(ticker)\n",
    "\n",
    "index_ticker = '^GSPC'\n",
    "\n",
    "\n",
    "index_hist = get_df(index_ticker)\n",
    "\n",
    "years = [2023, 2022, 2021, 2020, 2019, 2018, 2017, 2016, 2015, 2014]\n",
    "columns = ['date', 'press title', 'urls','1d change', 'index_prices','norm_prices']\n",
    "\n",
    "for year in years:\n",
    "\n",
    "    nest_asyncio.apply()\n",
    "\n",
    "    s = HTMLSession()\n",
    "    url=f'https://investors.boeing.com/investors/news/{year}/default.aspx'\n",
    "    r = s.get(url)\n",
    "    ht= r.text\n",
    "    soup = BeautifulSoup(ht) \n",
    "\n",
    "\n",
    "    press_statements = soup.find_all('span', {\"class\": \"ModuleHeadline\"})\n",
    "    dates = soup.find_all('span', {\"class\": \"ModuleDate\"})\n",
    "    urls = soup.find_all('a', {\"class\": 'ModuleHeadlineLink'})\n",
    "    \n",
    "    urls = [x.get(\"href\") for x in urls]\n",
    "    contents = []\n",
    "    for url in urls:\n",
    "        \n",
    "        content = get_content_header(url, 'meta', {'name': 'twitter:description'})\n",
    "\n",
    "        contents.append(content)\n",
    "    \n",
    "    dates = [datetime.strptime(x.text, \"%b %d, %Y\").date() for x in dates]\n",
    "    press_statements = [x.text for x in press_statements]\n",
    "    pct_changes = [changes_from_press(stock_hist, x, 1) for x in dates]\n",
    "    \n",
    "    norm_prices = []\n",
    "    index_prices = []\n",
    "\n",
    "    for date, pct_change in zip(dates, pct_changes):\n",
    "        if pct_change == None:\n",
    "            norm_prices.append(None)\n",
    "            index_prices.append(None)            \n",
    "        else:\n",
    "            index_price, norm_price = normalise_to_index(pct_change, date, index_hist)\n",
    "            norm_prices.append(norm_price)\n",
    "            index_prices.append(index_price)\n",
    "    dates = [str(x) for x in dates]\n",
    "    data.extend(list(map(list, zip(dates, press_statements, urls, contents, pct_changes, index_prices, norm_prices))))\n",
    "\n",
    "    \n",
    "save_data(data, ticker, sector)\n"
   ]
  },
  {
   "cell_type": "code",
   "execution_count": null,
   "id": "6a939e93",
   "metadata": {},
   "outputs": [],
   "source": [
    "urls"
   ]
  },
  {
   "cell_type": "code",
   "execution_count": null,
   "id": "aae3261c",
   "metadata": {},
   "outputs": [],
   "source": []
  }
 ],
 "metadata": {
  "kernelspec": {
   "display_name": "Python 3 (ipykernel)",
   "language": "python",
   "name": "python3"
  },
  "language_info": {
   "codemirror_mode": {
    "name": "ipython",
    "version": 3
   },
   "file_extension": ".py",
   "mimetype": "text/x-python",
   "name": "python",
   "nbconvert_exporter": "python",
   "pygments_lexer": "ipython3",
   "version": "3.9.16"
  }
 },
 "nbformat": 4,
 "nbformat_minor": 5
}
