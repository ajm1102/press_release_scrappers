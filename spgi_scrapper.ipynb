{
 "cells": [
  {
   "cell_type": "code",
   "execution_count": 1,
   "id": "89a40c19",
   "metadata": {},
   "outputs": [
    {
     "name": "stderr",
     "output_type": "stream",
     "text": [
      "C:\\Users\\Aidan\\miniconda3\\envs\\myenv\\lib\\site-packages\\tqdm\\auto.py:21: TqdmWarning: IProgress not found. Please update jupyter and ipywidgets. See https://ipywidgets.readthedocs.io/en/stable/user_install.html\n",
      "  from .autonotebook import tqdm as notebook_tqdm\n"
     ]
    }
   ],
   "source": [
    "import requests\n",
    "from bs4 import BeautifulSoup\n",
    "import yfinance as yf\n",
    "from datetime import datetime, date\n",
    "\n",
    "from datetime import timedelta\n",
    "import pandas as pd\n",
    "import json\n",
    "import numpy as np\n",
    "from selenium import webdriver\n",
    "from selenium.webdriver.support.ui import Select\n",
    "from selenium.webdriver.common.by import By\n",
    "import time\n",
    "import re\n",
    "import dateutil.parser\n",
    "from functions import (get_sector, changes_from_press, get_content_header, \n",
    "                       get_df, normalise_to_index, save_data)\n",
    "final_date = date(2014, 1, 1)\n",
    "past_last_date = False"
   ]
  },
  {
   "cell_type": "code",
   "execution_count": 2,
   "id": "ae69d59d",
   "metadata": {},
   "outputs": [],
   "source": [
    "year = datetime.today().year\n",
    "\n",
    "driver = webdriver.Firefox()\n",
    "driver.get('https://investor.spglobal.com/news-releases/default.aspx')\n",
    "\n",
    "data = []\n",
    "\n",
    "ticker = 'spgi'\n",
    "sector = get_sector(ticker)\n",
    "index_ticker = '^GSPC'\n",
    " \n",
    "\n",
    "stock_hist = get_df(ticker)\n",
    "index_hist = get_df(index_ticker)\n",
    "\n",
    "year = datetime.today().year\n",
    "\n",
    "while True:\n",
    "\n",
    "    time.sleep(2)\n",
    "    html = driver.page_source\n",
    "    soup = BeautifulSoup(html) \n",
    "\n",
    "    articles = soup.find_all('div',attrs={'class':'irwTableRowItem'})\n",
    "    \n",
    "    for article in articles:\n",
    "        date = article.find('div', attrs={'class':'irwPRDate'}).text.lstrip().rstrip() \n",
    "        \n",
    "        title = article.find('a').text.rstrip() \n",
    "        url = article.find('a').get('href')\n",
    "        url = f'https://investor.spglobal.com{url}'\n",
    "        \n",
    "        date = dateutil.parser.parse(date).date()\n",
    "        if date < final_date:\n",
    "            past_last_date = True\n",
    "            break\n",
    "        content = get_content_header(url, 'meta', {'name':'twitter:description'})\n",
    "        pct_change = changes_from_press(stock_hist, date, 1)\n",
    "        \n",
    "        if pct_change != None:\n",
    "            index_price, norm_price = normalise_to_index(pct_change, date, index_hist)\n",
    "        else:\n",
    "            index_price, norm_price = (None, None)\n",
    "\n",
    "        data.append([str(date), title, url, content, pct_change, index_price, norm_price])\n",
    "    if past_last_date == True:\n",
    "        break\n",
    "    year = year - 1\n",
    "    \n",
    "\n",
    "driver.close()\n",
    "\n",
    "save_data(data, ticker, sector)"
   ]
  },
  {
   "cell_type": "code",
   "execution_count": null,
   "id": "b74af6f4",
   "metadata": {},
   "outputs": [],
   "source": []
  }
 ],
 "metadata": {
  "kernelspec": {
   "display_name": "Python 3 (ipykernel)",
   "language": "python",
   "name": "python3"
  },
  "language_info": {
   "codemirror_mode": {
    "name": "ipython",
    "version": 3
   },
   "file_extension": ".py",
   "mimetype": "text/x-python",
   "name": "python",
   "nbconvert_exporter": "python",
   "pygments_lexer": "ipython3",
   "version": "3.9.16"
  }
 },
 "nbformat": 4,
 "nbformat_minor": 5
}
