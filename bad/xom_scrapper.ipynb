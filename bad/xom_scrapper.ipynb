{
 "cells": [
  {
   "cell_type": "code",
   "execution_count": 3,
   "id": "b877b98a",
   "metadata": {},
   "outputs": [],
   "source": [
    "import requests\n",
    "from bs4 import BeautifulSoup\n",
    "import yfinance as yf\n",
    "from datetime import datetime\n",
    "from datetime import timedelta\n",
    "import pandas as pd\n",
    "import json\n",
    "import numpy as np\n",
    "\n",
    "from functions import (get_sector, changes_from_press, get_content_xom,\n",
    "                       get_df, normalise_to_index, save_data)\n",
    "import dateutil.parser\n",
    "\n",
    "columns = ['date', 'press_title', 'urls', '1d_change', 'index_price','norm_price']\n",
    "past_end_date = False"
   ]
  },
  {
   "cell_type": "code",
   "execution_count": 4,
   "id": "c78f4007",
   "metadata": {},
   "outputs": [
    {
     "name": "stderr",
     "output_type": "stream",
     "text": [
      "C:\\Users\\Aidan\\AppData\\Local\\Programs\\Python\\Python310\\lib\\site-packages\\dateutil\\parser\\_parser.py:1207: UnknownTimezoneWarning: tzname CDT identified but not understood.  Pass `tzinfos` argument in order to correctly return a timezone-aware datetime.  In a future version, this will raise an exception.\n",
      "  warnings.warn(\"tzname {tzname} identified but not understood.  \"\n",
      "C:\\Users\\Aidan\\AppData\\Local\\Programs\\Python\\Python310\\lib\\site-packages\\dateutil\\parser\\_parser.py:1207: UnknownTimezoneWarning: tzname CST identified but not understood.  Pass `tzinfos` argument in order to correctly return a timezone-aware datetime.  In a future version, this will raise an exception.\n",
      "  warnings.warn(\"tzname {tzname} identified but not understood.  \"\n"
     ]
    }
   ],
   "source": [
    "data = []\n",
    "page_num = 1\n",
    "\n",
    "ticker = 'xom'\n",
    "sector = get_sector(ticker)\n",
    "\n",
    "index_ticker = '^GSPC'\n",
    "\n",
    "stock_hist = get_df(ticker)\n",
    "index_hist = get_df(index_ticker)\n",
    "\n",
    "# create break\n",
    "while True:\n",
    "    \n",
    "    headers = {\"User-Agent\": \"Mozilla/5.0 (Windows NT 10.0; Win64; x64) AppleWebKit/537.36 (KHTML, like Gecko) Chrome/94.0.4606.81 Safari/537.36\"}\n",
    "    \n",
    "    s = requests.Session()\n",
    "    html = requests.get(f'https://investor.exxonmobil.com/news-events/press-releases?page={page_num}', headers=headers)\n",
    "\n",
    "\n",
    "    soup = BeautifulSoup(html.content) \n",
    "\n",
    "    articles = soup.find_all('div',attrs={'class':'media-body col-md'})\n",
    "    \n",
    "    \n",
    "    if page_num == 1:\n",
    "        first_articles = articles\n",
    "    else:\n",
    "        if articles == first_articles:\n",
    "            break    \n",
    "    \n",
    "    for article in articles:\n",
    "        date = article.find('div', attrs={'class':'date'}).text.lstrip()\n",
    "        title = article.find('a').text.lstrip().rstrip() \n",
    "        url = article.find('a').get('href')\n",
    "        \n",
    "        date = date.lstrip().rstrip().replace(',', '')    # remove starting and trailing whitespaces        \n",
    "        date = dateutil.parser.parse(date).date()\n",
    "        \n",
    "        \n",
    "        content = get_content_xom(url)\n",
    "        \n",
    "        if date < datetime(2014, 1, 1).date():\n",
    "            past_end_date = True\n",
    "            break\n",
    "            \n",
    "        pct_change = changes_from_press(stock_hist, date, 1)\n",
    "        \n",
    "        if pct_change != None:\n",
    "            index_price, norm_price = normalise_to_index(pct_change, date, index_hist)\n",
    "        else:\n",
    "            index_price, norm_price = (None, None)\n",
    "\n",
    "        data.append([str(date), title, content, url, pct_change, index_price, norm_price])\n",
    "    if past_end_date: break\n",
    "\n",
    "    page_num = page_num + 1\n",
    "    \n",
    "save_data(data, ticker, sector)"
   ]
  },
  {
   "cell_type": "code",
   "execution_count": 5,
   "id": "147812de",
   "metadata": {},
   "outputs": [
    {
     "data": {
      "text/plain": [
       "181"
      ]
     },
     "execution_count": 5,
     "metadata": {},
     "output_type": "execute_result"
    }
   ],
   "source": [
    "page_num"
   ]
  },
  {
   "cell_type": "code",
   "execution_count": null,
   "id": "6e6bc53d",
   "metadata": {},
   "outputs": [],
   "source": []
  }
 ],
 "metadata": {
  "kernelspec": {
   "display_name": "Python 3 (ipykernel)",
   "language": "python",
   "name": "python3"
  },
  "language_info": {
   "codemirror_mode": {
    "name": "ipython",
    "version": 3
   },
   "file_extension": ".py",
   "mimetype": "text/x-python",
   "name": "python",
   "nbconvert_exporter": "python",
   "pygments_lexer": "ipython3",
   "version": "3.9.16"
  }
 },
 "nbformat": 4,
 "nbformat_minor": 5
}
