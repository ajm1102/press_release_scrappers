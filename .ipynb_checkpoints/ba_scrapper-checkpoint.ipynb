{
 "cells": [
  {
   "cell_type": "code",
   "execution_count": 1,
   "id": "118f1263",
   "metadata": {},
   "outputs": [],
   "source": [
    "def changes_from_press(stock_data, press_date, period):\n",
    "    next_day = timedelta(days=1)\n",
    "    time_after_release = timedelta(days=period)\n",
    "    \n",
    "\n",
    "    next_trading_day = press_date\n",
    "    day_1_price = stock_data[stock_data['Date'] == press_date]['Open'].values\n",
    "\n",
    "    while not day_1_price:\n",
    "        next_trading_day = next_trading_day + next_day\n",
    "\n",
    "        day_1_price = stock_data[stock_data['Date'] == (next_trading_day)]['Open'].values\n",
    "\n",
    "    next_trading_day = next_trading_day + time_after_release\n",
    "    day_2_price = stock_data[stock_data['Date'] == (next_trading_day)]['Close'].values\n",
    "\n",
    "    while not day_2_price:\n",
    "        next_trading_day = next_trading_day + next_day\n",
    "\n",
    "        day_2_price = stock_data[stock_data['Date'] == (next_trading_day + next_day)]['Close'].values\n",
    "\n",
    "\n",
    "    pct_change = ((day_2_price - day_1_price) / day_2_price)*100\n",
    "    pct_change = pct_change[0]\n",
    "    return pct_change\n",
    "\n",
    "def get_df(ticker):\n",
    "    \n",
    "    stock_data = yf.Ticker(ticker)\n",
    "\n",
    "    # get historical market data\n",
    "    stock_hist = stock_data.history(period=\"max\")\n",
    "\n",
    "    stock_hist.reset_index(inplace=True)\n",
    "\n",
    "    stock_hist['Date'] = pd.to_datetime(stock_hist['Date']).dt.date\n",
    "\n",
    "    stock_hist['Pct_Close'] = stock_hist['Close'].pct_change()*100\n",
    "\n",
    "    return stock_hist"
   ]
  },
  {
   "cell_type": "code",
   "execution_count": 3,
   "id": "75110e69",
   "metadata": {},
   "outputs": [
    {
     "ename": "ModuleNotFoundError",
     "evalue": "No module named 'requests_html'",
     "output_type": "error",
     "traceback": [
      "\u001b[1;31m---------------------------------------------------------------------------\u001b[0m",
      "\u001b[1;31mModuleNotFoundError\u001b[0m                       Traceback (most recent call last)",
      "Cell \u001b[1;32mIn [3], line 9\u001b[0m\n\u001b[0;32m      6\u001b[0m \u001b[38;5;28;01mimport\u001b[39;00m \u001b[38;5;21;01mpandas\u001b[39;00m \u001b[38;5;28;01mas\u001b[39;00m \u001b[38;5;21;01mpd\u001b[39;00m\n\u001b[0;32m      7\u001b[0m \u001b[38;5;28;01mimport\u001b[39;00m \u001b[38;5;21;01mre\u001b[39;00m\n\u001b[1;32m----> 9\u001b[0m \u001b[38;5;28;01mfrom\u001b[39;00m \u001b[38;5;21;01mrequests_html\u001b[39;00m \u001b[38;5;28;01mimport\u001b[39;00m HTMLSession\n\u001b[0;32m     12\u001b[0m \u001b[38;5;28;01mimport\u001b[39;00m \u001b[38;5;21;01mnest_asyncio\u001b[39;00m\n\u001b[0;32m     17\u001b[0m data \u001b[38;5;241m=\u001b[39m []\n",
      "\u001b[1;31mModuleNotFoundError\u001b[0m: No module named 'requests_html'"
     ]
    }
   ],
   "source": [
    "import requests\n",
    "from bs4 import BeautifulSoup\n",
    "import yfinance as yf\n",
    "from datetime import datetime\n",
    "from datetime import timedelta\n",
    "import pandas as pd\n",
    "import re\n",
    "\n",
    "from requests_html import HTMLSession\n",
    "\n",
    "\n",
    "import nest_asyncio\n",
    "\n",
    "\n",
    "\n",
    "\n",
    "data = []\n",
    "\n",
    "\n",
    "ticker = 'ba'\n",
    "\n",
    "stock_hist = get_df(ticker)\n",
    "\n",
    "years = [2023, 2022, 2021, 2020, 2019, 2018, 2017, 2016, 2015, 2014, 2013, 2012, 2011]\n",
    "\n",
    "\n",
    "for year in years:\n",
    "\n",
    "    nest_asyncio.apply()\n",
    "\n",
    "    s = HTMLSession()\n",
    "    url=f'https://investors.boeing.com/investors/news/{year}/default.aspx'\n",
    "    r = s.get(url)\n",
    "    ht= r.text\n",
    "    soup = BeautifulSoup(ht) \n",
    "\n",
    "\n",
    "    press_statements = soup.find_all('span', {\"class\": \"ModuleHeadline\"})\n",
    "    dates = soup.find_all('span', {\"class\": \"ModuleDate\"})\n",
    "\n",
    "\n",
    "    dates = [datetime.strptime(x.text, \"%b %d, %Y\").date() for x in dates]\n",
    "    press_statements = [x.text for x in press_statements]\n",
    "    pct_changes = [changes_from_press(stock_hist, x, 1) for x in dates]\n",
    "\n",
    "    data.extend(list(map(list, zip(dates, press_statements, pct_changes))))\n",
    "\n",
    "        \n",
    "\n",
    "    \n",
    "data = pd.DataFrame(data, columns=['date', 'press title', '1d change'])"
   ]
  },
  {
   "cell_type": "code",
   "execution_count": 126,
   "id": "fc3044a1",
   "metadata": {},
   "outputs": [
    {
     "data": {
      "text/html": [
       "<div>\n",
       "<style scoped>\n",
       "    .dataframe tbody tr th:only-of-type {\n",
       "        vertical-align: middle;\n",
       "    }\n",
       "\n",
       "    .dataframe tbody tr th {\n",
       "        vertical-align: top;\n",
       "    }\n",
       "\n",
       "    .dataframe thead th {\n",
       "        text-align: right;\n",
       "    }\n",
       "</style>\n",
       "<table border=\"1\" class=\"dataframe\">\n",
       "  <thead>\n",
       "    <tr style=\"text-align: right;\">\n",
       "      <th></th>\n",
       "      <th>date</th>\n",
       "      <th>press title</th>\n",
       "      <th>1d change</th>\n",
       "    </tr>\n",
       "  </thead>\n",
       "  <tbody>\n",
       "    <tr>\n",
       "      <th>207</th>\n",
       "      <td>2020-03-16</td>\n",
       "      <td>Boeing Human Resources Leader to Depart Company</td>\n",
       "      <td>-20.364104</td>\n",
       "    </tr>\n",
       "  </tbody>\n",
       "</table>\n",
       "</div>"
      ],
      "text/plain": [
       "           date                                      press title  1d change\n",
       "207  2020-03-16  Boeing Human Resources Leader to Depart Company -20.364104"
      ]
     },
     "execution_count": 126,
     "metadata": {},
     "output_type": "execute_result"
    }
   ],
   "source": [
    "data[data['1d change'] == data['1d change'].min()]"
   ]
  },
  {
   "cell_type": "code",
   "execution_count": null,
   "id": "b9fab858",
   "metadata": {},
   "outputs": [],
   "source": []
  }
 ],
 "metadata": {
  "kernelspec": {
   "display_name": "Python 3 (ipykernel)",
   "language": "python",
   "name": "python3"
  },
  "language_info": {
   "codemirror_mode": {
    "name": "ipython",
    "version": 3
   },
   "file_extension": ".py",
   "mimetype": "text/x-python",
   "name": "python",
   "nbconvert_exporter": "python",
   "pygments_lexer": "ipython3",
   "version": "3.10.8"
  }
 },
 "nbformat": 4,
 "nbformat_minor": 5
}
