{
 "cells": [
  {
   "cell_type": "code",
   "execution_count": 1,
   "id": "2996c365",
   "metadata": {},
   "outputs": [],
   "source": [
    "import requests\n",
    "from bs4 import BeautifulSoup\n",
    "import yfinance as yf\n",
    "from datetime import datetime\n",
    "from datetime import timedelta\n",
    "import pandas as pd\n",
    "import json\n",
    "from selenium import webdriver\n",
    "from selenium.webdriver.common.by import By\n",
    "import time\n",
    "import dateutil.parser as dparser\n",
    "from functions import (get_sector, changes_from_press, hd_specfic,\n",
    "                       get_df, normalise_to_index, save_data)\n",
    "\n",
    "columns = ['date', 'press title', 'url', '1d change', 'index_price','norm_price']\n"
   ]
  },
  {
   "cell_type": "code",
   "execution_count": 2,
   "id": "f29cce15",
   "metadata": {},
   "outputs": [],
   "source": [
    "driver = webdriver.Firefox()\n",
    "\n",
    "data = []\n",
    "\n",
    "ticker = 'hd'\n",
    "\n",
    "sector = get_sector(ticker)\n",
    "\n",
    "index_ticker = '^GSPC'\n",
    "# select by value \n",
    "\n",
    "stock_hist = get_df(ticker)\n",
    "index_hist = get_df(index_ticker)\n",
    "current_year = datetime.now().year\n",
    "\n",
    "# create break\n",
    "while True:\n",
    "    \n",
    "    headers = {\"User-Agent\": \"Mozilla/5.0 (Windows NT 10.0; Win64; x64) AppleWebKit/537.36 (KHTML, like Gecko) Chrome/94.0.4606.81 Safari/537.36\"}\n",
    "    \n",
    "    s = requests.Session()\n",
    "    driver.get(f'https://ir.homedepot.com/news-releases/{current_year}')\n",
    "\n",
    "    while True:\n",
    "        try:\n",
    "            driver.find_element(By.ID, \"loadmore\").click()\n",
    "        except:\n",
    "            break\n",
    "\n",
    "    \n",
    "    time.sleep(2)\n",
    "    html = driver.page_source   \n",
    "\n",
    "    content = BeautifulSoup(html) \n",
    "    \n",
    "    table = content.find('tbody').find_all(\"tr\")\n",
    "\n",
    "    if current_year == 2013:\n",
    "        break\n",
    "\n",
    "   \n",
    "    for row in table:\n",
    "        date = row.find('th').text.lstrip().rstrip()\n",
    "        \n",
    "        title = row.find('a').text\n",
    "        url = row.find('a').get('href')\n",
    "        url = url.replace(' ', '%20')\n",
    "        url = f'https://ir.homedepot.com{url}'\n",
    "        date = date.replace('Date', '')\n",
    "        date = date.lstrip().rstrip()\n",
    "        \n",
    "        title = title.lstrip().rstrip() \n",
    "        \n",
    "        date = dparser.parse(date,fuzzy=False).date()\n",
    "\n",
    "        content = hd_specfic(url)\n",
    "        \n",
    "        pct_change = changes_from_press(stock_hist, date, 1)\n",
    "        if pct_change != None:\n",
    "            index_price, norm_price = normalise_to_index(pct_change, date, index_hist)\n",
    "        else:\n",
    "            index_price, norm_price = (None, None)\n",
    "\n",
    "        data.append([str(date), title, url, content, pct_change, index_price, norm_price])\n",
    "    current_year = current_year - 1\n",
    "\n",
    "driver.close()\n",
    "save_data(data, ticker, sector)"
   ]
  },
  {
   "cell_type": "code",
   "execution_count": 12,
   "id": "7575b366",
   "metadata": {},
   "outputs": [],
   "source": [
    "import urllib.request\n",
    "from bs4 import BeautifulSoup as bs\n",
    "\n",
    "\n",
    "user_agent = 'Mozilla/5.0 (Windows; U; Windows NT 5.1; en-US; rv:1.9.0.7) Gecko/2009021910 Firefox/3.0.7'\n",
    "\n",
    "headers = {'User-Agent':user_agent,} \n",
    "\n",
    "request = urllib.request.Request('https://ir.homedepot.com/news-releases/2023/05-30-2023-130237943', None, headers) #The assembled request\n",
    "response = urllib.request.urlopen(request)\n",
    "\n",
    "soup = bs(response, 'html.parser')\n",
    "content = soup.find('div', {'class': 'xn-content'})\n",
    "content = content.find('p').text"
   ]
  },
  {
   "cell_type": "code",
   "execution_count": 13,
   "id": "65bb8567",
   "metadata": {},
   "outputs": [
    {
     "data": {
      "text/plain": [
       "\"ATLANTA, May 30, 2023 /PRNewswire/ -- The Home Depot®, the world's largest home improvement retailer, announced today that it will hold its 2023 Investor and Analyst Conference on Tuesday, June 13, at 9 a.m. ET.\""
      ]
     },
     "execution_count": 13,
     "metadata": {},
     "output_type": "execute_result"
    }
   ],
   "source": [
    "content"
   ]
  },
  {
   "cell_type": "code",
   "execution_count": null,
   "id": "068ad5a4",
   "metadata": {},
   "outputs": [],
   "source": []
  }
 ],
 "metadata": {
  "kernelspec": {
   "display_name": "Python 3 (ipykernel)",
   "language": "python",
   "name": "python3"
  },
  "language_info": {
   "codemirror_mode": {
    "name": "ipython",
    "version": 3
   },
   "file_extension": ".py",
   "mimetype": "text/x-python",
   "name": "python",
   "nbconvert_exporter": "python",
   "pygments_lexer": "ipython3",
   "version": "3.10.8"
  }
 },
 "nbformat": 4,
 "nbformat_minor": 5
}
