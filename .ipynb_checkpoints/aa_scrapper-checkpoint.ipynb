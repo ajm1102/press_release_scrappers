{
 "cells": [
  {
   "cell_type": "code",
   "execution_count": 2,
   "id": "82412b81",
   "metadata": {},
   "outputs": [],
   "source": [
    "import requests\n",
    "from bs4 import BeautifulSoup\n",
    "import yfinance as yf\n",
    "from datetime import datetime\n",
    "from datetime import timedelta\n",
    "import pandas as pd\n",
    "\n",
    "import numpy as np\n",
    "from selenium import webdriver\n",
    "from selenium.webdriver.support.ui import Select\n",
    "from selenium.webdriver.common.by import By\n",
    "import time\n",
    "import re\n",
    "\n",
    "from functions import (get_sector, changes_from_press, get_content_header,\n",
    "                       get_df, normalise_to_index, save_data)"
   ]
  },
  {
   "cell_type": "code",
   "execution_count": 3,
   "id": "7109b5e2",
   "metadata": {},
   "outputs": [],
   "source": [
    "\n",
    "year = datetime.today().year\n",
    "\n",
    "driver = webdriver.Firefox()\n",
    "driver.get('https://news.alcoa.com/press-releases/default.aspx')\n",
    "\n",
    "data = []\n",
    "\n",
    "ticker = 'aa'\n",
    "sector = get_sector(ticker)\n",
    "\n",
    "index_ticker = '^GSPC'\n",
    "\n",
    "stock_hist = get_df(ticker)\n",
    "index_hist = get_df(index_ticker)\n",
    "\n",
    "year = datetime.today().year\n",
    "\n",
    "try:\n",
    "    driver.find_element(By.XPATH, '/html/body/div[1]/div[2]/div/div[2]/button[1]').click()\n",
    "except:\n",
    "    print('Accepted cookies')\n",
    "\n",
    "\n",
    "while True:\n",
    "\n",
    "    driver.find_element(By.ID, \"newsYear\")\n",
    "    \n",
    "    \n",
    "    select = Select(driver.find_element(By.ID, \"newsYear\"))\n",
    "    \n",
    "    if year == 2013:\n",
    "        break\n",
    "    \n",
    "    # select by value \n",
    "    select.select_by_value(str(year))\n",
    "   \n",
    "\n",
    "    time.sleep(2)\n",
    "\n",
    "    html = driver.page_source\n",
    "\n",
    "\n",
    "    soup = BeautifulSoup(html) \n",
    "\n",
    "    articles = soup.find_all('div',attrs={'class':'module_item'})\n",
    "    \n",
    "    for article in articles:\n",
    "        date = article.find('div', attrs={'class':'module_date-time'}).text.lstrip()\n",
    "        title = article.find('div', attrs={'class':'module_headline'}).text\n",
    "        \n",
    "        \n",
    "        date = date.lstrip().rstrip()    # remove starting and trailing whitespaces\n",
    "        title = title.lstrip().rstrip() \n",
    "        title = re.sub(\"\\s\\s+\", \" \", title)\n",
    "        date = datetime.strptime(date, '%m/%d/%Y').date()\n",
    "                \n",
    "        pct_change = changes_from_press(stock_hist, date, 1)\n",
    "        \n",
    "        url = article.find('a', {'class':'module_headline-link'}).get(\"href\")\n",
    "        \n",
    "        release_url = f'https://news.alcoa.com{url}'\n",
    "        content = get_content_header(release_url, 'meta', {'name': 'twitter:description'})\n",
    "        \n",
    "        if pct_change != None:\n",
    "            index_price, norm_price = normalise_to_index(pct_change, date, index_hist)\n",
    "        else:\n",
    "            index_price, norm_price = (None, None)\n",
    "\n",
    "        data.append([date, title, release_url, content, pct_change, index_price, norm_price])\n",
    "        \n",
    "    year = year - 1\n",
    "\n",
    "driver.close()\n",
    "\n",
    "save_data(data, ticker, sector)"
   ]
  },
  {
   "cell_type": "code",
   "execution_count": 5,
   "id": "e6330816",
   "metadata": {},
   "outputs": [],
   "source": [
    "import urllib.request\n",
    "\n",
    "from bs4 import BeautifulSoup as bs\n",
    "url = 'https://news.alcoa.com/press-releases/press-release-details/2023/Alcoa-Corporation-Reports-First-Quarter-2023-Results/default.aspx' # www.https://stackoverflow.com/questions/48262523/get-only-html-head-element-with-a-script-or-tool \n",
    "\n",
    "\n",
    "user_agent = 'Mozilla/5.0 (Windows; U; Windows NT 5.1; en-US; rv:1.9.0.7) Gecko/2009021910 Firefox/3.0.7'\n",
    "\n",
    "headers={'User-Agent':user_agent,} \n",
    "\n",
    "\n",
    "request = urllib.request.Request(url, None, headers) #The assembled request\n",
    "response = urllib.request.urlopen(request)\n",
    "\n",
    "\n",
    "soup = bs(response, 'html.parser')\n",
    "soup = soup.head\n",
    "\n",
    "x = soup.find('meta', attrs={'name': 'twitter:description'})['content']\n"
   ]
  },
  {
   "cell_type": "code",
   "execution_count": 15,
   "id": "deb2a403",
   "metadata": {},
   "outputs": [],
   "source": [
    "url = 'https://www.apple.com/newsroom/2023/05/apple-announces-multibillion-dollar-deal-with-broadcom/'\n",
    "\n",
    "user_agent = 'Mozilla/5.0 (Windows; U; Windows NT 5.1; en-US; rv:1.9.0.7) Gecko/2009021910 Firefox/3.0.7'\n",
    "\n",
    "headers = {'User-Agent':user_agent,} \n",
    "\n",
    "request = urllib.request.Request(url, None, headers) #The assembled request\n",
    "response = urllib.request.urlopen(request)\n",
    "\n",
    "soup = bs(response, 'html.parser')\n",
    "content = soup.find('div', attrs={'class':'pagebody-copy'}).text"
   ]
  },
  {
   "cell_type": "code",
   "execution_count": 16,
   "id": "e0ecde94",
   "metadata": {},
   "outputs": [
    {
     "data": {
      "text/plain": [
       "'Today Apple announced a new multiyear, multibillion-dollar agreement with Broadcom, a leading U.S. technology and advanced manufacturing company. Through this collaboration, Broadcom will develop 5G radio frequency components — including FBAR filters — and cutting-edge wireless connectivity components. The FBAR filters will be designed and built in several key American manufacturing and technology hubs,\\xa0including Fort Collins, Colorado, where Broadcom has a major facility.\\n'"
      ]
     },
     "execution_count": 16,
     "metadata": {},
     "output_type": "execute_result"
    }
   ],
   "source": [
    "content"
   ]
  },
  {
   "cell_type": "code",
   "execution_count": null,
   "id": "cb465ecf",
   "metadata": {},
   "outputs": [],
   "source": []
  }
 ],
 "metadata": {
  "kernelspec": {
   "display_name": "Python 3 (ipykernel)",
   "language": "python",
   "name": "python3"
  },
  "language_info": {
   "codemirror_mode": {
    "name": "ipython",
    "version": 3
   },
   "file_extension": ".py",
   "mimetype": "text/x-python",
   "name": "python",
   "nbconvert_exporter": "python",
   "pygments_lexer": "ipython3",
   "version": "3.10.8"
  }
 },
 "nbformat": 4,
 "nbformat_minor": 5
}
